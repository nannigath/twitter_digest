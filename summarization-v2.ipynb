{
 "cells": [
  {
   "cell_type": "code",
   "execution_count": 1,
   "id": "d6276d52-d33f-4b6a-aae3-2682df9eb8a7",
   "metadata": {},
   "outputs": [],
   "source": [
    "import os\n",
    "\n",
    "os.environ[\"LANGCHAIN_TRACING_V2\"] = \"true\""
   ]
  },
  {
   "cell_type": "code",
   "execution_count": 2,
   "id": "9621fd78",
   "metadata": {},
   "outputs": [],
   "source": [
    "import pandas as pd\n",
    "from langchain_community.document_loaders.telegram import text_to_docs\n"
   ]
  },
  {
   "cell_type": "code",
   "execution_count": 3,
   "id": "23154e97-c4cb-4bcb-a742-f0c9d06639da",
   "metadata": {},
   "outputs": [],
   "source": [
    "df = pd.read_csv('tweets_dec_19_25.csv')"
   ]
  },
  {
   "cell_type": "code",
   "execution_count": 4,
   "id": "4f3a18d8",
   "metadata": {},
   "outputs": [],
   "source": [
    "df['text'] = df['text'].fillna('').astype(str)\n",
    "df_new = df.groupby(\"thread_number\")[\"text\"].apply(\" \".join).reset_index().rename(columns={\"tweet\": \"combined_tweet\"})"
   ]
  },
  {
   "cell_type": "code",
   "execution_count": 6,
   "id": "26c105c5",
   "metadata": {},
   "outputs": [
    {
     "data": {
      "text/plain": [
       "0      I'm kinda puzzled out that I haven't seen an E...\n",
       "1      Every single active investment fund category u...\n",
       "2         Underperformed S&P too\\n\\nEvery. Single. Time.\n",
       "3      As we wrap up 2024, we're sharing an update on...\n",
       "4      Introducing Meta Video Seal: a state-of-the ar...\n",
       "                             ...                        \n",
       "803                                                     \n",
       "804    some of y'all have never managed a large team ...\n",
       "805    As most of you know I am very critical of anyo...\n",
       "806    Stanford's compact 47-minute course on the ess...\n",
       "807    【Anychatで使える！GoogleのGemini 2.0 Flash Thinking！...\n",
       "Name: text, Length: 808, dtype: object"
      ]
     },
     "execution_count": 6,
     "metadata": {},
     "output_type": "execute_result"
    }
   ],
   "source": [
    "df_new['text']"
   ]
  },
  {
   "cell_type": "code",
   "execution_count": 7,
   "id": "0621acbb",
   "metadata": {},
   "outputs": [],
   "source": [
    "tweets =  df_new['text'].to_list()\n",
    "tweets = [i for i in tweets if len(i)>20]"
   ]
  },
  {
   "cell_type": "code",
   "execution_count": null,
   "id": "7ff94755",
   "metadata": {},
   "outputs": [],
   "source": []
  },
  {
   "cell_type": "code",
   "execution_count": 9,
   "id": "f5e91192",
   "metadata": {},
   "outputs": [],
   "source": [
    "\n",
    "tweets = text_to_docs(str(tweets))"
   ]
  },
  {
   "cell_type": "code",
   "execution_count": 13,
   "id": "b1c639d9-b27c-4e71-9312-d2666b05f1e3",
   "metadata": {},
   "outputs": [],
   "source": [
    "from langchain_openai import ChatOpenAI\n",
    "api_key = 'sk-114521115729428b99606c747e4c1955'\n",
    "llm = ChatOpenAI(model=\"deepseek-chat\",api_key=api_key, openai_api_base='https://api.deepseek.com',temperature=0)"
   ]
  },
  {
   "cell_type": "code",
   "execution_count": 11,
   "id": "c9e1dcb9",
   "metadata": {},
   "outputs": [],
   "source": [
    "prompt_template = \"\"\"Your task is to generate a comprehensive and detailed weekly AI-focused newsletter based on the last 7 days of tweets curated from a list of Twitter accounts.\n",
    "\n",
    "### Inputs:\n",
    "- **Tweets List:**  \n",
    "  {context}\n",
    "\n",
    "- **Focus Areas:**  \n",
    "  * New Model Updates: Announcements about significant AI/ML models and advancements, including technical details, release highlights, and potential use cases.  \n",
    "  * Industry Buzz: Analysis of notable events, discussions, or trends in the AI industry, highlighting their implications and key stakeholders.  \n",
    "  * Product Launches: Detailed descriptions of new AI tools, APIs, or products, focusing on features, applications, and market impact.  \n",
    "  * Research Highlights: Summaries of key insights, groundbreaking papers, or innovative findings shared by the community, with explanations of their significance.  \n",
    "  * Community Contributions: Showcases of notable discussions, open-source contributions, or creative applications of AI, with a focus on their uniqueness and value.  \n",
    "\n",
    "### Task:\n",
    "Organize the tweets into relevant sections. Each section should:  \n",
    "- Begin with a clear, engaging heading.  \n",
    "- Include detailed bullet-point summaries for each tweet, providing additional context where possible.  \n",
    "- Explain the relevance or impact of the tweet's content.  \n",
    "- Include links to any referenced blog posts, papers, tutorials, or external resources mentioned in the tweets.  \n",
    "\n",
    "### Example Structure:\n",
    "**New Model Updates**  \n",
    "- [Tweet summary: Provide an in-depth explanation of the model update, its features, and its potential impact on the industry].  \n",
    "  *Link:* [Insert URL from the tweet].  \n",
    "\n",
    "**Industry Buzz**  \n",
    "- [Tweet summary: Analyze the event, trend, or discussion topic, including why it’s significant and who it involves].  \n",
    "  *Link:* [Insert URL from the tweet].  \n",
    "\n",
    "**Product Launches**  \n",
    "- [Tweet summary: Offer a detailed overview of the product/tool, its key features, and its potential applications].  \n",
    "  *Link:* [Insert URL from the tweet].  \n",
    "\n",
    "**Research Highlights**  \n",
    "- [Tweet summary: Summarize the findings, explain their relevance, and describe the possible implications].  \n",
    "  *Link:* [Insert URL from the tweet].  \n",
    "\n",
    "**Community Contributions**  \n",
    "- [Tweet summary: Highlight the creative or community-driven initiative, explaining its value and impact].  \n",
    "  *Link:* [Insert URL from the tweet].  \n",
    "\"\"\"\n"
   ]
  },
  {
   "cell_type": "code",
   "execution_count": 10,
   "id": "7dd8e5eb",
   "metadata": {},
   "outputs": [],
   "source": [
    "prompt_template_v2 = \"\"\"Your task is to generate a comprehensive and accurate weekly AI-focused newsletter based on the last 7 days of tweets curated from a list of Twitter accounts.\n",
    "\n",
    "### Inputs:\n",
    "- **Tweets List:**  \n",
    "  {context}\n",
    "\n",
    "### Focus Areas:  \n",
    "Organize the tweets into the following sections:  \n",
    "  * **New Model Updates:** Announcements about significant AI/ML models and advancements, including technical details, release highlights, and potential use cases.  \n",
    "  * **Industry Buzz:** Analysis of notable events, discussions, or trends in the AI industry, highlighting their implications and key stakeholders.  \n",
    "  * **Product Launches:** Descriptions of new AI tools, APIs, or products, focusing on features, applications, and market impact.  \n",
    "  * **Research Highlights:** Summaries of key insights, groundbreaking papers, or innovative findings shared by the community, with explanations of their significance.  \n",
    "  * **Community Contributions:** Showcases of notable discussions, open-source contributions, or creative applications of AI, with a focus on their uniqueness and value.\n",
    "\n",
    "### Task:  \n",
    "- Ensure each section includes:  \n",
    "  1. A clear, engaging heading.  \n",
    "  2. Bullet-point summaries of relevant tweets, providing context and explaining their significance.  \n",
    "  3. Links to referenced blog posts, papers, tutorials, or external resources mentioned in the tweets.  \n",
    "\n",
    "- **Important Notes:**  \n",
    "  1. If a tweet's content could fit into multiple sections, include it in the most relevant one and avoid redundancy.  \n",
    "  2. If no tweets are relevant to a section, skip that section entirely.  \n",
    "  3. Focus on clarity, relevance, and accuracy in your summaries.  \n",
    "  4. Highlight the most impactful tweets and omit minor or repetitive information.\n",
    "\n",
    "### Example Structure:  \n",
    "**New Model Updates**  \n",
    "- [Tweet summary: Provide an in-depth explanation of the model update, its features, and its potential impact on the industry].  \n",
    "  *Link:* [Insert URL from the tweet].\n",
    "\n",
    "**Industry Buzz**  \n",
    "- [Tweet summary: Analyze the event, trend, or discussion topic, including why it’s significant and who it involves].  \n",
    "  *Link:* [Insert URL from the tweet].\n",
    "\n",
    "**Product Launches**  \n",
    "- [Tweet summary: Offer a detailed overview of the product/tool, its key features, and its potential applications].  \n",
    "  *Link:* [Insert URL from the tweet].\n",
    "\n",
    "**Research Highlights**  \n",
    "- [Tweet summary: Summarize the findings, explain their relevance, and describe the possible implications].  \n",
    "  *Link:* [Insert URL from the tweet].\n",
    "\n",
    "**Community Contributions**  \n",
    "- [Tweet summary: Highlight the creative or community-driven initiative, explaining its value and impact].  \n",
    "  *Link:* [Insert URL from the tweet].\n",
    "\"\"\"\n"
   ]
  },
  {
   "cell_type": "code",
   "execution_count": 12,
   "id": "ef45585d",
   "metadata": {},
   "outputs": [
    {
     "name": "stderr",
     "output_type": "stream",
     "text": [
      "Failed to multipart ingest runs: langsmith.utils.LangSmithAuthError: Authentication failed for https://api.smith.langchain.com/runs/multipart. HTTPError('401 Client Error: Unauthorized for url: https://api.smith.langchain.com/runs/multipart', '{\"detail\":\"Invalid token\"}')trace=3cc39be9-205f-466b-ae30-fdb87ef01447,id=3cc39be9-205f-466b-ae30-fdb87ef01447; trace=3cc39be9-205f-466b-ae30-fdb87ef01447,id=3d5636c2-f274-480b-bd5d-1cef7e2e6390; trace=3cc39be9-205f-466b-ae30-fdb87ef01447,id=ebd51670-b85e-4a22-92ce-d38583bef3a5; trace=3cc39be9-205f-466b-ae30-fdb87ef01447,id=3e9ddc89-7dab-4c0d-abd9-d0b3f722ab1a; trace=3cc39be9-205f-466b-ae30-fdb87ef01447,id=241a9575-0bfb-415e-affe-04c7d70445ff; trace=3cc39be9-205f-466b-ae30-fdb87ef01447,id=d05a86a8-2f25-483a-a272-af820ca8d2e9\n"
     ]
    },
    {
     "name": "stdout",
     "output_type": "stream",
     "text": [
      "### **New Model Updates**  \n",
      "- **Meta's Llama Model Hits 650M Downloads:** Meta announced that Llama has been downloaded over 650 million times, doubling in just three months. This highlights the model's widespread adoption and its impact globally.  \n",
      "  *Link:* [https://go.fb.me/nf5b34](https://go.fb.me/nf5b34)  \n",
      "\n",
      "- **Meta Video Seal: Neural Video Watermarking Framework:** Meta introduced Meta Video Seal, a state-of-the-art framework for neural video watermarking. The model is available under a permissive license, alongside research papers and training code.  \n",
      "  *Link:* [https://go.fb.me/1ihqor](https://go.fb.me/1ihqor)  \n",
      "\n",
      "- **Google's Gemini 2.0 Flash Thinking:** Google released Gemini 2.0 Flash Thinking, an experimental model that shows its thought process while solving complex problems at high speeds. It’s now available in Google AI Studio.  \n",
      "  *Link:* [https://huggingface.co/spaces/akhaliq/anychat](https://huggingface.co/spaces/akhaliq/anychat)  \n",
      "\n",
      "- **OpenAI's o3 Model Achieves Superhuman Benchmarks:** OpenAI’s o3 model has achieved remarkable results on benchmarks like SWE-Bench (71.7%), Codeforces (2727), and ARC-AGI (87.5%). It’s a significant leap in reasoning and coding capabilities.  \n",
      "  *Link:* [https://github.com/arcprizeorg/model_baseline/tree/main/results/open_ai_o3_high_20241220](https://github.com/arcprizeorg/model_baseline/tree/main/results/open_ai_o3_high_20241220)  \n",
      "\n",
      "- **ModernBERT: A Modernized BERT for 2024:** ModernBERT, a revamped version of BERT, offers improved architecture, longer context length, and faster performance. It’s designed for retrieval, classification, and other practical tasks.  \n",
      "  *Link:* [https://huggingface.co/blog/modernbert](https://huggingface.co/blog/modernbert)  \n",
      "\n",
      "---\n",
      "\n",
      "### **Industry Buzz**  \n",
      "- **OpenAI's o3 Model Sparks AGI Debate:** OpenAI’s o3 model has reignited discussions about AGI, with some claiming it represents a significant step toward artificial general intelligence. The model’s performance on ARC-AGI and FrontierMath benchmarks has been particularly noteworthy.  \n",
      "  *Link:* [https://github.com/arcprizeorg/model_baseline/tree/main/results/open_ai_o3_high_20241220](https://github.com/arcprizeorg/model_baseline/tree/main/results/open_ai_o3_high_20241220)  \n",
      "\n",
      "- **Google vs. OpenAI: The Battle for AI Dominance:** Google’s Gemini 2.0 Flash Thinking has outperformed OpenAI’s models in several categories, including math and creative writing. This intensifies the competition between the two tech giants.  \n",
      "  *Link:* [https://huggingface.co/spaces/akhaliq/anychat](https://huggingface.co/spaces/akhaliq/anychat)  \n",
      "\n",
      "- **Meta’s Llama Model Adoption Surges:** Meta’s Llama model has seen exponential growth in downloads, reaching 650 million in just three months. This underscores the model’s popularity and its role in shaping the AI landscape.  \n",
      "  *Link:* [https://go.fb.me/nf5b34](https://go.fb.me/nf5b34)  \n",
      "\n",
      "---\n",
      "\n",
      "### **Product Launches**  \n",
      "- **Meta Video Seal: A New Era for Video Watermarking:** Meta’s Video Seal framework introduces advanced neural video watermarking, making it easier to protect video content. The release includes a research paper, training code, and inference code.  \n",
      "  *Link:* [https://go.fb.me/1ihqor](https://go.fb.me/1ihqor)  \n",
      "\n",
      "- **Gemini 2.0 Flash Thinking: Reasoning Made Visible:** Google’s Gemini 2.0 Flash Thinking model is designed to show its thought process while solving complex problems. It’s now available for developers to test in Google AI Studio.  \n",
      "  *Link:* [https://huggingface.co/spaces/akhaliq/anychat](https://huggingface.co/spaces/akhaliq/anychat)  \n",
      "\n",
      "- **ModernBERT: A Faster, More Efficient BERT:** ModernBERT, a modernized version of BERT, offers improved performance and longer context lengths. It’s designed for tasks like retrieval and classification, making it a versatile tool for AI applications.  \n",
      "  *Link:* [https://huggingface.co/blog/modernbert](https://huggingface.co/blog/modernbert)  \n",
      "\n",
      "---\n",
      "\n",
      "### **Research Highlights**  \n",
      "- **Meta’s Large Concept Models (LCM):** Meta’s LCM decouples reasoning from language representation, inspired by human thought processes. This new paradigm could lead to more efficient and interpretable language models.  \n",
      "  *Link:* [https://go.fb.me/mn2vvw](https://go.fb.me/mn2vvw)  \n",
      "\n",
      "- **OpenAI’s o3 Model: A Breakthrough in Reasoning:** OpenAI’s o3 model has achieved superhuman performance on several benchmarks, including ARC-AGI and FrontierMath. This represents a significant leap in AI reasoning capabilities.  \n",
      "  *Link:* [https://github.com/arcprizeorg/model_baseline/tree/main/results/open_ai_o3_high_20241220](https://github.com/arcprizeorg/model_baseline/tree/main/results/open_ai_o3_high_20241220)  \n",
      "\n",
      "- **FineMath: A New Open Math Dataset:** FineMath, a large open math dataset, has been released to improve LLM performance on mathematical tasks. It’s already showing significant gains on benchmarks like GSM8K and MATH.  \n",
      "  *Link:* [https://huggingface.co/datasets/finemath](https://huggingface.co/datasets/finemath)  \n",
      "\n",
      "---\n",
      "\n",
      "### **Community Contributions**  \n",
      "- **AnyChat: A Hub for LLM Dialogues:** AnyChat, a Hugging Face space, allows users to interact with dozens of popular LLMs for free. It’s a great resource for testing and comparing different models.  \n",
      "  *Link:* [https://huggingface.co/spaces/akhaliq/anychat](https://huggingface.co/spaces/akhaliq/anychat)  \n",
      "\n",
      "- **ModernBERT: Community-Driven Improvements:** ModernBERT, a community-driven update to BERT, offers faster and more efficient performance. It’s already being used in various applications, from retrieval to classification.  \n",
      "  *Link:* [https://huggingface.co/blog/modernbert](https://huggingface.co/blog/modernbert)  \n",
      "\n",
      "- **Gemini 2.0 Flash Thinking: Community Testing:** Google’s Gemini 2.0 Flash Thinking model is now available for community testing, allowing developers to explore its reasoning capabilities and provide feedback.  \n",
      "  *Link:* [https://huggingface.co/spaces/akhaliq/anychat](https://huggingface.co/spaces/akhaliq/anychat)  \n",
      "\n",
      "---\n",
      "\n",
      "This structured newsletter provides a comprehensive overview of the latest developments in AI, highlighting new models, industry trends, product launches, research breakthroughs, and community contributions. Each section is designed to engage readers with detailed summaries and relevant links for further exploration.\n"
     ]
    }
   ],
   "source": [
    "from langchain.chains.combine_documents import create_stuff_documents_chain\n",
    "from langchain.chains.llm import LLMChain\n",
    "from langchain_core.prompts import ChatPromptTemplate\n",
    "\n",
    "# Define prompt\n",
    "prompt = ChatPromptTemplate.from_messages(\n",
    "    [(\"system\",prompt_template)]\n",
    ")\n",
    "\n",
    "# Instantiate chain\n",
    "chain = create_stuff_documents_chain(llm, prompt)\n",
    "\n",
    "# Invoke chain\n",
    "result = chain.invoke({\"context\": tweets})\n",
    "print(result)"
   ]
  },
  {
   "cell_type": "code",
   "execution_count": 15,
   "id": "11d12172",
   "metadata": {},
   "outputs": [
    {
     "name": "stderr",
     "output_type": "stream",
     "text": [
      "Failed to multipart ingest runs: langsmith.utils.LangSmithAuthError: Authentication failed for https://api.smith.langchain.com/runs/multipart. HTTPError('401 Client Error: Unauthorized for url: https://api.smith.langchain.com/runs/multipart', '{\"detail\":\"Invalid token\"}')trace=a0e0dcff-18bd-4d59-a244-4280ce3b346a,id=a0e0dcff-18bd-4d59-a244-4280ce3b346a; trace=a0e0dcff-18bd-4d59-a244-4280ce3b346a,id=54fea1af-6b2e-4f6c-9ea9-f723b101fb4d; trace=a0e0dcff-18bd-4d59-a244-4280ce3b346a,id=5be43041-558c-4e00-85dd-3753871cd29c; trace=a0e0dcff-18bd-4d59-a244-4280ce3b346a,id=77cb60f8-7dc8-45df-a09c-aaa62da413cd; trace=a0e0dcff-18bd-4d59-a244-4280ce3b346a,id=e4d0e2e7-aed6-4259-a51c-50ad988eb072; trace=a0e0dcff-18bd-4d59-a244-4280ce3b346a,id=9d52d7f7-5e26-4aae-a663-0ebd007c472c\n"
     ]
    }
   ],
   "source": [
    "#v2 result\n",
    "from langchain.chains.combine_documents import create_stuff_documents_chain\n",
    "from langchain.chains.llm import LLMChain\n",
    "from langchain_core.prompts import ChatPromptTemplate\n",
    "\n",
    "# Define prompt\n",
    "prompt = ChatPromptTemplate.from_messages(\n",
    "    [(\"system\",prompt_template_v2)]\n",
    ")\n",
    "\n",
    "# Instantiate chain\n",
    "chain = create_stuff_documents_chain(llm, prompt)\n",
    "\n",
    "# Invoke chain\n",
    "result = chain.invoke({\"context\": tweets})\n"
   ]
  },
  {
   "cell_type": "code",
   "execution_count": 17,
   "id": "1b2ad135",
   "metadata": {},
   "outputs": [
    {
     "name": "stdout",
     "output_type": "stream",
     "text": [
      "### New Model Updates  \n",
      "- **Meta's Llama Model Hits 650M Downloads:** Meta announced that Llama has been downloaded over 650 million times, doubling in just three months. This highlights the model's widespread adoption and its impact on global AI development.  \n",
      "  *Link:* [Meta's Llama Update](https://go.fb.me/nf5b34)  \n",
      "\n",
      "- **Google Introduces Gemini 2.0 Flash Thinking:** Google unveiled Gemini 2.0 Flash Thinking, an experimental model that shows its thought process while solving complex problems. It’s designed for faster reasoning and is now available in Google AI Studio.  \n",
      "  *Link:* [Gemini 2.0 Flash Thinking](https://go.fb.me/1ihqor)  \n",
      "\n",
      "- **OpenAI's o3 Model Achieves Superhuman Benchmarks:** OpenAI's o3 model has achieved remarkable results on benchmarks like SWE-Bench (71.7%), Codeforces (2727), and ARC-AGI (87.5%). It’s a significant leap in reasoning and coding capabilities, with plans for early access in 2025.  \n",
      "  *Link:* [OpenAI o3 Announcement](https://huggingface.co/papers/2412.16720)  \n",
      "\n",
      "- **ModernBERT: A Modern Take on BERT:** ModernBERT, a revamped version of BERT, offers improved speed, accuracy, and context length (8192 tokens). It outperforms older BERT models and is optimized for tasks like retrieval and classification.  \n",
      "  *Link:* [ModernBERT Release](https://huggingface.co/blog/modernbert)  \n",
      "\n",
      "- **Qwen Releases QVQ for Visual Reasoning:** Qwen introduced QVQ, an open-weight model for visual reasoning, capable of interpreting images and following instructions dynamically. It’s a significant step in multimodal reasoning.  \n",
      "  *Link:* [QVQ Release](https://hf.co/papers/2412.15115)  \n",
      "\n",
      "---\n",
      "\n",
      "### Industry Buzz  \n",
      "- **AI Progress Slowing? Not So Fast:** A recent essay by AI Snake Oil discusses the narrative shift around AI scaling, arguing that progress is not slowing but rather shifting focus to inference-time compute and reasoning systems.  \n",
      "  *Link:* [AI Snake Oil Essay](https://aisnakeoil.com/p/is-ai-progress-slowing-down)  \n",
      "\n",
      "- **OpenAI's AGI Claims Spark Debate:** OpenAI's o3 model has been described as achieving AGI-like capabilities, with benchmarks like ARC-AGI and FrontierMath showing significant progress. However, the debate continues on whether these benchmarks truly represent AGI.  \n",
      "  *Link:* [OpenAI o3 Discussion](https://huggingface.co/papers/2412.16720)  \n",
      "\n",
      "- **Google vs. OpenAI: The Battle for AI Dominance:** Google's Gemini 2.0 Flash Thinking has outperformed OpenAI's models in several benchmarks, reigniting the competition between the two tech giants.  \n",
      "  *Link:* [Gemini 2.0 Flash Thinking](https://go.fb.me/1ihqor)  \n",
      "\n",
      "- **AI Agents Take Center Stage:** The rise of AI agents is transforming industries, with companies like OpenAI, Google, and Anthropic focusing on autonomous systems that can handle complex tasks.  \n",
      "  *Link:* [AI Agents Discussion](https://x.com/AtomSilverman/status/1869793620355629483)  \n",
      "\n",
      "---\n",
      "\n",
      "### Product Launches  \n",
      "- **Meta Video Seal: Neural Video Watermarking:** Meta introduced Video Seal, a state-of-the-art framework for neural video watermarking. The model is available under a permissive license, alongside research papers and training code.  \n",
      "  *Link:* [Meta Video Seal](https://go.fb.me/1ihqor)  \n",
      "\n",
      "- **Gradio's Slack and Discord Integration:** Gradio now allows users to create Slack apps, Discord bots, and website widgets with multimodal capabilities (text, image, video, audio). This makes AI integration into workflows easier than ever.  \n",
      "  *Link:* [Gradio Tutorial](https://gradio.app/main/guides/creating-a-slack-bot-from-a-gradio-app)  \n",
      "\n",
      "- **LlamaParse for Audio Files:** LlamaParse, a document parsing tool, now supports audio files, enabling users to extract text from customer support calls, podcasts, and more.  \n",
      "  *Link:* [LlamaParse Update](https://llamaindex.ai/blog/the-year-in-llamaindex-2024)  \n",
      "\n",
      "- **GeminiCoder: AI-Powered App Creation:** GeminiCoder allows users to create apps in seconds using prompts. It’s a powerful tool for rapid prototyping and development.  \n",
      "  *Link:* [GeminiCoder](https://hf.co/spaces/osanseviero/gemini-coder)  \n",
      "\n",
      "---\n",
      "\n",
      "### Research Highlights  \n",
      "- **Large Concept Models (LCM) by Meta:** Meta FAIR introduced Large Concept Models, a new paradigm for language modeling that decouples reasoning from language representation, inspired by human thought processes.  \n",
      "  *Link:* [LCM Research](https://go.fb.fb.me/mn2vvw)  \n",
      "\n",
      "- **Compressed Chain of Thought (CCoT):** A new framework for efficient reasoning through dense representations instead of long token sequences, improving the efficiency of reasoning tasks.  \n",
      "  *Link:* [CCoT Paper](https://arxiv.org/abs/2412.13171)  \n",
      "\n",
      "- **FineMath: Open Math Dataset:** FineMath, a new open math dataset with 50B+ tokens, has been released. Models trained on FineMath show significant gains on benchmarks like GSM8K and MATH.  \n",
      "  *Link:* [FineMath Release](https://huggingface.co/datasets/finemath)  \n",
      "\n",
      "- **MetaMorph: Multimodal Understanding and Generation:** MetaMorph is a new model that combines understanding and generation tasks, requiring minimal generation data to elicit strong performance.  \n",
      "  *Link:* [MetaMorph Paper](https://arxiv.org/abs/2412.14164)  \n",
      "\n",
      "---\n",
      "\n",
      "### Community Contributions  \n",
      "- **Hugging Face Paris Office Inauguration:** Hugging Face celebrated the opening of its new Paris office with a party, bringing together AI researchers and enthusiasts.  \n",
      "  *Link:* [Hugging Face Paris](https://x.com/huggingface/status/1869850519621251179)  \n",
      "\n",
      "- **ModernBERT Community Adoption:** The community has quickly adopted ModernBERT, with finetunes and applications already appearing on the Hugging Face Hub.  \n",
      "  *Link:* [ModernBERT on Hugging Face](https://huggingface.co/models?search=modernbert)  \n",
      "\n",
      "- **AI Hedge Fund Open Source Project:** An open-source AI hedge fund project has been released, featuring six agents for market data, quant analysis, and risk management.  \n",
      "  *Link:* [AI Hedge Fund](https://github.com/virattt/ai-hedge-fund)  \n",
      "\n",
      "- **AnyChat: Free LLM Dialog Platform:** AnyChat, a Hugging Face space, allows users to interact with dozens of popular LLMs for free, including Gemini 2.0 Flash Thinking.  \n",
      "  *Link:* [AnyChat](https://huggingface.co/spaces/akhaliq/anychat)  \n",
      "\n",
      "- **Jupyter Agents for Data Analysis:** Jupyter Agents enable LLMs to run data analysis directly in notebooks, making it easier to collaborate with AI on data tasks.  \n",
      "  *Link:* [Jupyter Agents](https://huggingface.co/spaces/data-agents/jupyter-agent)\n"
     ]
    }
   ],
   "source": [
    "print(result)"
   ]
  },
  {
   "cell_type": "markdown",
   "id": "92f2bc72",
   "metadata": {},
   "source": [
    "## MAP REDUCE"
   ]
  },
  {
   "cell_type": "code",
   "execution_count": null,
   "id": "21c338aa",
   "metadata": {},
   "outputs": [],
   "source": []
  },
  {
   "cell_type": "code",
   "execution_count": 15,
   "id": "a1e6773c",
   "metadata": {},
   "outputs": [],
   "source": [
    "from langchain_core.prompts import ChatPromptTemplate\n",
    "intermediate_prompt = \"\"\"Your task is to generate a concise summary of the following tweets related to AI from the past 7 days.\n",
    "\n",
    "### Inputs:\n",
    "- **Tweets Chunk:**  \n",
    "  {context}\n",
    "\n",
    "### Task:\n",
    "- Extract key points from the tweets.  \n",
    "- Focus on capturing the main ideas or highlights.  \n",
    "- Write the summary as simple bullet points.  \n",
    "\n",
    "### Example:\n",
    "- [Tweet summary: Explain the main idea briefly].  \n",
    "- [Tweet summary: Highlight any notable events, product updates, or advancements].  \n",
    "\"\"\"\n",
    "\n",
    "map_prompt = ChatPromptTemplate.from_messages(\n",
    "    [(\"system\", intermediate_prompt)]\n",
    ")"
   ]
  },
  {
   "cell_type": "markdown",
   "id": "bee3c331",
   "metadata": {},
   "source": [
    "### Reduce\n",
    "\n",
    "We also define a prompt that takes the document mapping results and reduces them into a single output."
   ]
  },
  {
   "cell_type": "code",
   "execution_count": 16,
   "id": "6a718890-99ab-439a-8f79-b9ae9c58ad24",
   "metadata": {},
   "outputs": [],
   "source": [
    "# Also available via the hub: `hub.pull(\"rlm/reduce-prompt\")`\n",
    "final_prompt = final_prompt = \"\"\"Your task is to generate a polished, comprehensive, and context-rich AI-focused weekly newsletter based on the intermediate summaries provided.\n",
    "\n",
    "### Inputs:\n",
    "- **Intermediate Summaries:**  \n",
    "  {intermediateSummaries}\n",
    "\n",
    "### Task:\n",
    "- Consolidate the bullet points into well-structured and coherent sections:  \n",
    "  1. **New Model Updates:** Combine and elaborate on announcements about significant AI/ML models, highlighting technical details, use cases, and industry impact.  \n",
    "  2. **Industry Buzz:** Summarize and analyze notable events, discussions, or trends, explaining their implications and relevance to the AI field.  \n",
    "  3. **Product Launches:** Detail new AI tools, APIs, or products, including features, potential applications, and market impact.  \n",
    "  4. **Research Highlights:** Provide context for groundbreaking papers, insights, or innovations, discussing their importance and future directions.  \n",
    "  5. **Community Contributions:** Highlight creative or community-driven initiatives, focusing on their uniqueness, practical value, and potential influence.  \n",
    "\n",
    "- Ensure the final summary:  \n",
    "  - Eliminates redundancies while preserving key information.  \n",
    "  - Highlights the most impactful and relevant points across all summaries.  \n",
    "  - Writes each section with clear and engaging headings.  \n",
    "  - Includes detailed bullet-point summaries for each key point.  \n",
    "  - References any mentioned blog posts, papers, or external resources with links.  \n",
    "\n",
    "### Example Output:\n",
    "**New Model Updates**  \n",
    "- [Detailed and consolidated explanation of model updates, including features, significance, and potential impact].  \n",
    "  *Link:* [Insert URL].  \n",
    "\n",
    "**Industry Buzz**  \n",
    "- [Detailed analysis of industry events or trends, explaining their relevance and key stakeholders].  \n",
    "  *Link:* [Insert URL].  \n",
    "\n",
    "**Product Launches**  \n",
    "- [Comprehensive overview of product/tool, its features, and market significance].  \n",
    "  *Link:* [Insert URL].  \n",
    "\n",
    "**Research Highlights**  \n",
    "- [Summary of research findings with context and future implications].  \n",
    "  *Link:* [Insert URL].  \n",
    "\n",
    "**Community Contributions**  \n",
    "- [Description of community-driven or creative initiatives, including their value and influence].  \n",
    "  *Link:* [Insert URL].  \n",
    "\"\"\"\n",
    "\n",
    "reduce_prompt = ChatPromptTemplate([(\"human\", final_prompt)])"
   ]
  },
  {
   "cell_type": "markdown",
   "id": "3d7df564-415a-49e2-80b6-743446b40be5",
   "metadata": {},
   "source": [
    "### Orchestration via LangGraph\n",
    "\n",
    "Below we implement a simple application that maps the summarization step on a list of documents, then reduces them using the above prompts.\n",
    "\n",
    "Map-reduce flows are particularly useful when texts are long compared to the context window of a LLM. For long texts, we need a mechanism that ensures that the context to be summarized in the reduce step does not exceed a model's context window size. Here we implement a recursive \"collapsing\" of the summaries: the inputs are partitioned based on a token limit, and summaries are generated of the partitions. This step is repeated until the total length of the summaries is within a desired limit, allowing for the summarization of arbitrary-length text.\n",
    "\n",
    "First we chunk the blog post into smaller \"sub documents\" to be mapped:"
   ]
  },
  {
   "cell_type": "code",
   "execution_count": 17,
   "id": "7821efb9-e1de-4234-84d2-75dfe13b5a6c",
   "metadata": {},
   "outputs": [
    {
     "name": "stdout",
     "output_type": "stream",
     "text": [
      "Generated 244 documents.\n"
     ]
    }
   ],
   "source": [
    "from langchain_text_splitters import CharacterTextSplitter\n",
    "\n",
    "text_splitter = CharacterTextSplitter.from_tiktoken_encoder(\n",
    "    chunk_size=10000, chunk_overlap=0\n",
    ")\n",
    "split_docs = text_splitter.split_documents(tweets)\n",
    "print(f\"Generated {len(split_docs)} documents.\")"
   ]
  },
  {
   "cell_type": "markdown",
   "id": "3e7f1c8a-070e-47f0-bcf2-16d6191051ac",
   "metadata": {},
   "source": [
    "Next, we define our graph. Note that we define an artificially low maximum token length of 1,000 tokens to illustrate the \"collapsing\" step."
   ]
  },
  {
   "cell_type": "code",
   "execution_count": 18,
   "id": "10ced55c-9e3e-404f-abe9-83ac29ffaa5a",
   "metadata": {},
   "outputs": [],
   "source": [
    "import operator\n",
    "from typing import Annotated, List, Literal, TypedDict\n",
    "\n",
    "from langchain.chains.combine_documents.reduce import (\n",
    "    acollapse_docs,\n",
    "    split_list_of_docs,\n",
    ")\n",
    "from langchain_core.documents import Document\n",
    "from langgraph.constants import Send\n",
    "from langgraph.graph import END, START, StateGraph\n",
    "\n",
    "token_max = 1000\n",
    "\n",
    "\n",
    "def length_function(documents: List[Document]) -> int:\n",
    "    \"\"\"Get number of tokens for input contents.\"\"\"\n",
    "    return sum(llm.get_num_tokens(doc.page_content) for doc in documents)\n",
    "\n",
    "\n",
    "# This will be the overall state of the main graph.\n",
    "# It will contain the input document contents, corresponding\n",
    "# summaries, and a final summary.\n",
    "class OverallState(TypedDict):\n",
    "    # Notice here we use the operator.add\n",
    "    # This is because we want combine all the summaries we generate\n",
    "    # from individual nodes back into one list - this is essentially\n",
    "    # the \"reduce\" part\n",
    "    contents: List[str]\n",
    "    summaries: Annotated[list, operator.add]\n",
    "    collapsed_summaries: List[Document]\n",
    "    final_summary: str\n",
    "\n",
    "\n",
    "# This will be the state of the node that we will \"map\" all\n",
    "# documents to in order to generate summaries\n",
    "class SummaryState(TypedDict):\n",
    "    content: str\n",
    "\n",
    "\n",
    "# Here we generate a summary, given a document\n",
    "async def generate_summary(state: SummaryState):\n",
    "    prompt = map_prompt.invoke(state[\"content\"])\n",
    "    response = await llm.ainvoke(prompt)\n",
    "    return {\"summaries\": [response.content]}\n",
    "\n",
    "\n",
    "# Here we define the logic to map out over the documents\n",
    "# We will use this an edge in the graph\n",
    "def map_summaries(state: OverallState):\n",
    "    # We will return a list of `Send` objects\n",
    "    # Each `Send` object consists of the name of a node in the graph\n",
    "    # as well as the state to send to that node\n",
    "    return [\n",
    "        Send(\"generate_summary\", {\"content\": content}) for content in state[\"contents\"]\n",
    "    ]\n",
    "\n",
    "\n",
    "def collect_summaries(state: OverallState):\n",
    "    return {\n",
    "        \"collapsed_summaries\": [Document(summary) for summary in state[\"summaries\"]]\n",
    "    }\n",
    "\n",
    "\n",
    "async def _reduce(input: dict) -> str:\n",
    "    prompt = reduce_prompt.invoke(input)\n",
    "    response = await llm.ainvoke(prompt)\n",
    "    return response.content\n",
    "\n",
    "\n",
    "# Add node to collapse summaries\n",
    "async def collapse_summaries(state: OverallState):\n",
    "    doc_lists = split_list_of_docs(\n",
    "        state[\"collapsed_summaries\"], length_function, token_max\n",
    "    )\n",
    "    results = []\n",
    "    for doc_list in doc_lists:\n",
    "        results.append(await acollapse_docs(doc_list, _reduce))\n",
    "\n",
    "    return {\"collapsed_summaries\": results}\n",
    "\n",
    "\n",
    "# This represents a conditional edge in the graph that determines\n",
    "# if we should collapse the summaries or not\n",
    "def should_collapse(\n",
    "    state: OverallState,\n",
    ") -> Literal[\"collapse_summaries\", \"generate_final_summary\"]:\n",
    "    num_tokens = length_function(state[\"collapsed_summaries\"])\n",
    "    if num_tokens > token_max:\n",
    "        return \"collapse_summaries\"\n",
    "    else:\n",
    "        return \"generate_final_summary\"\n",
    "\n",
    "\n",
    "# Here we will generate the final summary\n",
    "async def generate_final_summary(state: OverallState):\n",
    "    response = await _reduce(state[\"collapsed_summaries\"])\n",
    "    return {\"final_summary\": response}\n",
    "\n",
    "\n",
    "# Construct the graph\n",
    "# Nodes:\n",
    "graph = StateGraph(OverallState)\n",
    "graph.add_node(\"generate_summary\", generate_summary)  # same as before\n",
    "graph.add_node(\"collect_summaries\", collect_summaries)\n",
    "graph.add_node(\"collapse_summaries\", collapse_summaries)\n",
    "graph.add_node(\"generate_final_summary\", generate_final_summary)\n",
    "\n",
    "# Edges:\n",
    "graph.add_conditional_edges(START, map_summaries, [\"generate_summary\"])\n",
    "graph.add_edge(\"generate_summary\", \"collect_summaries\")\n",
    "graph.add_conditional_edges(\"collect_summaries\", should_collapse)\n",
    "graph.add_conditional_edges(\"collapse_summaries\", should_collapse)\n",
    "graph.add_edge(\"generate_final_summary\", END)\n",
    "\n",
    "app = graph.compile()"
   ]
  },
  {
   "cell_type": "markdown",
   "id": "f00af5d5-bfac-4c13-9439-aa0b18ac3b44",
   "metadata": {},
   "source": [
    "LangGraph allows the graph structure to be plotted to help visualize its function:"
   ]
  },
  {
   "cell_type": "code",
   "execution_count": 19,
   "id": "0c8d41e4-664d-46f4-94e9-248971d428a6",
   "metadata": {},
   "outputs": [
    {
     "data": {
      "image/png": "[encoded data removed]",
      "text/plain": [
       "<IPython.core.display.Image object>"
      ]
     },
     "execution_count": 19,
     "metadata": {},
     "output_type": "execute_result"
    }
   ],
   "source": [
    "from IPython.display import Image\n",
    "\n",
    "Image(app.get_graph().draw_mermaid_png())"
   ]
  },
  {
   "cell_type": "markdown",
   "id": "678c0200-32df-4faf-bc54-a4dd470f199c",
   "metadata": {},
   "source": [
    "When running the application, we can stream the graph to observe its sequence of steps. Below, we will simply print out the name of the step.\n",
    "\n",
    "Note that because we have a loop in the graph, it can be helpful to specify a [recursion_limit](https://langchain-ai.github.io/langgraph/reference/errors/#langgraph.errors.GraphRecursionError) on its execution. This will raise a specific error when the specified limit is exceeded."
   ]
  },
  {
   "cell_type": "code",
   "execution_count": null,
   "id": "b5e32a3c-f43e-4e18-a32d-466403afa844",
   "metadata": {},
   "outputs": [
    {
     "name": "stderr",
     "output_type": "stream",
     "text": [
      "Failed to multipart ingest runs: langsmith.utils.LangSmithAuthError: Authentication failed for https://api.smith.langchain.com/runs/multipart. HTTPError('401 Client Error: Unauthorized for url: https://api.smith.langchain.com/runs/multipart', '{\"detail\":\"Invalid token\"}')trace=9089956b-f335-44d3-a44d-fa99d2fe4514,id=9089956b-f335-44d3-a44d-fa99d2fe4514; trace=9089956b-f335-44d3-a44d-fa99d2fe4514,id=fc376c45-d22c-40dd-bffe-bfcf7a20a5f7; trace=9089956b-f335-44d3-a44d-fa99d2fe4514,id=79e8a195-48a0-473a-916b-0a3ece20e481; trace=9089956b-f335-44d3-a44d-fa99d2fe4514,id=871ff44e-ac13-43f5-ae27-44cd6fb67331; trace=9089956b-f335-44d3-a44d-fa99d2fe4514,id=077e5e53-6590-442d-8713-89edc7942dce; trace=9089956b-f335-44d3-a44d-fa99d2fe4514,id=8b5f4d2a-7cfd-4955-bec5-a55dd20ee99c; trace=9089956b-f335-44d3-a44d-fa99d2fe4514,id=e0b8e77b-725a-4257-96c0-16d587bd4904; trace=9089956b-f335-44d3-a44d-fa99d2fe4514,id=88f37f68-14cd-48c0-b0e1-ba85f6c666af; trace=221bbf5f-c80e-454e-9b30-258d559227bc,id=221bbf5f-c80e-454e-9b30-258d559227bc; trace=8afd0f7e-dce0-40db-bfc1-6ba57215a907,id=8afd0f7e-dce0-40db-bfc1-6ba57215a907; trace=5404eeb1-a7ba-468d-80ae-b68d1745a57b,id=5404eeb1-a7ba-468d-80ae-b68d1745a57b; trace=c034189e-fb71-4a1f-bf45-16b3e2bffeb6,id=c034189e-fb71-4a1f-bf45-16b3e2bffeb6; trace=e6d3a02d-bfe0-4987-86a3-79d0154bb7ec,id=e6d3a02d-bfe0-4987-86a3-79d0154bb7ec; trace=8d760288-ad2f-4982-9969-7f4eca6cf220,id=8d760288-ad2f-4982-9969-7f4eca6cf220; trace=831184a5-7bb8-4d46-b065-8d76760d2d5f,id=831184a5-7bb8-4d46-b065-8d76760d2d5f; trace=9089956b-f335-44d3-a44d-fa99d2fe4514,id=96052f0b-233a-4196-ace2-635b68e039f1; trace=9089956b-f335-44d3-a44d-fa99d2fe4514,id=f3610810-bcdd-477f-9298-de00d3351a09; trace=9089956b-f335-44d3-a44d-fa99d2fe4514,id=f77157c1-5a63-430b-8dd0-3ddb3c26fdc7; trace=9089956b-f335-44d3-a44d-fa99d2fe4514,id=10357583-eaba-4b70-9207-db3d1fa103d7; trace=9089956b-f335-44d3-a44d-fa99d2fe4514,id=30bbf8cd-2933-412d-9c15-c460ce42b720; trace=9089956b-f335-44d3-a44d-fa99d2fe4514,id=94382b60-4a65-4943-9327-abec2c78d08c; trace=087e940c-b192-443e-9bca-f089218ac3f2,id=087e940c-b192-443e-9bca-f089218ac3f2; trace=e618c01c-d222-4346-be6a-3ebf76bfbee3,id=e618c01c-d222-4346-be6a-3ebf76bfbee3; trace=fdf228a3-6d3c-46ea-8a44-20565a1bfb76,id=fdf228a3-6d3c-46ea-8a44-20565a1bfb76; trace=78d57f52-5d9c-4044-af34-c89301b4c2bf,id=78d57f52-5d9c-4044-af34-c89301b4c2bf; trace=de380080-90d2-48c0-aded-cb28a6f65b6f,id=de380080-90d2-48c0-aded-cb28a6f65b6f; trace=4cb57b19-d83c-4e8d-9dd3-1dff9a4f12b7,id=4cb57b19-d83c-4e8d-9dd3-1dff9a4f12b7; trace=56e2f95c-23d3-4469-80cd-5b2c2cab390b,id=56e2f95c-23d3-4469-80cd-5b2c2cab390b; trace=5387ac28-8080-4b04-9d80-65d86f93d5a8,id=5387ac28-8080-4b04-9d80-65d86f93d5a8; trace=187f2dde-c0b3-4a56-a469-38f85958b78b,id=187f2dde-c0b3-4a56-a469-38f85958b78b; trace=e84d6161-c9ba-4aa6-a468-6a0dd1a32e77,id=e84d6161-c9ba-4aa6-a468-6a0dd1a32e77; trace=bef7aee9-c2b4-4078-9080-379b67b73d76,id=bef7aee9-c2b4-4078-9080-379b67b73d76; trace=0a9b9a67-674f-4686-9b9c-a63385925387,id=0a9b9a67-674f-4686-9b9c-a63385925387; trace=9089956b-f335-44d3-a44d-fa99d2fe4514,id=70720e69-c5c4-43b7-9e8d-8b16859774fa; trace=9089956b-f335-44d3-a44d-fa99d2fe4514,id=fbaff9b7-acd8-4c28-9ac2-13186bf4c55d; trace=9089956b-f335-44d3-a44d-fa99d2fe4514,id=c5e5bbd5-7aa3-4803-8377-c72ee41fe49b; trace=9089956b-f335-44d3-a44d-fa99d2fe4514,id=a9a85c01-0eb9-43b4-970a-4b6164bdf122; trace=9089956b-f335-44d3-a44d-fa99d2fe4514,id=e79af91a-b49f-469e-a073-98320444e7db; trace=9089956b-f335-44d3-a44d-fa99d2fe4514,id=a109544f-fcb0-422a-80ce-3194469dd197; trace=926209b7-1506-467d-a899-912cfb68aaa5,id=926209b7-1506-467d-a899-912cfb68aaa5; trace=7cf5fbc1-7036-468f-ad86-70a6b518238c,id=7cf5fbc1-7036-468f-ad86-70a6b518238c; trace=eb8c2ff2-5588-453b-9b91-8ce9643dbe25,id=eb8c2ff2-5588-453b-9b91-8ce9643dbe25; trace=26b0225f-49ac-4084-b699-b39c1f27b95e,id=26b0225f-49ac-4084-b699-b39c1f27b95e; trace=5b0983dc-7c09-4607-b95c-1eb0706b28f8,id=5b0983dc-7c09-4607-b95c-1eb0706b28f8; trace=c555f106-8c8e-4bf6-b59c-28c74d80145b,id=c555f106-8c8e-4bf6-b59c-28c74d80145b; trace=da0e466c-5c5f-4ae0-b4d1-d9e053b6339a,id=da0e466c-5c5f-4ae0-b4d1-d9e053b6339a; trace=b6e9da54-010c-48d6-aa71-8021e3eb8171,id=b6e9da54-010c-48d6-aa71-8021e3eb8171; trace=158b3f59-0ffd-40fb-8a17-178483c26275,id=158b3f59-0ffd-40fb-8a17-178483c26275; trace=664f7847-96cd-44d2-80da-0e1aec7997a3,id=664f7847-96cd-44d2-80da-0e1aec7997a3; trace=3cde3cc1-a4b7-43b9-8eb5-0b0621bed71b,id=3cde3cc1-a4b7-43b9-8eb5-0b0621bed71b; trace=9089956b-f335-44d3-a44d-fa99d2fe4514,id=0fad200b-1a5e-4541-be7a-a99803edef25; trace=9089956b-f335-44d3-a44d-fa99d2fe4514,id=f939cc65-db61-4bd0-8eaf-eb5fe1f8b2f2; trace=9089956b-f335-44d3-a44d-fa99d2fe4514,id=61a08c0c-843b-4d6a-a009-65081979f63d; trace=9089956b-f335-44d3-a44d-fa99d2fe4514,id=6a6003dd-5d79-4674-bfcb-2d46958d5088; trace=9089956b-f335-44d3-a44d-fa99d2fe4514,id=68a12c51-77db-4c89-a761-fdbe46594981; trace=9089956b-f335-44d3-a44d-fa99d2fe4514,id=3dbcdac2-f63f-4eed-8dfd-a3645ea8b873; trace=d58853f9-194d-4091-b72e-06868d140568,id=d58853f9-194d-4091-b72e-06868d140568; trace=a1d76f96-b0bc-4b3e-90a9-133998c4e82c,id=a1d76f96-b0bc-4b3e-90a9-133998c4e82c; trace=8fa0f76f-4b6c-41c6-bfee-938a8e283a0d,id=8fa0f76f-4b6c-41c6-bfee-938a8e283a0d; trace=c7525fb4-121b-43ff-a60d-04ed8dbf7d57,id=c7525fb4-121b-43ff-a60d-04ed8dbf7d57; trace=aee611b0-c212-4317-af8c-03b9ab9d09fa,id=aee611b0-c212-4317-af8c-03b9ab9d09fa; trace=97592374-d76d-40a8-bc38-f4409d1a9594,id=97592374-d76d-40a8-bc38-f4409d1a9594; trace=85febd1d-dd1c-4311-a945-7dc102400c90,id=85febd1d-dd1c-4311-a945-7dc102400c90; trace=6b6e38f2-5c23-45a4-9cfe-2c47a6b99993,id=6b6e38f2-5c23-45a4-9cfe-2c47a6b99993; trace=53e1d680-2d05-4eb7-b9f7-dff3935aaa99,id=53e1d680-2d05-4eb7-b9f7-dff3935aaa99; trace=908a3b85-cbee-4ffd-a04a-854fea420801,id=908a3b85-cbee-4ffd-a04a-854fea420801; trace=4fc64510-e419-4029-a178-cec3962525b2,id=4fc64510-e419-4029-a178-cec3962525b2; trace=c39680c7-44d1-42fa-867d-c1b314a1fca2,id=c39680c7-44d1-42fa-867d-c1b314a1fca2; trace=9089956b-f335-44d3-a44d-fa99d2fe4514,id=97c9882c-a272-47f3-a5d1-c36631a6ec10; trace=9089956b-f335-44d3-a44d-fa99d2fe4514,id=8578b701-9d68-4556-929b-dc5b1dd47ada; trace=9089956b-f335-44d3-a44d-fa99d2fe4514,id=e0a9cd29-564d-4d17-819d-fae6b06d7a2d; trace=9089956b-f335-44d3-a44d-fa99d2fe4514,id=9871fc57-5e21-4588-8339-0435c67c4dfe; trace=9089956b-f335-44d3-a44d-fa99d2fe4514,id=415da74d-7a1b-41f8-be40-8f904adfab89; trace=a8f550da-0357-446b-a8c4-7d7832bf815e,id=a8f550da-0357-446b-a8c4-7d7832bf815e; trace=c07d481b-e78c-41d7-bb57-2e708e26cf31,id=c07d481b-e78c-41d7-bb57-2e708e26cf31\n",
      "Failed to multipart ingest runs: langsmith.utils.LangSmithAuthError: Authentication failed for https://api.smith.langchain.com/runs/multipart. HTTPError('401 Client Error: Unauthorized for url: https://api.smith.langchain.com/runs/multipart', '{\"detail\":\"Invalid token\"}')trace=9089956b-f335-44d3-a44d-fa99d2fe4514,id=d70dbfd3-a130-4dc9-878c-ff408a46bd7f; trace=9089956b-f335-44d3-a44d-fa99d2fe4514,id=0882f75d-2cc7-4024-859c-340b789d4b61; trace=9089956b-f335-44d3-a44d-fa99d2fe4514,id=c5163627-fee8-4843-b1c3-15fe2f3c8496; trace=9089956b-f335-44d3-a44d-fa99d2fe4514,id=ea7ecf25-401f-448a-b258-595dcc45524d; trace=9089956b-f335-44d3-a44d-fa99d2fe4514,id=ae5af112-c50b-42fb-a0cd-77a43f24e1dc; trace=9089956b-f335-44d3-a44d-fa99d2fe4514,id=061bb473-d487-4d88-bf98-2adce829bc22; trace=9089956b-f335-44d3-a44d-fa99d2fe4514,id=1684ec19-1e8f-45ae-a6b0-19a36f7e5fe5; trace=9089956b-f335-44d3-a44d-fa99d2fe4514,id=8f29849b-e86a-40e2-85ed-c0f820cf899e; trace=9089956b-f335-44d3-a44d-fa99d2fe4514,id=2c27d752-e9d7-4483-9fa8-29d22c4ba789; trace=9089956b-f335-44d3-a44d-fa99d2fe4514,id=44a529ae-69fe-4be1-9122-5c10585af72b; trace=9089956b-f335-44d3-a44d-fa99d2fe4514,id=5a6a5c68-1a78-4b80-8b36-acf3f990d188; trace=9089956b-f335-44d3-a44d-fa99d2fe4514,id=76b9ade4-5585-4daa-9948-4edb82584c86; trace=9089956b-f335-44d3-a44d-fa99d2fe4514,id=69fc95db-8b77-4682-b24b-eb24f4dce857; trace=9089956b-f335-44d3-a44d-fa99d2fe4514,id=1cd6b098-590d-4490-904c-3491a54afcb3; trace=9089956b-f335-44d3-a44d-fa99d2fe4514,id=4e98a184-8a15-46ef-94cc-9e37159409d7; trace=9089956b-f335-44d3-a44d-fa99d2fe4514,id=0dd60cf6-9288-4f68-8dde-59c9756424ab; trace=9089956b-f335-44d3-a44d-fa99d2fe4514,id=ec336933-e89f-482e-b181-6c15a28850a3; trace=9089956b-f335-44d3-a44d-fa99d2fe4514,id=35c39f69-dcca-4804-8161-dada582aaf50; trace=9089956b-f335-44d3-a44d-fa99d2fe4514,id=987cd78a-ac75-40af-9e96-b20b373c0c7c; trace=9089956b-f335-44d3-a44d-fa99d2fe4514,id=a8eeb74c-f29b-48ad-bdf1-7b21792b7f3e; trace=9089956b-f335-44d3-a44d-fa99d2fe4514,id=ed450816-5752-4ebb-92ac-28ff3dc94915; trace=9089956b-f335-44d3-a44d-fa99d2fe4514,id=b8ab80ac-ee4b-45d8-ab6e-0cc1f26124c0; trace=9089956b-f335-44d3-a44d-fa99d2fe4514,id=072c7760-20f4-4159-a4b3-54456f56344e; trace=9089956b-f335-44d3-a44d-fa99d2fe4514,id=a15e545c-025e-4292-8018-7ce1dc457af1; trace=9089956b-f335-44d3-a44d-fa99d2fe4514,id=67f2e22a-bbf6-4942-a2b7-69660ba73640; trace=9089956b-f335-44d3-a44d-fa99d2fe4514,id=dbc23133-5970-48c7-bea9-ccfb1ca5656e; trace=9089956b-f335-44d3-a44d-fa99d2fe4514,id=0ded9626-0d7d-4a43-a3ad-7925c14c906b; trace=9089956b-f335-44d3-a44d-fa99d2fe4514,id=6d16ab6f-99d0-4f77-9c96-173887a1feae; trace=9089956b-f335-44d3-a44d-fa99d2fe4514,id=a47767a4-3e45-4273-916f-6250e44493e2; trace=9089956b-f335-44d3-a44d-fa99d2fe4514,id=6e9590b9-5cad-4737-9c1c-4d1829df56fc; trace=9089956b-f335-44d3-a44d-fa99d2fe4514,id=7722e7bf-49f8-4fbb-a8b6-b6cd1f4d1971; trace=9089956b-f335-44d3-a44d-fa99d2fe4514,id=074fd7f3-57b7-4ede-bfa6-910a3fe7984e; trace=9089956b-f335-44d3-a44d-fa99d2fe4514,id=184da441-ee09-4f45-93ce-750bee31cb0b; trace=9089956b-f335-44d3-a44d-fa99d2fe4514,id=d3b21d7c-4485-45e3-809b-8ea739b7f38e; trace=9089956b-f335-44d3-a44d-fa99d2fe4514,id=fe94859a-770c-4621-b4af-06cf69d3a0ed; trace=9089956b-f335-44d3-a44d-fa99d2fe4514,id=ff056acf-a620-41d2-b8b2-2d06b1de0ab8; trace=9089956b-f335-44d3-a44d-fa99d2fe4514,id=28c613a7-e811-4541-8627-66c1f894f259; trace=9089956b-f335-44d3-a44d-fa99d2fe4514,id=889881bb-deb9-4914-8941-63ff28e61d99; trace=9089956b-f335-44d3-a44d-fa99d2fe4514,id=fee93add-bb70-4381-9c21-3eef260501e1; trace=9089956b-f335-44d3-a44d-fa99d2fe4514,id=5177182b-69b6-44a0-aee3-79f7c49bf573; trace=9089956b-f335-44d3-a44d-fa99d2fe4514,id=ca0c26e0-ba61-4d52-b244-5d9e0bddc5a7; trace=9089956b-f335-44d3-a44d-fa99d2fe4514,id=3fe18424-d156-4aae-ad91-6d62d1217fae; trace=9089956b-f335-44d3-a44d-fa99d2fe4514,id=582fb3d2-1cc5-4618-a73c-22814e25bf9a; trace=9089956b-f335-44d3-a44d-fa99d2fe4514,id=f88f7ca3-c915-40d9-bfdc-c18ec8fd0503; trace=9089956b-f335-44d3-a44d-fa99d2fe4514,id=85eaafba-2e5f-44f4-b986-2bc598d41d0a; trace=9089956b-f335-44d3-a44d-fa99d2fe4514,id=b6a1dd1d-21a4-4588-b85c-32baad36bcd7; trace=9089956b-f335-44d3-a44d-fa99d2fe4514,id=b61edc1d-db5b-4120-9e76-e6864cb721a3; trace=9089956b-f335-44d3-a44d-fa99d2fe4514,id=821cfe1f-b2ef-4cbd-9f99-f1a8bfd42392; trace=9089956b-f335-44d3-a44d-fa99d2fe4514,id=15bcf093-8a3d-4388-8500-1b8039a4ab17; trace=9089956b-f335-44d3-a44d-fa99d2fe4514,id=c757da58-ccd0-497b-a7fb-a81cbf1b1018; trace=9089956b-f335-44d3-a44d-fa99d2fe4514,id=46fd345d-06fa-4695-ab97-9b7e486ec1ce; trace=9089956b-f335-44d3-a44d-fa99d2fe4514,id=bc46b512-7858-442f-a296-4919628dc961; trace=9089956b-f335-44d3-a44d-fa99d2fe4514,id=cef01879-4c89-45fc-9ca1-b4c021957212; trace=9089956b-f335-44d3-a44d-fa99d2fe4514,id=7bf20584-1a2b-4b67-9edf-9b59ca10a5b2; trace=9089956b-f335-44d3-a44d-fa99d2fe4514,id=9b5570a5-41a8-49a3-ac8a-95c4e7519256; trace=9089956b-f335-44d3-a44d-fa99d2fe4514,id=51e27b17-da39-487d-99cf-72d1b2a4aa05; trace=9089956b-f335-44d3-a44d-fa99d2fe4514,id=e14a6e74-d3ea-4729-aaee-9ea8caf9c3af; trace=9089956b-f335-44d3-a44d-fa99d2fe4514,id=8f39594a-2979-4446-b24f-5af417704de2; trace=9089956b-f335-44d3-a44d-fa99d2fe4514,id=47c09ed1-7a80-405b-a797-7f11a504fbc0; trace=9089956b-f335-44d3-a44d-fa99d2fe4514,id=e98ecf40-67b2-4415-a8eb-b87b68515720; trace=9089956b-f335-44d3-a44d-fa99d2fe4514,id=fddb2880-defc-4a38-9462-71d79373ccac; trace=9089956b-f335-44d3-a44d-fa99d2fe4514,id=b0123ca6-b621-4096-9cdb-b9d9c54d77ae; trace=9089956b-f335-44d3-a44d-fa99d2fe4514,id=0764cc06-d4fd-4f4e-a25c-edda4022f268; trace=9089956b-f335-44d3-a44d-fa99d2fe4514,id=ee02d6de-0ace-4d04-817d-7a46dc5e79be; trace=9089956b-f335-44d3-a44d-fa99d2fe4514,id=a2784cb5-e99f-4bc2-92eb-6c005c7d44e1; trace=9089956b-f335-44d3-a44d-fa99d2fe4514,id=80af1941-a2f6-4e9d-8365-fb4fa4a66fea; trace=9089956b-f335-44d3-a44d-fa99d2fe4514,id=35dcdaba-884a-4469-8395-235328adf450; trace=9089956b-f335-44d3-a44d-fa99d2fe4514,id=88d12ae5-2847-435b-a0af-295e0474d124; trace=9089956b-f335-44d3-a44d-fa99d2fe4514,id=12b7a4d5-3f7a-48e5-ad91-f589e421d474; trace=9089956b-f335-44d3-a44d-fa99d2fe4514,id=6bb1d3d1-1bc4-4819-af5f-ac366ddd6db3; trace=9089956b-f335-44d3-a44d-fa99d2fe4514,id=7fab54a0-913f-43ef-b441-f422ef6fed7c; trace=9089956b-f335-44d3-a44d-fa99d2fe4514,id=3278f7bd-b78c-4b4c-a1c3-b0204270756e; trace=9089956b-f335-44d3-a44d-fa99d2fe4514,id=53ff1605-276d-4a6a-96dd-49b8d3dd74d1; trace=9089956b-f335-44d3-a44d-fa99d2fe4514,id=cb095d28-af3b-4abc-ae40-f67f3ef107d7; trace=9089956b-f335-44d3-a44d-fa99d2fe4514,id=9b643b64-2400-49b7-a018-ac173404629c; trace=9089956b-f335-44d3-a44d-fa99d2fe4514,id=f01d10fa-b55a-45a4-8505-8675ee5925b5; trace=9089956b-f335-44d3-a44d-fa99d2fe4514,id=5527dd69-83ce-4c1f-9128-ee90840da8d3; trace=9089956b-f335-44d3-a44d-fa99d2fe4514,id=ec4085ef-b2d3-413a-8401-5f06daac8b78; trace=9089956b-f335-44d3-a44d-fa99d2fe4514,id=57e6d39b-f1c9-438d-9546-7f010a69831a; trace=9089956b-f335-44d3-a44d-fa99d2fe4514,id=e69c2ddf-c934-4b80-8d12-801a9eeaed79; trace=9089956b-f335-44d3-a44d-fa99d2fe4514,id=4b1388ea-fa46-48b9-a3ee-25708a4e1e3d; trace=9089956b-f335-44d3-a44d-fa99d2fe4514,id=09efd2c5-0eda-465c-a08f-0e1db7bf91b1; trace=9089956b-f335-44d3-a44d-fa99d2fe4514,id=caee3325-f640-41e2-be44-b73b285cac9b; trace=9089956b-f335-44d3-a44d-fa99d2fe4514,id=a1110771-c217-4456-8c1a-c92c2d6401be; trace=9089956b-f335-44d3-a44d-fa99d2fe4514,id=bccdf877-8ce4-4117-8b43-7b105f05ce0a; trace=9089956b-f335-44d3-a44d-fa99d2fe4514,id=007548d8-e158-4591-adbb-6dbf53cf6006; trace=9089956b-f335-44d3-a44d-fa99d2fe4514,id=dd4f497b-cd9e-417d-862c-4a221bcd0a0a; trace=9089956b-f335-44d3-a44d-fa99d2fe4514,id=b0bcb013-8276-4acc-9eff-721b0ca841ec; trace=9089956b-f335-44d3-a44d-fa99d2fe4514,id=7affcb3d-db7b-4ba8-a81e-65a56dd05b68; trace=9089956b-f335-44d3-a44d-fa99d2fe4514,id=1a907fec-b0d8-4ef1-a553-e3eb0b7198b5; trace=9089956b-f335-44d3-a44d-fa99d2fe4514,id=9897e465-ddc2-4f38-8570-796aac292a11; trace=9089956b-f335-44d3-a44d-fa99d2fe4514,id=679f1ed9-5c5a-4b20-913d-bc720afe5ade; trace=9089956b-f335-44d3-a44d-fa99d2fe4514,id=f17203e3-39f5-4c80-a867-9f03076efd54; trace=9089956b-f335-44d3-a44d-fa99d2fe4514,id=44d75333-bbd7-4f0f-baa6-6b65caef1d40; trace=9089956b-f335-44d3-a44d-fa99d2fe4514,id=6aee6c6f-c8ce-4c45-8b92-d4a315045e79; trace=9089956b-f335-44d3-a44d-fa99d2fe4514,id=625a599b-3a7e-42c4-b37f-4feb75c3f975; trace=9089956b-f335-44d3-a44d-fa99d2fe4514,id=c313c8d2-9c3d-4d83-9f85-9a48448c99c1; trace=9089956b-f335-44d3-a44d-fa99d2fe4514,id=bb449a60-abfa-43a4-92ef-baaced788c7e; trace=9089956b-f335-44d3-a44d-fa99d2fe4514,id=65094ac1-02b9-423c-8d1b-0f01914909ef; trace=9089956b-f335-44d3-a44d-fa99d2fe4514,id=9cd12ada-775b-4138-93ae-aca97e417a70\n"
     ]
    },
    {
     "name": "stderr",
     "output_type": "stream",
     "text": [
      "Failed to multipart ingest runs: langsmith.utils.LangSmithAuthError: Authentication failed for https://api.smith.langchain.com/runs/multipart. HTTPError('401 Client Error: Unauthorized for url: https://api.smith.langchain.com/runs/multipart', '{\"detail\":\"Invalid token\"}')trace=9089956b-f335-44d3-a44d-fa99d2fe4514,id=ea33a5cb-ac58-4bb3-9494-8b9afda35ead; trace=9089956b-f335-44d3-a44d-fa99d2fe4514,id=ddc647b9-2b2e-47c9-ae89-8c58d62bc026; trace=9089956b-f335-44d3-a44d-fa99d2fe4514,id=7214f759-7fca-4a98-8e95-bba3f5ef65dd; trace=9089956b-f335-44d3-a44d-fa99d2fe4514,id=93e58fec-12a4-4c21-a061-23477c307fcb; trace=9089956b-f335-44d3-a44d-fa99d2fe4514,id=4cf33dcb-6403-4b9e-8497-3eb498fc6e15; trace=9089956b-f335-44d3-a44d-fa99d2fe4514,id=dfb015da-164a-4527-ae29-fbb933988c4b; trace=9089956b-f335-44d3-a44d-fa99d2fe4514,id=0e460e36-8bbf-4621-b93e-bd8b65dd85f0; trace=9089956b-f335-44d3-a44d-fa99d2fe4514,id=2e232e86-7036-45cc-8253-f8575c9d2afd; trace=9089956b-f335-44d3-a44d-fa99d2fe4514,id=5bff83d4-9aa2-4ab1-9f8b-c4e8e6a9df86; trace=9089956b-f335-44d3-a44d-fa99d2fe4514,id=f16443e4-dc50-4f88-831e-8f815f138663; trace=9089956b-f335-44d3-a44d-fa99d2fe4514,id=a2d385a2-404f-4658-9a6e-154ce4605a96; trace=9089956b-f335-44d3-a44d-fa99d2fe4514,id=214a6635-89d8-4273-856c-700a3b72ddff; trace=9089956b-f335-44d3-a44d-fa99d2fe4514,id=c5b14f4b-29d4-45d3-9ee1-32450ae40f44; trace=9089956b-f335-44d3-a44d-fa99d2fe4514,id=17d024f1-823d-4601-b520-c9763ff45b3a; trace=9089956b-f335-44d3-a44d-fa99d2fe4514,id=04e57fda-a3f0-4257-be2b-3de15dc7d0d4; trace=9089956b-f335-44d3-a44d-fa99d2fe4514,id=2385080d-af84-40ec-8dee-debfc0eef924; trace=9089956b-f335-44d3-a44d-fa99d2fe4514,id=d2006595-e889-4a8b-a757-f0f0500a0c66; trace=9089956b-f335-44d3-a44d-fa99d2fe4514,id=b762330d-a09d-4419-8cb7-a3dd46e58724; trace=9089956b-f335-44d3-a44d-fa99d2fe4514,id=001e7911-013d-4bb0-95e3-e584d4d3da25; trace=9089956b-f335-44d3-a44d-fa99d2fe4514,id=1907273a-5d96-4bc9-9478-9e3f49f3a74a; trace=9089956b-f335-44d3-a44d-fa99d2fe4514,id=7d579543-388d-49c1-9360-45beddd8338e; trace=9089956b-f335-44d3-a44d-fa99d2fe4514,id=c92c7b6e-5b37-47dd-8b2e-476e9097aad2; trace=9089956b-f335-44d3-a44d-fa99d2fe4514,id=4498f763-9f1f-4f63-82c0-326863fd94a7; trace=9089956b-f335-44d3-a44d-fa99d2fe4514,id=bbb79b21-f403-41b9-a881-15ea75291475; trace=9089956b-f335-44d3-a44d-fa99d2fe4514,id=58b329db-9462-4bd1-90a7-7418e3538e70; trace=9089956b-f335-44d3-a44d-fa99d2fe4514,id=4081d57e-b17a-4b57-9963-b15d3b9a7ba6; trace=9089956b-f335-44d3-a44d-fa99d2fe4514,id=e7399147-afee-4f03-8e5a-527550bdcb75; trace=9089956b-f335-44d3-a44d-fa99d2fe4514,id=93b5af42-b829-4fe8-905e-978d64073143; trace=9089956b-f335-44d3-a44d-fa99d2fe4514,id=155aec71-f834-4528-b403-09d4d99a6284; trace=9089956b-f335-44d3-a44d-fa99d2fe4514,id=1b3a175e-5bda-4e9e-a67c-725e2f474bc9; trace=9089956b-f335-44d3-a44d-fa99d2fe4514,id=2b6ea3a7-2964-442c-ab06-ae952a096085; trace=9089956b-f335-44d3-a44d-fa99d2fe4514,id=90e6ab02-1b28-44c7-84f6-416619fe48ff; trace=9089956b-f335-44d3-a44d-fa99d2fe4514,id=532724bd-6304-43b5-8dcd-2a263440c1a2; trace=9089956b-f335-44d3-a44d-fa99d2fe4514,id=695e386c-6840-4ecd-9d7f-2f70907f2fab; trace=9089956b-f335-44d3-a44d-fa99d2fe4514,id=95e1cafc-d4d5-4c53-a851-ed066ee87722; trace=9089956b-f335-44d3-a44d-fa99d2fe4514,id=d44aa0df-9b69-45f9-b5f4-947d5fb37eba; trace=9089956b-f335-44d3-a44d-fa99d2fe4514,id=abd433c6-9a8f-49d7-9b05-0a1d8f82ef9a; trace=9089956b-f335-44d3-a44d-fa99d2fe4514,id=75e8e098-5071-4eb0-8b66-3403cb413d39; trace=9089956b-f335-44d3-a44d-fa99d2fe4514,id=079cbacd-48f1-437d-b919-45967ca39a63; trace=9089956b-f335-44d3-a44d-fa99d2fe4514,id=8ea3a18e-3e5d-47bc-a581-71ec664eb201; trace=9089956b-f335-44d3-a44d-fa99d2fe4514,id=b7ca9234-891d-4dec-9157-f080bca63319; trace=9089956b-f335-44d3-a44d-fa99d2fe4514,id=02e79081-4846-47b0-96ea-b0b1c3679bff; trace=9089956b-f335-44d3-a44d-fa99d2fe4514,id=b704e6a7-b22a-40fb-92f1-7835eceb797f; trace=9089956b-f335-44d3-a44d-fa99d2fe4514,id=eb7e808f-c038-4002-aaf8-9e52dafac7a4; trace=9089956b-f335-44d3-a44d-fa99d2fe4514,id=8a2ec907-d6a0-4257-b98c-be41f00b0045; trace=9089956b-f335-44d3-a44d-fa99d2fe4514,id=dd43d763-b703-4784-a273-43bc9ad04984; trace=9089956b-f335-44d3-a44d-fa99d2fe4514,id=c739f642-fd14-47d1-bb8c-f193cac68e6f; trace=9089956b-f335-44d3-a44d-fa99d2fe4514,id=3953ec59-00cf-4588-87d9-6d7d9c3f68a6; trace=9089956b-f335-44d3-a44d-fa99d2fe4514,id=32266777-a4fc-423f-a671-c1d95fc62bcc; trace=9089956b-f335-44d3-a44d-fa99d2fe4514,id=3d1604c0-d2e1-42c0-8418-cb0874b1b886; trace=9089956b-f335-44d3-a44d-fa99d2fe4514,id=d1cc04f7-304c-4e62-b0e6-8d079bafc306; trace=9089956b-f335-44d3-a44d-fa99d2fe4514,id=638d5499-9a3a-4e73-91bc-3e6d64a1f240; trace=9089956b-f335-44d3-a44d-fa99d2fe4514,id=803c162b-4766-4a99-aec1-021129c43213; trace=9089956b-f335-44d3-a44d-fa99d2fe4514,id=6cf3dc70-6f41-4254-9ad3-5c4e4b547684; trace=9089956b-f335-44d3-a44d-fa99d2fe4514,id=5db9bf44-4c09-425c-9cf4-efa1a5efad11; trace=9089956b-f335-44d3-a44d-fa99d2fe4514,id=a1107c97-f0bc-480e-a70f-ba6536da86b1; trace=9089956b-f335-44d3-a44d-fa99d2fe4514,id=9905aac5-52b6-494a-894d-749e711ed1fc; trace=9089956b-f335-44d3-a44d-fa99d2fe4514,id=03a4756a-44ae-4850-93de-1d1f07bc3140; trace=9089956b-f335-44d3-a44d-fa99d2fe4514,id=792886b6-a815-4bea-8def-2b28163a3386; trace=9089956b-f335-44d3-a44d-fa99d2fe4514,id=c3d6af44-3bcc-42f9-b007-0c3414a26254; trace=9089956b-f335-44d3-a44d-fa99d2fe4514,id=5e0c69af-4975-4ef6-92e3-e3e9bdeba411; trace=9089956b-f335-44d3-a44d-fa99d2fe4514,id=a96c65ae-b205-4236-b9d8-a0928908a524; trace=9089956b-f335-44d3-a44d-fa99d2fe4514,id=fa5e83d6-380b-4574-ae43-1959a7d8d041; trace=9089956b-f335-44d3-a44d-fa99d2fe4514,id=f9a15cbe-79a4-47e5-9ef7-f8e048d73dd7; trace=9089956b-f335-44d3-a44d-fa99d2fe4514,id=b3495861-4872-4ad4-8827-36b5de51a0cc; trace=9089956b-f335-44d3-a44d-fa99d2fe4514,id=89d40b6b-cf6b-4077-9fec-ca72379c7aac; trace=9089956b-f335-44d3-a44d-fa99d2fe4514,id=b7296318-1d8d-41a1-a8c4-70542846fe42; trace=9089956b-f335-44d3-a44d-fa99d2fe4514,id=d02b9185-b0b7-46c3-9eae-13539a138c27; trace=9089956b-f335-44d3-a44d-fa99d2fe4514,id=f6e15e1f-f8de-4f2a-8816-a36cb174e295; trace=9089956b-f335-44d3-a44d-fa99d2fe4514,id=c7c2bd0b-0b72-48d0-8d3e-cf479fe55808; trace=9089956b-f335-44d3-a44d-fa99d2fe4514,id=501105be-4545-45e7-ba4b-9019811f674d; trace=9089956b-f335-44d3-a44d-fa99d2fe4514,id=464cb458-f09d-48db-a4f5-8dd18a69208c; trace=9089956b-f335-44d3-a44d-fa99d2fe4514,id=4e77438a-6e6b-450a-90e7-32c28becb349; trace=9089956b-f335-44d3-a44d-fa99d2fe4514,id=71cc6ab6-214f-49b8-851c-037f36efe139; trace=9089956b-f335-44d3-a44d-fa99d2fe4514,id=4b8efb36-5e43-4c90-a7d3-5a9f95372268; trace=9089956b-f335-44d3-a44d-fa99d2fe4514,id=240a96c5-2ed1-4fe2-9a61-6067946b3a4b; trace=9089956b-f335-44d3-a44d-fa99d2fe4514,id=7d342086-6951-41a0-a138-6dfe16ef6abf; trace=9089956b-f335-44d3-a44d-fa99d2fe4514,id=4460bf54-9ba6-4664-b6e0-83484add3219; trace=9089956b-f335-44d3-a44d-fa99d2fe4514,id=6d3a5f28-92a4-4a94-b32f-df5132767a14; trace=9089956b-f335-44d3-a44d-fa99d2fe4514,id=5953f1c4-9fe5-40ce-9c7a-d829fccbac9a; trace=9089956b-f335-44d3-a44d-fa99d2fe4514,id=727dac60-50c7-415d-85f5-24b2310e81e2; trace=9089956b-f335-44d3-a44d-fa99d2fe4514,id=fcd24430-aae6-4694-91c5-a9f2b1c559c9; trace=9089956b-f335-44d3-a44d-fa99d2fe4514,id=2b0aebcb-d824-48a9-ab3d-999de0a8a5ef; trace=9089956b-f335-44d3-a44d-fa99d2fe4514,id=6d44cf40-ea25-415e-bfa2-bc2c493e8942; trace=9089956b-f335-44d3-a44d-fa99d2fe4514,id=7dfd3375-35c9-4e62-b966-290dfe9f1227; trace=9089956b-f335-44d3-a44d-fa99d2fe4514,id=b276ad74-eeb1-430e-b80d-291b4023c19f; trace=9089956b-f335-44d3-a44d-fa99d2fe4514,id=244e12f1-263a-429e-aa28-e5fbbe5e1938; trace=9089956b-f335-44d3-a44d-fa99d2fe4514,id=22741697-fd15-4d20-97fd-1a93459cc0c6; trace=9089956b-f335-44d3-a44d-fa99d2fe4514,id=904eb342-0c70-4918-af8d-64ad9f9136c4; trace=9089956b-f335-44d3-a44d-fa99d2fe4514,id=167431bc-71c8-4059-94e8-3a645f669331; trace=9089956b-f335-44d3-a44d-fa99d2fe4514,id=eb86b576-8891-49f1-a4cf-3348af1d18c1; trace=9089956b-f335-44d3-a44d-fa99d2fe4514,id=4d108e62-7841-4a00-bb40-fd3ce6aba483; trace=9089956b-f335-44d3-a44d-fa99d2fe4514,id=af872c48-d807-4900-b550-58900a8716d9; trace=9089956b-f335-44d3-a44d-fa99d2fe4514,id=5c008c0b-b21a-472b-a7db-2f3eae231eb9; trace=9089956b-f335-44d3-a44d-fa99d2fe4514,id=92ef7013-8321-4068-b4c7-4db9cfef504f; trace=9089956b-f335-44d3-a44d-fa99d2fe4514,id=48fc6776-bf31-4e51-9d35-1da3bf23368a; trace=9089956b-f335-44d3-a44d-fa99d2fe4514,id=86dc45fe-be54-4ce6-be3b-d97c99c4af84; trace=9089956b-f335-44d3-a44d-fa99d2fe4514,id=249895d2-acd2-4976-bba1-c731a37b67b5; trace=9089956b-f335-44d3-a44d-fa99d2fe4514,id=ce3aeba9-50cb-40c5-878a-c8ef348cd0b3; trace=9089956b-f335-44d3-a44d-fa99d2fe4514,id=bb4a1c00-3ad7-4d48-b2dd-93762477c4a8\n"
     ]
    },
    {
     "name": "stderr",
     "output_type": "stream",
     "text": [
      "Failed to multipart ingest runs: langsmith.utils.LangSmithAuthError: Authentication failed for https://api.smith.langchain.com/runs/multipart. HTTPError('401 Client Error: Unauthorized for url: https://api.smith.langchain.com/runs/multipart', '{\"detail\":\"Invalid token\"}')trace=9089956b-f335-44d3-a44d-fa99d2fe4514,id=fd5658da-f03d-4f60-91b0-0da23b58dc01; trace=9089956b-f335-44d3-a44d-fa99d2fe4514,id=70460e5d-1091-42a4-b831-400853a671ba; trace=9089956b-f335-44d3-a44d-fa99d2fe4514,id=483f1c06-052a-4db0-8a3a-e485b89c7fee; trace=9089956b-f335-44d3-a44d-fa99d2fe4514,id=3d9ad0a4-6ec7-414d-8414-05980f87e064; trace=9089956b-f335-44d3-a44d-fa99d2fe4514,id=27699716-e08a-4025-aa46-f496a838b3a7; trace=9089956b-f335-44d3-a44d-fa99d2fe4514,id=f5f863e6-f0f7-49aa-9fe2-99d2aab7a265; trace=9089956b-f335-44d3-a44d-fa99d2fe4514,id=a17b9f83-7ddb-4052-9676-0dba5d87c84f; trace=9089956b-f335-44d3-a44d-fa99d2fe4514,id=0412dd5b-4c1d-4794-95f1-630ed647057a; trace=9089956b-f335-44d3-a44d-fa99d2fe4514,id=4978ff56-c7cb-476f-bf80-ed1299a3e6aa; trace=9089956b-f335-44d3-a44d-fa99d2fe4514,id=95aad1c9-aa55-421a-a958-95f7bfaaa5f3; trace=9089956b-f335-44d3-a44d-fa99d2fe4514,id=f2e0232b-7ba2-4311-ae33-ac28a7ad7e2b; trace=9089956b-f335-44d3-a44d-fa99d2fe4514,id=119aab53-5b1a-4f56-8c20-0ac3dba2d354; trace=9089956b-f335-44d3-a44d-fa99d2fe4514,id=32f97379-d721-429b-96db-5e638078a103; trace=9089956b-f335-44d3-a44d-fa99d2fe4514,id=55b87361-2f9c-45cc-b127-8c8e51abaa1a; trace=9089956b-f335-44d3-a44d-fa99d2fe4514,id=5c04469c-9c32-4e85-862d-a8f5cad004f6; trace=9089956b-f335-44d3-a44d-fa99d2fe4514,id=d3cc3853-af22-46af-923c-fa4d0450c5ef; trace=9089956b-f335-44d3-a44d-fa99d2fe4514,id=84acf286-b0a8-4777-82cc-3cfe956be0c8; trace=38ed11d4-5529-4189-a576-8b2710184eaa,id=38ed11d4-5529-4189-a576-8b2710184eaa; trace=30debdff-4b3d-4146-974d-24b7460e29a3,id=30debdff-4b3d-4146-974d-24b7460e29a3; trace=78610581-7b33-4031-8ee8-59227fa997dd,id=78610581-7b33-4031-8ee8-59227fa997dd; trace=6bfe43f2-568f-4fc6-8048-23d520093dbb,id=6bfe43f2-568f-4fc6-8048-23d520093dbb; trace=9262f2b4-9682-40a1-a141-da8eeb8f94fc,id=9262f2b4-9682-40a1-a141-da8eeb8f94fc; trace=7cdd5761-30ad-4a85-9afe-7885982f3607,id=7cdd5761-30ad-4a85-9afe-7885982f3607; trace=9c36e3f9-73d3-4637-a4e4-e22e0de9dede,id=9c36e3f9-73d3-4637-a4e4-e22e0de9dede; trace=9e4369b9-ee50-4122-91f5-a41f84c51b21,id=9e4369b9-ee50-4122-91f5-a41f84c51b21; trace=6f223d8c-5f62-4143-80bc-1691c38a01df,id=6f223d8c-5f62-4143-80bc-1691c38a01df; trace=a5df1d12-afe1-41b1-bd95-68d731628962,id=a5df1d12-afe1-41b1-bd95-68d731628962; trace=6298df2a-dbc6-43cc-8a4b-04524294e83f,id=6298df2a-dbc6-43cc-8a4b-04524294e83f; trace=befc8b16-7c64-4c12-896d-5eb55ac37b27,id=befc8b16-7c64-4c12-896d-5eb55ac37b27; trace=acb32290-78d8-4fe1-8258-6a08c7b96424,id=acb32290-78d8-4fe1-8258-6a08c7b96424; trace=5ccc724b-8b27-4a71-b26b-6b0c63c0bad9,id=5ccc724b-8b27-4a71-b26b-6b0c63c0bad9; trace=845e65d4-836d-4430-91d0-8cf560ec4313,id=845e65d4-836d-4430-91d0-8cf560ec4313; trace=1381fb5d-82c2-4247-992d-9508c9370e75,id=1381fb5d-82c2-4247-992d-9508c9370e75; trace=04408854-43b5-44b6-a55f-81ae930969d9,id=04408854-43b5-44b6-a55f-81ae930969d9; trace=03843dc0-ade1-4e93-866e-8515dcbe24a0,id=03843dc0-ade1-4e93-866e-8515dcbe24a0; trace=06e60873-ece9-455d-bfae-571a48d46e64,id=06e60873-ece9-455d-bfae-571a48d46e64; trace=f37d7657-affc-45c5-bb00-d0c6e711d4c0,id=f37d7657-affc-45c5-bb00-d0c6e711d4c0; trace=aa50734d-ff30-4dca-aa98-1953432d3525,id=aa50734d-ff30-4dca-aa98-1953432d3525; trace=2fd70913-6045-47f6-a00f-c7ebe4468827,id=2fd70913-6045-47f6-a00f-c7ebe4468827; trace=d90f692d-4bb6-4e59-be06-a243f08a88fb,id=d90f692d-4bb6-4e59-be06-a243f08a88fb; trace=d74b6b87-bb01-45d3-b40c-c335f3d4f7f8,id=d74b6b87-bb01-45d3-b40c-c335f3d4f7f8; trace=fe70a16e-e904-43da-a477-298e469e65f1,id=fe70a16e-e904-43da-a477-298e469e65f1; trace=55471733-9c43-4f50-a641-d258c7a4fc0c,id=55471733-9c43-4f50-a641-d258c7a4fc0c; trace=fb6c439e-1ed7-4fd4-95f6-b01524ee92e8,id=fb6c439e-1ed7-4fd4-95f6-b01524ee92e8; trace=ca9a8ab8-13f5-4449-929a-0b4fa153de54,id=ca9a8ab8-13f5-4449-929a-0b4fa153de54; trace=89ea1038-8692-4213-970c-d370d1cb6c9a,id=89ea1038-8692-4213-970c-d370d1cb6c9a; trace=049dba33-2ed2-47dc-b26e-c934b0975ecd,id=049dba33-2ed2-47dc-b26e-c934b0975ecd; trace=3183c07c-e9a0-447d-a9e9-b7d00eb64500,id=3183c07c-e9a0-447d-a9e9-b7d00eb64500; trace=61ed1039-d160-4141-b166-57dbbf7766dd,id=61ed1039-d160-4141-b166-57dbbf7766dd; trace=2faefad6-aad6-4fda-8745-60ed8d8a5764,id=2faefad6-aad6-4fda-8745-60ed8d8a5764; trace=fcfb15f2-e331-41ce-9fcf-bd3947ee20a6,id=fcfb15f2-e331-41ce-9fcf-bd3947ee20a6; trace=6273b7d4-0533-4ada-adf2-95722b23d60e,id=6273b7d4-0533-4ada-adf2-95722b23d60e; trace=41dcdf73-5e85-4c13-a60c-b5e682358733,id=41dcdf73-5e85-4c13-a60c-b5e682358733; trace=2b2b02b1-3c49-449c-91ac-c3c6116dc256,id=2b2b02b1-3c49-449c-91ac-c3c6116dc256; trace=db0d0129-dcee-475a-b516-f9c4335ae929,id=db0d0129-dcee-475a-b516-f9c4335ae929; trace=95cc51e1-ed81-4690-a557-df9cf83a283b,id=95cc51e1-ed81-4690-a557-df9cf83a283b; trace=cc2dfc29-c375-4994-858c-fc93b647164f,id=cc2dfc29-c375-4994-858c-fc93b647164f; trace=8a80001f-2e10-43d3-8528-50447b6cc246,id=8a80001f-2e10-43d3-8528-50447b6cc246; trace=09d2bb5b-f4c7-40f6-b08d-8f658a066336,id=09d2bb5b-f4c7-40f6-b08d-8f658a066336; trace=1c29204f-a73a-4bea-9f1b-351739b05291,id=1c29204f-a73a-4bea-9f1b-351739b05291; trace=05d95136-1ed7-48e5-a0cf-ede215ddf088,id=05d95136-1ed7-48e5-a0cf-ede215ddf088; trace=962c8ea4-e790-4cf4-ad9a-b1d1ab6f76ab,id=962c8ea4-e790-4cf4-ad9a-b1d1ab6f76ab; trace=380e185b-b930-42ec-bee4-a742a77e91b2,id=380e185b-b930-42ec-bee4-a742a77e91b2; trace=f7b3f459-a740-42c4-950e-2476a4e57279,id=f7b3f459-a740-42c4-950e-2476a4e57279; trace=d2606c2c-155c-403a-bd0d-abd8422e85bf,id=d2606c2c-155c-403a-bd0d-abd8422e85bf; trace=2a9403cf-0c37-4c9a-b1a7-0c99b5b1f3b4,id=2a9403cf-0c37-4c9a-b1a7-0c99b5b1f3b4; trace=8ec6ad26-6d71-4202-a94f-5be720940e3d,id=8ec6ad26-6d71-4202-a94f-5be720940e3d; trace=d555c03d-2494-4c31-904f-d1546f3de68b,id=d555c03d-2494-4c31-904f-d1546f3de68b; trace=e7ceb001-ebe7-4545-8209-c2d0a3db0e8a,id=e7ceb001-ebe7-4545-8209-c2d0a3db0e8a; trace=38241ddc-75f7-4f93-ae20-617e80249d71,id=38241ddc-75f7-4f93-ae20-617e80249d71; trace=7427a0a5-5242-4eb6-abff-59a2c9297f6a,id=7427a0a5-5242-4eb6-abff-59a2c9297f6a; trace=e7c69500-6f86-440b-903d-d05f19b808cc,id=e7c69500-6f86-440b-903d-d05f19b808cc\n",
      "Failed to multipart ingest runs: langsmith.utils.LangSmithAuthError: Authentication failed for https://api.smith.langchain.com/runs/multipart. HTTPError('401 Client Error: Unauthorized for url: https://api.smith.langchain.com/runs/multipart', '{\"detail\":\"Invalid token\"}')trace=9580ccfe-62c1-49d6-a766-3169727089bc,id=9580ccfe-62c1-49d6-a766-3169727089bc; trace=4e43711b-3d37-4968-9cd3-86e58520afda,id=4e43711b-3d37-4968-9cd3-86e58520afda; trace=a9618429-a02d-4124-ad5e-a6a57470bd7a,id=a9618429-a02d-4124-ad5e-a6a57470bd7a; trace=a2d0d25b-880e-4eab-bcbd-6688e2dada93,id=a2d0d25b-880e-4eab-bcbd-6688e2dada93; trace=0d920e71-47c5-42e1-9a88-997cece67d55,id=0d920e71-47c5-42e1-9a88-997cece67d55; trace=90ecfb79-d0e3-4222-98d3-e89fa19255ad,id=90ecfb79-d0e3-4222-98d3-e89fa19255ad; trace=ccc6adfa-ca4e-4257-ae69-020d4153c5d5,id=ccc6adfa-ca4e-4257-ae69-020d4153c5d5; trace=69b9793f-c0d8-4f45-8765-9dd2a2560b6b,id=69b9793f-c0d8-4f45-8765-9dd2a2560b6b; trace=118f6028-606f-4d0d-8931-83bb3cd3251f,id=118f6028-606f-4d0d-8931-83bb3cd3251f; trace=3e428ae0-06a2-46d6-a63d-93e8cf480ae0,id=3e428ae0-06a2-46d6-a63d-93e8cf480ae0; trace=0cdaded6-8596-4b9a-8deb-a76e36d8256f,id=0cdaded6-8596-4b9a-8deb-a76e36d8256f; trace=0baaa509-07e9-4807-b699-64f799ea5fd8,id=0baaa509-07e9-4807-b699-64f799ea5fd8; trace=cae326e0-3965-4fd8-ad24-b89e4e24b6da,id=cae326e0-3965-4fd8-ad24-b89e4e24b6da; trace=83aea0cc-b450-4466-a434-a3da4de79cf2,id=83aea0cc-b450-4466-a434-a3da4de79cf2; trace=c0c3a102-afec-4140-8b0a-9a96e74291a7,id=c0c3a102-afec-4140-8b0a-9a96e74291a7; trace=4360bdfb-aa35-4a62-9c79-97ebf0b4664a,id=4360bdfb-aa35-4a62-9c79-97ebf0b4664a; trace=2489362f-7abe-4106-8b6d-402175c8a7ed,id=2489362f-7abe-4106-8b6d-402175c8a7ed; trace=ffeda6d6-84d6-4815-9d99-986d14ebe779,id=ffeda6d6-84d6-4815-9d99-986d14ebe779; trace=448f1f09-4c54-482f-8d9d-332efa5c4db2,id=448f1f09-4c54-482f-8d9d-332efa5c4db2; trace=620bcd75-b179-4c5c-bf80-e83904b6158d,id=620bcd75-b179-4c5c-bf80-e83904b6158d; trace=c8025f53-5c11-4b95-9b86-4ab3509f73f0,id=c8025f53-5c11-4b95-9b86-4ab3509f73f0; trace=3dae5bb8-d0ce-4a66-ae09-c77fae28c2f2,id=3dae5bb8-d0ce-4a66-ae09-c77fae28c2f2; trace=25f48e23-a438-4d5f-a56c-dd4d320db4ac,id=25f48e23-a438-4d5f-a56c-dd4d320db4ac; trace=dd2c277f-fb58-4a44-9780-cd02b951b91e,id=dd2c277f-fb58-4a44-9780-cd02b951b91e; trace=5df6e2e6-5cc5-4816-ab5c-58a000b49381,id=5df6e2e6-5cc5-4816-ab5c-58a000b49381; trace=98520e52-7fcf-4869-a779-41bbb32ee162,id=98520e52-7fcf-4869-a779-41bbb32ee162; trace=8a490096-37fb-4365-956d-c4c7e08b7e3b,id=8a490096-37fb-4365-956d-c4c7e08b7e3b; trace=01d6f69b-16fb-41e8-a2e5-2b60f7ce4b22,id=01d6f69b-16fb-41e8-a2e5-2b60f7ce4b22; trace=7cce7e1f-4458-4f18-b750-af86d79bb15a,id=7cce7e1f-4458-4f18-b750-af86d79bb15a; trace=7bba6cf1-2313-4189-87be-a2354eb68be0,id=7bba6cf1-2313-4189-87be-a2354eb68be0; trace=7099c64c-44e2-4881-b7f5-a22b1fb28551,id=7099c64c-44e2-4881-b7f5-a22b1fb28551; trace=9753e1f7-9449-4fc2-b291-170d17051e6f,id=9753e1f7-9449-4fc2-b291-170d17051e6f; trace=bee8abac-9eb1-4c8e-a1b9-6c15ab3e649e,id=bee8abac-9eb1-4c8e-a1b9-6c15ab3e649e; trace=b2c91c5f-1e4f-422b-a251-6302aefc40f2,id=b2c91c5f-1e4f-422b-a251-6302aefc40f2; trace=d3bee8e6-3e69-481f-a036-1e44c605d79a,id=d3bee8e6-3e69-481f-a036-1e44c605d79a; trace=ef49000d-845b-4d0a-8513-573511e400fd,id=ef49000d-845b-4d0a-8513-573511e400fd; trace=3fd0ba65-f02a-4f87-8308-b0785991456e,id=3fd0ba65-f02a-4f87-8308-b0785991456e; trace=e10ecb7d-e70e-4ca0-867a-5e72fd6f9ed9,id=e10ecb7d-e70e-4ca0-867a-5e72fd6f9ed9; trace=8bb5f235-dbfc-4316-b3b3-52915c3a3793,id=8bb5f235-dbfc-4316-b3b3-52915c3a3793; trace=9aaa8863-c5c2-4a64-81a9-c68f84454c65,id=9aaa8863-c5c2-4a64-81a9-c68f84454c65; trace=6c24aace-dcf1-4ac1-a4e6-357b9aaad143,id=6c24aace-dcf1-4ac1-a4e6-357b9aaad143; trace=162d414c-d18f-487a-b0e2-490aa944cd9d,id=162d414c-d18f-487a-b0e2-490aa944cd9d; trace=ce211ba6-736f-4e2d-bbf4-b0ea1999a1fa,id=ce211ba6-736f-4e2d-bbf4-b0ea1999a1fa; trace=a3d967cd-7fd9-4369-bc56-0f04b4b251d0,id=a3d967cd-7fd9-4369-bc56-0f04b4b251d0; trace=354f7eab-7db5-4539-a984-8d447b5713d0,id=354f7eab-7db5-4539-a984-8d447b5713d0; trace=48b68062-b8f2-478d-a116-fa592bb460fd,id=48b68062-b8f2-478d-a116-fa592bb460fd; trace=f080b618-1b29-4be3-9ef8-cce48993fe83,id=f080b618-1b29-4be3-9ef8-cce48993fe83; trace=0566631a-3b8a-48dd-813a-afd823da8b0f,id=0566631a-3b8a-48dd-813a-afd823da8b0f; trace=bc890a1b-c567-46c7-bcb7-a910f7d8378b,id=bc890a1b-c567-46c7-bcb7-a910f7d8378b; trace=91fc1360-defd-45b2-870d-4893b89602da,id=91fc1360-defd-45b2-870d-4893b89602da; trace=c7b61077-9a6f-4173-af7b-b559df796ae5,id=c7b61077-9a6f-4173-af7b-b559df796ae5; trace=cc9aa576-98e0-45ff-8828-18bdfb2a60d6,id=cc9aa576-98e0-45ff-8828-18bdfb2a60d6; trace=11a9f352-e711-48a6-a25c-266ddb7d2ef2,id=11a9f352-e711-48a6-a25c-266ddb7d2ef2; trace=1356019f-f366-4c5a-b7ed-765b44bce783,id=1356019f-f366-4c5a-b7ed-765b44bce783; trace=8226090b-caf3-449d-bfdd-6f331eb0a2fc,id=8226090b-caf3-449d-bfdd-6f331eb0a2fc; trace=4862b20d-f566-40d3-9d00-cc469903d89e,id=4862b20d-f566-40d3-9d00-cc469903d89e; trace=c09946c8-cd8b-432c-83e7-93fae38d2514,id=c09946c8-cd8b-432c-83e7-93fae38d2514; trace=fb7ebff1-2854-4e42-bdfa-85d6558b763c,id=fb7ebff1-2854-4e42-bdfa-85d6558b763c; trace=b655f741-4eba-43f4-8140-fddbdeae63ff,id=b655f741-4eba-43f4-8140-fddbdeae63ff; trace=efdf97f8-50b7-4c29-bfd4-61d9e75799c8,id=efdf97f8-50b7-4c29-bfd4-61d9e75799c8; trace=f6d494cd-af42-48fd-8058-07ed7c114166,id=f6d494cd-af42-48fd-8058-07ed7c114166; trace=fb63b81b-d527-4c8a-b77c-3247efef1075,id=fb63b81b-d527-4c8a-b77c-3247efef1075; trace=50912d3b-c5c9-4e68-a2d7-c51560ad615d,id=50912d3b-c5c9-4e68-a2d7-c51560ad615d; trace=15b01178-ca59-4418-bb84-5f5f8d868a7b,id=15b01178-ca59-4418-bb84-5f5f8d868a7b; trace=46ab0dea-5630-408c-8139-da5387345e57,id=46ab0dea-5630-408c-8139-da5387345e57; trace=b693a71e-5566-4d74-8713-684371028d5e,id=b693a71e-5566-4d74-8713-684371028d5e; trace=cfae35ab-7a8d-4548-b60c-d5206e29baf0,id=cfae35ab-7a8d-4548-b60c-d5206e29baf0\n"
     ]
    },
    {
     "name": "stderr",
     "output_type": "stream",
     "text": [
      "Failed to multipart ingest runs: langsmith.utils.LangSmithAuthError: Authentication failed for https://api.smith.langchain.com/runs/multipart. HTTPError('401 Client Error: Unauthorized for url: https://api.smith.langchain.com/runs/multipart', '{\"detail\":\"Invalid token\"}')trace=68bc559f-3ce5-4fde-a78a-3cf73e93f1b6,id=68bc559f-3ce5-4fde-a78a-3cf73e93f1b6; trace=3f600b05-ba5c-4336-8251-73a48a65a5c1,id=3f600b05-ba5c-4336-8251-73a48a65a5c1; trace=380054f8-127a-4e5b-9f4f-1e287eb84b39,id=380054f8-127a-4e5b-9f4f-1e287eb84b39; trace=b8aa8d9a-a0b9-4f6b-af22-fe983d02e41a,id=b8aa8d9a-a0b9-4f6b-af22-fe983d02e41a; trace=8ee11002-8182-4d65-9c6d-8ed7f436a630,id=8ee11002-8182-4d65-9c6d-8ed7f436a630; trace=be9b29d6-a827-4801-ae84-3a0b90cd5cfd,id=be9b29d6-a827-4801-ae84-3a0b90cd5cfd; trace=d105d05e-a2a5-4ab6-8825-c6f37069300a,id=d105d05e-a2a5-4ab6-8825-c6f37069300a; trace=38d87cb6-f74e-4cba-b6f0-260802260639,id=38d87cb6-f74e-4cba-b6f0-260802260639; trace=00c1910c-5d6d-4df0-8d84-c7f2e848fb75,id=00c1910c-5d6d-4df0-8d84-c7f2e848fb75; trace=b34ccc76-7ebd-46a8-83f7-ebefd85b213c,id=b34ccc76-7ebd-46a8-83f7-ebefd85b213c; trace=1b794e69-03ae-42e2-9739-fbc894e590ad,id=1b794e69-03ae-42e2-9739-fbc894e590ad; trace=83873b06-671d-4297-97af-d7cc8967992e,id=83873b06-671d-4297-97af-d7cc8967992e; trace=75ca9fd5-642e-4f9d-b6cb-5e3db62435fa,id=75ca9fd5-642e-4f9d-b6cb-5e3db62435fa; trace=4fb90d80-f85c-4451-8d89-57414c3a1912,id=4fb90d80-f85c-4451-8d89-57414c3a1912; trace=7edbd405-a0b2-495d-8a61-462bc8238b63,id=7edbd405-a0b2-495d-8a61-462bc8238b63; trace=7303649c-aeaa-4b82-9e88-e838f843a832,id=7303649c-aeaa-4b82-9e88-e838f843a832; trace=a0ef713b-a8cb-429b-af41-9747cf32f4e6,id=a0ef713b-a8cb-429b-af41-9747cf32f4e6; trace=c87fbe29-0547-42a6-a9d0-9b6664161d72,id=c87fbe29-0547-42a6-a9d0-9b6664161d72; trace=a32d96bd-8f35-4be6-a5d9-67798cccfdc8,id=a32d96bd-8f35-4be6-a5d9-67798cccfdc8; trace=bca32633-bda6-465d-b6f4-fb9a4d9a091e,id=bca32633-bda6-465d-b6f4-fb9a4d9a091e; trace=e6b7b39a-159f-452a-a266-db0536dc5e63,id=e6b7b39a-159f-452a-a266-db0536dc5e63; trace=4603ac27-3041-4322-b7d4-2f562a514816,id=4603ac27-3041-4322-b7d4-2f562a514816; trace=52b2e62e-3be7-4c96-b0d4-7277e8b7244b,id=52b2e62e-3be7-4c96-b0d4-7277e8b7244b; trace=e7b810ae-18e5-4a31-8b79-a6a7b9edb219,id=e7b810ae-18e5-4a31-8b79-a6a7b9edb219; trace=e1ad7366-b2fb-4515-aa41-db36c0453cfd,id=e1ad7366-b2fb-4515-aa41-db36c0453cfd; trace=59cdd26e-132a-4e03-a64b-29633e7fcc43,id=59cdd26e-132a-4e03-a64b-29633e7fcc43; trace=789873dd-bbd1-45b3-93bf-b0f3edd16415,id=789873dd-bbd1-45b3-93bf-b0f3edd16415; trace=432eb462-abe3-4077-b2ec-7193be280e1a,id=432eb462-abe3-4077-b2ec-7193be280e1a; trace=219fc1bd-7c26-4b3d-9c9c-6600589438aa,id=219fc1bd-7c26-4b3d-9c9c-6600589438aa; trace=dd5799c9-f8bf-4dee-a4c5-691663dfbafd,id=dd5799c9-f8bf-4dee-a4c5-691663dfbafd; trace=41ba20eb-250a-4125-a3f2-6c3e90e09aa5,id=41ba20eb-250a-4125-a3f2-6c3e90e09aa5; trace=850e6264-ede9-4435-b9f7-f8bcc35cabfd,id=850e6264-ede9-4435-b9f7-f8bcc35cabfd; trace=c9aa982f-1e84-4b36-99db-e1cd2df56966,id=c9aa982f-1e84-4b36-99db-e1cd2df56966; trace=f48513bd-d7cd-4d1f-9949-8079824cdd95,id=f48513bd-d7cd-4d1f-9949-8079824cdd95; trace=9604c30f-2b9f-49b9-9d09-1eee8aa7e460,id=9604c30f-2b9f-49b9-9d09-1eee8aa7e460; trace=b7c795d9-99a9-4f59-8950-8c8de034c4a6,id=b7c795d9-99a9-4f59-8950-8c8de034c4a6; trace=8bdbf352-13c3-46d1-9af3-0370c9cc485d,id=8bdbf352-13c3-46d1-9af3-0370c9cc485d; trace=3176daaa-fb1d-4f3d-8d46-91a2b00e20cb,id=3176daaa-fb1d-4f3d-8d46-91a2b00e20cb; trace=c0f29962-cba8-4b89-8ff8-e0ef6cba9f67,id=c0f29962-cba8-4b89-8ff8-e0ef6cba9f67; trace=395ed9b7-d873-40e8-b59c-0382fc610407,id=395ed9b7-d873-40e8-b59c-0382fc610407; trace=ceff2b04-bcec-4b5c-bef4-5fd89da435fd,id=ceff2b04-bcec-4b5c-bef4-5fd89da435fd; trace=f76252a7-5fb5-42e9-93b8-281b847d1306,id=f76252a7-5fb5-42e9-93b8-281b847d1306; trace=1778d968-6895-47bc-a7a1-8d0aea8725a8,id=1778d968-6895-47bc-a7a1-8d0aea8725a8; trace=ac8d7564-576b-44af-9474-9c68adcdc629,id=ac8d7564-576b-44af-9474-9c68adcdc629; trace=91638ae9-8812-40ef-b2b7-e7a422f34eb4,id=91638ae9-8812-40ef-b2b7-e7a422f34eb4; trace=e3ea415e-076d-431c-ad34-d2f649a76df8,id=e3ea415e-076d-431c-ad34-d2f649a76df8; trace=5872ed9b-9df6-4e7b-b3d9-6cf34e15b952,id=5872ed9b-9df6-4e7b-b3d9-6cf34e15b952; trace=f8306673-7f58-4dd5-a02b-85312b113da2,id=f8306673-7f58-4dd5-a02b-85312b113da2; trace=7236e2ad-e231-4b49-8218-9824490e1bc2,id=7236e2ad-e231-4b49-8218-9824490e1bc2; trace=ae8540c9-27da-4a5e-993e-efd973df38ce,id=ae8540c9-27da-4a5e-993e-efd973df38ce; trace=f325cb39-6383-43ae-a61b-584d11efefc4,id=f325cb39-6383-43ae-a61b-584d11efefc4; trace=c4c68b81-7b0b-4b5b-b10e-1ab38b8f0052,id=c4c68b81-7b0b-4b5b-b10e-1ab38b8f0052; trace=c732bc73-7617-42d3-b3e2-74713c985574,id=c732bc73-7617-42d3-b3e2-74713c985574; trace=488504c9-d648-45ee-b717-8ba9b1ba213a,id=488504c9-d648-45ee-b717-8ba9b1ba213a; trace=60de2e2b-6fd7-4b84-93f4-861a08502cbd,id=60de2e2b-6fd7-4b84-93f4-861a08502cbd; trace=f2487052-3620-41bb-9969-dfe7258200aa,id=f2487052-3620-41bb-9969-dfe7258200aa; trace=75bfdc0c-e3b6-4274-95c8-1025e12e7cf7,id=75bfdc0c-e3b6-4274-95c8-1025e12e7cf7; trace=bf62a058-4f1f-4e78-ac1c-b6719cf3a54e,id=bf62a058-4f1f-4e78-ac1c-b6719cf3a54e; trace=1b070679-624a-4300-b96e-30ba4cd82451,id=1b070679-624a-4300-b96e-30ba4cd82451; trace=02c35a1a-15f3-415f-9841-cf8ce449da56,id=02c35a1a-15f3-415f-9841-cf8ce449da56; trace=2de29f0f-c724-4dd4-ad06-e44a4756bcde,id=2de29f0f-c724-4dd4-ad06-e44a4756bcde; trace=e1e0b933-f91b-4894-b091-8846cefbe5b2,id=e1e0b933-f91b-4894-b091-8846cefbe5b2; trace=316f65a5-ae04-4422-83ac-35723a5ef94c,id=316f65a5-ae04-4422-83ac-35723a5ef94c; trace=04b36046-8a8a-426b-be35-c03537a59f77,id=04b36046-8a8a-426b-be35-c03537a59f77; trace=afbfa794-2dbd-4f04-ae61-ff84a79b4571,id=afbfa794-2dbd-4f04-ae61-ff84a79b4571; trace=45d8e56e-34c5-433f-9762-7db0e7c5d64b,id=45d8e56e-34c5-433f-9762-7db0e7c5d64b; trace=f9749221-ccc3-4cab-9057-5366ba062d75,id=f9749221-ccc3-4cab-9057-5366ba062d75\n",
      "Failed to multipart ingest runs: langsmith.utils.LangSmithAuthError: Authentication failed for https://api.smith.langchain.com/runs/multipart. HTTPError('401 Client Error: Unauthorized for url: https://api.smith.langchain.com/runs/multipart', '{\"detail\":\"Invalid token\"}')trace=f9749221-ccc3-4cab-9057-5366ba062d75,id=f9749221-ccc3-4cab-9057-5366ba062d75; trace=eabfae48-b364-456c-a842-3afb1447e291,id=eabfae48-b364-456c-a842-3afb1447e291; trace=d55b67a3-114c-495d-b1fc-1d8582c92f02,id=d55b67a3-114c-495d-b1fc-1d8582c92f02; trace=50e8b855-4e63-4cbf-9ae9-f6c8d942964d,id=50e8b855-4e63-4cbf-9ae9-f6c8d942964d; trace=64298795-9960-4e52-868a-ec36648cdabe,id=64298795-9960-4e52-868a-ec36648cdabe; trace=6de56241-e412-40ce-a3a9-9767a791d03c,id=6de56241-e412-40ce-a3a9-9767a791d03c; trace=b8d11d04-45ee-4230-a169-0ce14be46425,id=b8d11d04-45ee-4230-a169-0ce14be46425; trace=cf6d2bfb-86b7-4ae0-830c-b6e481bdf43d,id=cf6d2bfb-86b7-4ae0-830c-b6e481bdf43d; trace=34ea7cec-0fa0-4492-8d1c-69dd72d4059d,id=34ea7cec-0fa0-4492-8d1c-69dd72d4059d; trace=9fe8cf91-4385-4ebb-9aa0-b63350dabfcf,id=9fe8cf91-4385-4ebb-9aa0-b63350dabfcf; trace=e770e808-910e-4683-a5f8-0ecc488316f7,id=e770e808-910e-4683-a5f8-0ecc488316f7; trace=51379dba-a942-430a-b28a-ce62aac6cffe,id=51379dba-a942-430a-b28a-ce62aac6cffe; trace=bbd0279a-54fb-480b-985a-60e707914f8f,id=bbd0279a-54fb-480b-985a-60e707914f8f; trace=ad0c8b75-c3c6-431d-a5d9-6d99e7ee60a3,id=ad0c8b75-c3c6-431d-a5d9-6d99e7ee60a3; trace=cdb68315-0ab9-4081-9315-e4ef8211b77a,id=cdb68315-0ab9-4081-9315-e4ef8211b77a; trace=91bfa322-aa30-4a6f-919a-d6c9703dbec8,id=91bfa322-aa30-4a6f-919a-d6c9703dbec8; trace=0beefc70-cdda-4e83-9ebd-6f6873477541,id=0beefc70-cdda-4e83-9ebd-6f6873477541; trace=baa03214-5140-4c1d-b6cb-fb477793410c,id=baa03214-5140-4c1d-b6cb-fb477793410c; trace=4b08f5ed-2b0f-4840-90a0-2be70c59a55f,id=4b08f5ed-2b0f-4840-90a0-2be70c59a55f; trace=0831999a-c085-497e-a7ee-65a575f54f55,id=0831999a-c085-497e-a7ee-65a575f54f55; trace=aeb35c99-c4e2-4bcf-9582-ad9f182f89a7,id=aeb35c99-c4e2-4bcf-9582-ad9f182f89a7; trace=d0ec5ec0-b6f3-4919-99d4-3beba69c0375,id=d0ec5ec0-b6f3-4919-99d4-3beba69c0375; trace=12e34990-0903-4a84-8f17-0b7b41cbb2cc,id=12e34990-0903-4a84-8f17-0b7b41cbb2cc; trace=b1e690c4-aa08-423c-88d1-20387b12b98d,id=b1e690c4-aa08-423c-88d1-20387b12b98d; trace=da6036d9-19e3-40b6-ae8c-e41ded4c07b4,id=da6036d9-19e3-40b6-ae8c-e41ded4c07b4; trace=ec613f6c-8351-49ed-a197-e292422b9c25,id=ec613f6c-8351-49ed-a197-e292422b9c25; trace=595be547-3ec1-4ce0-9aed-e8e2dc1a5547,id=595be547-3ec1-4ce0-9aed-e8e2dc1a5547; trace=97a007a2-a69b-4f4a-9802-85e930934973,id=97a007a2-a69b-4f4a-9802-85e930934973; trace=dd48e70a-2e85-4a80-9d90-91b8a4add55a,id=dd48e70a-2e85-4a80-9d90-91b8a4add55a; trace=3a94daef-27de-4617-92fc-264e17b7f341,id=3a94daef-27de-4617-92fc-264e17b7f341; trace=9c0a030e-1cf5-40f3-83fe-0f155a2830d6,id=9c0a030e-1cf5-40f3-83fe-0f155a2830d6; trace=406ceafe-0162-431c-a1a7-cac9b2fe4bf7,id=406ceafe-0162-431c-a1a7-cac9b2fe4bf7; trace=ccdab0a5-c66a-4f11-8928-8e58ff2a5fa6,id=ccdab0a5-c66a-4f11-8928-8e58ff2a5fa6; trace=95d4b61b-d26d-4bdc-ae3f-46f5678688fe,id=95d4b61b-d26d-4bdc-ae3f-46f5678688fe; trace=91e60a6e-a424-4603-888b-12f7e081f1cf,id=91e60a6e-a424-4603-888b-12f7e081f1cf; trace=10ecfdb7-40e7-4389-a976-646391c0bfaa,id=10ecfdb7-40e7-4389-a976-646391c0bfaa; trace=e3e43169-0fab-4766-b8c6-d11a09386079,id=e3e43169-0fab-4766-b8c6-d11a09386079; trace=5232322a-6c91-463c-aead-4ddee0ba4563,id=5232322a-6c91-463c-aead-4ddee0ba4563; trace=983236a5-b3b8-4ac4-b39e-248ef3c9e12b,id=983236a5-b3b8-4ac4-b39e-248ef3c9e12b; trace=daf4f796-7b65-47fe-86ad-0f43e95ac068,id=daf4f796-7b65-47fe-86ad-0f43e95ac068; trace=d6e5c96f-3720-4892-9a38-e8fafc1b4b5a,id=d6e5c96f-3720-4892-9a38-e8fafc1b4b5a; trace=29ca59da-71c6-4194-a173-fc603d78dec0,id=29ca59da-71c6-4194-a173-fc603d78dec0; trace=333688e0-3028-4f8a-b5da-4822acbfb25d,id=333688e0-3028-4f8a-b5da-4822acbfb25d; trace=bce2175b-b323-4445-ad72-34328ae11bda,id=bce2175b-b323-4445-ad72-34328ae11bda; trace=fe8d5696-21d6-4556-b8c6-1caf98fa94e0,id=fe8d5696-21d6-4556-b8c6-1caf98fa94e0; trace=cbd41fe8-787a-4a09-a7bc-feeea0be8688,id=cbd41fe8-787a-4a09-a7bc-feeea0be8688; trace=60297328-a02f-4dd0-869a-3474e843b998,id=60297328-a02f-4dd0-869a-3474e843b998; trace=129bef89-a7d9-4850-9413-b521e32fac83,id=129bef89-a7d9-4850-9413-b521e32fac83; trace=b59a9dcf-bcf7-4527-949f-4e1451f66b93,id=b59a9dcf-bcf7-4527-949f-4e1451f66b93; trace=3cfbab30-2514-4955-95fd-3ec7d559bdb1,id=3cfbab30-2514-4955-95fd-3ec7d559bdb1; trace=338b437a-8f99-4378-ab72-db080e8017b4,id=338b437a-8f99-4378-ab72-db080e8017b4; trace=a39d53a9-7dbf-43fe-89a3-19b02c384792,id=a39d53a9-7dbf-43fe-89a3-19b02c384792; trace=5997d3a8-2f8a-4d3f-bc93-b19907e804dc,id=5997d3a8-2f8a-4d3f-bc93-b19907e804dc; trace=086ff07c-c9f3-43f2-9f12-99834bdacc47,id=086ff07c-c9f3-43f2-9f12-99834bdacc47; trace=d7a4dc73-0782-4cdd-9bff-7368a49ec715,id=d7a4dc73-0782-4cdd-9bff-7368a49ec715; trace=ecdcc6e5-4d67-47b0-854e-f65349634a1c,id=ecdcc6e5-4d67-47b0-854e-f65349634a1c; trace=565af8f3-c6a5-46d3-8844-a518bc595e98,id=565af8f3-c6a5-46d3-8844-a518bc595e98; trace=0a816b52-1491-4583-b1a1-ffea79a24d2d,id=0a816b52-1491-4583-b1a1-ffea79a24d2d; trace=367b6eae-34c1-40d4-9e4c-27627c058d60,id=367b6eae-34c1-40d4-9e4c-27627c058d60; trace=b1d23052-af66-4f95-a38a-38d498eeb652,id=b1d23052-af66-4f95-a38a-38d498eeb652; trace=082a9307-7be5-420a-89cf-df6bb63f2490,id=082a9307-7be5-420a-89cf-df6bb63f2490; trace=cfd8fca0-e912-4c34-85f0-83374d4046e5,id=cfd8fca0-e912-4c34-85f0-83374d4046e5; trace=a67c4b5c-b0e9-4840-9c0c-fa181586cf9f,id=a67c4b5c-b0e9-4840-9c0c-fa181586cf9f; trace=b71a8821-8889-4d3e-9184-257d40729c91,id=b71a8821-8889-4d3e-9184-257d40729c91; trace=f01c953c-9c9b-4ad8-9f30-d2feffe2a6a0,id=f01c953c-9c9b-4ad8-9f30-d2feffe2a6a0; trace=064d73a3-de53-4e72-8db2-d459ffcd9f53,id=064d73a3-de53-4e72-8db2-d459ffcd9f53; trace=53c69ed4-797f-43c9-b3cd-ea82fac10a24,id=53c69ed4-797f-43c9-b3cd-ea82fac10a24\n"
     ]
    },
    {
     "name": "stderr",
     "output_type": "stream",
     "text": [
      "Failed to multipart ingest runs: langsmith.utils.LangSmithAuthError: Authentication failed for https://api.smith.langchain.com/runs/multipart. HTTPError('401 Client Error: Unauthorized for url: https://api.smith.langchain.com/runs/multipart', '{\"detail\":\"Invalid token\"}')trace=59dba36c-7e38-4827-b6c0-989a347c0a37,id=59dba36c-7e38-4827-b6c0-989a347c0a37; trace=0cc93229-205b-4a5d-9040-8b55e2678106,id=0cc93229-205b-4a5d-9040-8b55e2678106; trace=2f0efbbb-bace-48ee-b1de-ec0ad375c5e6,id=2f0efbbb-bace-48ee-b1de-ec0ad375c5e6; trace=4c66dd80-254e-43ba-8f87-bab579ca62e5,id=4c66dd80-254e-43ba-8f87-bab579ca62e5; trace=a7124aff-c74c-4dea-9baa-9c138fa942e1,id=a7124aff-c74c-4dea-9baa-9c138fa942e1; trace=32b79feb-f84b-4768-a22f-6185b02dbbf5,id=32b79feb-f84b-4768-a22f-6185b02dbbf5; trace=4496bdf3-2dd1-4fe3-bd5e-767b0dc255a0,id=4496bdf3-2dd1-4fe3-bd5e-767b0dc255a0; trace=3073962e-4e5c-4d9e-b44b-cb7f67c8a9a7,id=3073962e-4e5c-4d9e-b44b-cb7f67c8a9a7; trace=bb6cd8d8-088c-493d-807a-7ee0888838fb,id=bb6cd8d8-088c-493d-807a-7ee0888838fb; trace=21734b3c-2240-43bc-ac41-0039490f02a8,id=21734b3c-2240-43bc-ac41-0039490f02a8; trace=aa20718c-6b9e-48c7-a825-08068e8beda9,id=aa20718c-6b9e-48c7-a825-08068e8beda9; trace=6d9df5a5-c2f8-4191-95da-e943ca97bdd2,id=6d9df5a5-c2f8-4191-95da-e943ca97bdd2; trace=4e31e736-18ea-4145-a41d-ca8edecb6ac6,id=4e31e736-18ea-4145-a41d-ca8edecb6ac6; trace=1fa6f2be-a741-4988-8d43-26cb03d6cbb7,id=1fa6f2be-a741-4988-8d43-26cb03d6cbb7; trace=11a240ca-f515-4f02-bd49-89a9f23b41e3,id=11a240ca-f515-4f02-bd49-89a9f23b41e3; trace=13f8273e-6bd8-4d2f-8ec7-e2429a943a24,id=13f8273e-6bd8-4d2f-8ec7-e2429a943a24; trace=b21946da-529a-4e6b-a823-a009d87967dc,id=b21946da-529a-4e6b-a823-a009d87967dc; trace=d8f4b4ab-a248-489e-b662-00de60573702,id=d8f4b4ab-a248-489e-b662-00de60573702; trace=7f7a5127-e3e3-425f-8f99-331b41480390,id=7f7a5127-e3e3-425f-8f99-331b41480390; trace=d10f8f54-789c-40b1-94d8-ab520af50ca1,id=d10f8f54-789c-40b1-94d8-ab520af50ca1; trace=6193f5b0-37fe-46e4-ade6-f28c18dd76b6,id=6193f5b0-37fe-46e4-ade6-f28c18dd76b6; trace=1513f3d5-a1df-48eb-864c-616f3a75ce59,id=1513f3d5-a1df-48eb-864c-616f3a75ce59; trace=580f43aa-19c1-4eff-bfa8-e8c94e177e0a,id=580f43aa-19c1-4eff-bfa8-e8c94e177e0a; trace=c5c65503-de31-48b3-9009-6b752b6a7575,id=c5c65503-de31-48b3-9009-6b752b6a7575; trace=5abd551a-42bc-4d04-9ab6-bca957faed34,id=5abd551a-42bc-4d04-9ab6-bca957faed34; trace=48fd1a3c-17b4-4cd2-a333-44923ef4805f,id=48fd1a3c-17b4-4cd2-a333-44923ef4805f; trace=80917f1c-b8b6-4f9d-b279-47d0dd64d3fb,id=80917f1c-b8b6-4f9d-b279-47d0dd64d3fb; trace=beac0cb5-3179-4828-b44b-23b9aa93ae5d,id=beac0cb5-3179-4828-b44b-23b9aa93ae5d; trace=25bfc315-ed82-45ab-ae8f-2ef8eb3f3b84,id=25bfc315-ed82-45ab-ae8f-2ef8eb3f3b84; trace=476ce263-45ef-4276-b550-f27c6e5074ab,id=476ce263-45ef-4276-b550-f27c6e5074ab; trace=c05313dc-ac0c-499d-95e3-f79a2155d9cb,id=c05313dc-ac0c-499d-95e3-f79a2155d9cb; trace=b98236cb-7410-44cf-9eb5-cbb31ad38c7b,id=b98236cb-7410-44cf-9eb5-cbb31ad38c7b; trace=d480fb5c-364c-4119-9b9e-c3d7a58b0e25,id=d480fb5c-364c-4119-9b9e-c3d7a58b0e25; trace=b437032a-2de3-40b8-b8b2-75b75dc6b02d,id=b437032a-2de3-40b8-b8b2-75b75dc6b02d; trace=c92d740a-7a7a-4fc1-b4b8-4d9291b3c81c,id=c92d740a-7a7a-4fc1-b4b8-4d9291b3c81c; trace=2a744fb9-f9ea-4252-97a0-5d82684880ee,id=2a744fb9-f9ea-4252-97a0-5d82684880ee; trace=08272928-3940-4093-8685-2215dd608c1c,id=08272928-3940-4093-8685-2215dd608c1c; trace=46a9e661-98d6-4fca-8401-619ed2976e9b,id=46a9e661-98d6-4fca-8401-619ed2976e9b; trace=6d67e939-09b1-4f8a-982a-87235b23b7b2,id=6d67e939-09b1-4f8a-982a-87235b23b7b2; trace=70aaf741-d580-444b-bc84-cf2783eba374,id=70aaf741-d580-444b-bc84-cf2783eba374; trace=339fea4f-244c-42cf-876b-08f2e1d149cc,id=339fea4f-244c-42cf-876b-08f2e1d149cc; trace=cb75b223-99c2-4586-9d56-76412c134dd5,id=cb75b223-99c2-4586-9d56-76412c134dd5; trace=4162cbb2-1277-4983-9314-98e84e4a16c2,id=4162cbb2-1277-4983-9314-98e84e4a16c2; trace=1a834f70-339c-41de-8189-d48eeb885979,id=1a834f70-339c-41de-8189-d48eeb885979; trace=3acc818d-3079-429b-83fd-5819796b75eb,id=3acc818d-3079-429b-83fd-5819796b75eb; trace=93b38b57-a993-4e49-8ae0-27c4828afa20,id=93b38b57-a993-4e49-8ae0-27c4828afa20; trace=7fbfd628-6af9-4dfb-a0e1-cc54f1033d8f,id=7fbfd628-6af9-4dfb-a0e1-cc54f1033d8f; trace=5a526e7e-53ea-45c1-a431-ccb584839ccc,id=5a526e7e-53ea-45c1-a431-ccb584839ccc; trace=4f020c96-f96e-474e-8b2d-a10fcf0b3a42,id=4f020c96-f96e-474e-8b2d-a10fcf0b3a42; trace=49772718-9ed6-4e35-9586-1e5f1eca6e3c,id=49772718-9ed6-4e35-9586-1e5f1eca6e3c; trace=61022c88-a511-4119-aec8-2940b6f1a95d,id=61022c88-a511-4119-aec8-2940b6f1a95d; trace=6b31bf94-66e0-4293-86e7-9a219f8e1596,id=6b31bf94-66e0-4293-86e7-9a219f8e1596; trace=77eaee2f-0708-4dd4-8a19-1f78da779681,id=77eaee2f-0708-4dd4-8a19-1f78da779681; trace=f7861f4f-4c15-478f-994c-daa8f27af1a9,id=f7861f4f-4c15-478f-994c-daa8f27af1a9; trace=075a552e-899e-40ce-bec0-ba5eff093947,id=075a552e-899e-40ce-bec0-ba5eff093947; trace=98a8e3c1-3c1b-4f4a-8af8-5a599ef6e2e8,id=98a8e3c1-3c1b-4f4a-8af8-5a599ef6e2e8; trace=8c0e1e44-db52-49a2-b463-a0a83b2b4693,id=8c0e1e44-db52-49a2-b463-a0a83b2b4693; trace=d32374b7-6b7b-4f4e-a80c-cb72becb08ad,id=d32374b7-6b7b-4f4e-a80c-cb72becb08ad; trace=4bd6447d-95c9-4ade-b9c0-3a1ce362ae82,id=4bd6447d-95c9-4ade-b9c0-3a1ce362ae82; trace=c5c2e091-dba3-4852-8601-426bc1629523,id=c5c2e091-dba3-4852-8601-426bc1629523; trace=619ff997-e61c-4667-80ac-94662ced6c5b,id=619ff997-e61c-4667-80ac-94662ced6c5b; trace=00246991-99a7-4d1b-9d48-e96ea5416d01,id=00246991-99a7-4d1b-9d48-e96ea5416d01; trace=cb481779-2421-4b30-a76e-da3da9fc20bf,id=cb481779-2421-4b30-a76e-da3da9fc20bf; trace=cf8c438c-1092-43dc-a38f-95dc32359176,id=cf8c438c-1092-43dc-a38f-95dc32359176; trace=d3cf6abd-c075-4f29-8710-ad0288ef3f71,id=d3cf6abd-c075-4f29-8710-ad0288ef3f71; trace=566e20c9-ff01-42be-881a-0c282b7e7147,id=566e20c9-ff01-42be-881a-0c282b7e7147; trace=a348ce5e-d6d3-44fa-aa40-611839056032,id=a348ce5e-d6d3-44fa-aa40-611839056032\n",
      "Failed to multipart ingest runs: langsmith.utils.LangSmithAuthError: Authentication failed for https://api.smith.langchain.com/runs/multipart. HTTPError('401 Client Error: Unauthorized for url: https://api.smith.langchain.com/runs/multipart', '{\"detail\":\"Invalid token\"}')trace=f6c47136-92fa-48e4-8003-ef8ca3de39cc,id=f6c47136-92fa-48e4-8003-ef8ca3de39cc; trace=b3436e83-14f2-49d4-b3d2-ece881ed120a,id=b3436e83-14f2-49d4-b3d2-ece881ed120a; trace=05bc3519-83df-41d2-9fba-45a950f46511,id=05bc3519-83df-41d2-9fba-45a950f46511; trace=5cfce73b-e15e-41e8-8f8b-6b1ea0c1d1ff,id=5cfce73b-e15e-41e8-8f8b-6b1ea0c1d1ff; trace=58f41409-275e-49b2-8a35-84571b5d7864,id=58f41409-275e-49b2-8a35-84571b5d7864; trace=933d4858-2cfa-49f5-b354-363581fab221,id=933d4858-2cfa-49f5-b354-363581fab221; trace=789e0536-ff46-4cd7-8a34-35dd4b2fd799,id=789e0536-ff46-4cd7-8a34-35dd4b2fd799; trace=914eb386-59b0-4998-8c92-3250240d4c34,id=914eb386-59b0-4998-8c92-3250240d4c34; trace=a2d18c52-7d18-4f9d-9f1c-01cbbd56cfc9,id=a2d18c52-7d18-4f9d-9f1c-01cbbd56cfc9; trace=c3616a42-bc0f-4d20-80b1-006785c281a9,id=c3616a42-bc0f-4d20-80b1-006785c281a9; trace=0eca3c84-9fb6-4f1d-ab6b-f91b5880df2d,id=0eca3c84-9fb6-4f1d-ab6b-f91b5880df2d; trace=07717e6b-4292-4043-8a13-696362b445ea,id=07717e6b-4292-4043-8a13-696362b445ea; trace=da3d2091-8193-4842-b214-30a5e3e11d12,id=da3d2091-8193-4842-b214-30a5e3e11d12; trace=5cf80f12-6d8a-4701-b439-d89634774d76,id=5cf80f12-6d8a-4701-b439-d89634774d76; trace=55a1e03f-94ea-4136-b600-fad255a4adb4,id=55a1e03f-94ea-4136-b600-fad255a4adb4; trace=251713ce-c30e-422d-a153-ed61501c5fae,id=251713ce-c30e-422d-a153-ed61501c5fae; trace=58005c18-6443-4995-b363-29227958bf4a,id=58005c18-6443-4995-b363-29227958bf4a; trace=fcc8e954-f21d-4743-b11b-d8a4a3e49421,id=fcc8e954-f21d-4743-b11b-d8a4a3e49421; trace=c43e218b-66b1-4eeb-8b82-fabdb8a632f7,id=c43e218b-66b1-4eeb-8b82-fabdb8a632f7; trace=a1c627e4-4d7e-47c6-976f-d2eb4e544143,id=a1c627e4-4d7e-47c6-976f-d2eb4e544143; trace=7e5f045f-ded2-4f1a-9fb1-4a57b37e1bd1,id=7e5f045f-ded2-4f1a-9fb1-4a57b37e1bd1; trace=cbba5b5c-6d7c-4747-b06f-35ded4cf0ad7,id=cbba5b5c-6d7c-4747-b06f-35ded4cf0ad7; trace=6a1a7bf1-bf92-40ad-8edb-31eab72eda64,id=6a1a7bf1-bf92-40ad-8edb-31eab72eda64; trace=faab40c8-3a95-4bde-8922-e8d7cd2a56a1,id=faab40c8-3a95-4bde-8922-e8d7cd2a56a1; trace=24cd42ec-baa9-49af-acc2-62f54a45dc45,id=24cd42ec-baa9-49af-acc2-62f54a45dc45; trace=b6d03808-e2ea-4aae-9d74-72b702c04fa8,id=b6d03808-e2ea-4aae-9d74-72b702c04fa8; trace=fbb0c4b2-0184-44c1-8e3f-7940db76d884,id=fbb0c4b2-0184-44c1-8e3f-7940db76d884; trace=8c51cee8-71bd-4c42-acc0-61655b8a84b5,id=8c51cee8-71bd-4c42-acc0-61655b8a84b5; trace=ac6e280b-e334-404f-a8f1-1d6ff57ad2fa,id=ac6e280b-e334-404f-a8f1-1d6ff57ad2fa; trace=35080848-63c8-4d33-b729-18d1e621acdc,id=35080848-63c8-4d33-b729-18d1e621acdc; trace=dbcf790a-8b3a-4694-8cce-a73892cc1682,id=dbcf790a-8b3a-4694-8cce-a73892cc1682; trace=48282d84-95eb-457f-bd42-aaaddc87c82c,id=48282d84-95eb-457f-bd42-aaaddc87c82c; trace=cfdd6685-b399-4ca3-80c7-5768cbc72aa1,id=cfdd6685-b399-4ca3-80c7-5768cbc72aa1; trace=2e379f80-c506-4192-ab59-be30fa1acc63,id=2e379f80-c506-4192-ab59-be30fa1acc63; trace=7bc8d371-ed82-403c-8156-ed9959ab1d6b,id=7bc8d371-ed82-403c-8156-ed9959ab1d6b; trace=baf30853-f4ec-4fbc-87b5-b9bc0ff38bad,id=baf30853-f4ec-4fbc-87b5-b9bc0ff38bad; trace=f4fbefc6-3bad-430d-b47b-5d29478bd071,id=f4fbefc6-3bad-430d-b47b-5d29478bd071; trace=dc45b8b0-f0f5-40a3-9608-3ffb7a847609,id=dc45b8b0-f0f5-40a3-9608-3ffb7a847609; trace=d6a52ff7-c9e6-4373-a5cb-b459630ac7a8,id=d6a52ff7-c9e6-4373-a5cb-b459630ac7a8; trace=9b644f59-4760-4f7b-ab43-9ac8def65230,id=9b644f59-4760-4f7b-ab43-9ac8def65230; trace=411faf2f-5a2c-4595-9649-b966675ea9e7,id=411faf2f-5a2c-4595-9649-b966675ea9e7; trace=ba445980-6796-4711-8ca7-2fa8cfd6e7db,id=ba445980-6796-4711-8ca7-2fa8cfd6e7db; trace=2c0afc1a-c588-4872-a8fa-fc363b017b0c,id=2c0afc1a-c588-4872-a8fa-fc363b017b0c; trace=54133146-b784-4711-9905-6d545b84c82e,id=54133146-b784-4711-9905-6d545b84c82e; trace=c7d78cf2-6049-49f1-b43f-17e32f4782cc,id=c7d78cf2-6049-49f1-b43f-17e32f4782cc; trace=91ab13ca-0f90-4d69-a797-29671d7c5f6d,id=91ab13ca-0f90-4d69-a797-29671d7c5f6d; trace=7641241d-6eb5-4faf-b07d-4322d4c6045e,id=7641241d-6eb5-4faf-b07d-4322d4c6045e; trace=07a862a8-c95b-4357-b703-2f8c3ca41693,id=07a862a8-c95b-4357-b703-2f8c3ca41693; trace=3dd25a89-469f-48a3-be02-3b3f0e4f1616,id=3dd25a89-469f-48a3-be02-3b3f0e4f1616; trace=89f9a741-fde7-4f89-a756-c072307f1054,id=89f9a741-fde7-4f89-a756-c072307f1054; trace=61f59406-5e2f-4dfc-ad17-433a4f5449ad,id=61f59406-5e2f-4dfc-ad17-433a4f5449ad; trace=2d0cb4ff-358d-44fb-9c1f-60a8427c74a1,id=2d0cb4ff-358d-44fb-9c1f-60a8427c74a1; trace=66799413-3a98-4170-91d7-eabc5570a967,id=66799413-3a98-4170-91d7-eabc5570a967; trace=33ac0325-ae5b-45d7-a283-599161ad9382,id=33ac0325-ae5b-45d7-a283-599161ad9382; trace=e5e87b6b-eaf9-484b-b388-33e966a425f6,id=e5e87b6b-eaf9-484b-b388-33e966a425f6; trace=d9aa5eff-4507-4bbb-97de-d81eb6beb928,id=d9aa5eff-4507-4bbb-97de-d81eb6beb928; trace=ce0b8fc1-c95c-4e49-9ac8-77a6a089221b,id=ce0b8fc1-c95c-4e49-9ac8-77a6a089221b; trace=5c410b90-262d-404e-9cfb-a47e7deda1cc,id=5c410b90-262d-404e-9cfb-a47e7deda1cc; trace=643d5601-8ba4-43ef-b044-3c45747002d0,id=643d5601-8ba4-43ef-b044-3c45747002d0; trace=b6737ffb-4043-46f3-8a2f-afcf44bac8c0,id=b6737ffb-4043-46f3-8a2f-afcf44bac8c0; trace=dad6534e-44b3-405a-a1a9-4799e9e0f084,id=dad6534e-44b3-405a-a1a9-4799e9e0f084; trace=e6add909-a76a-44bc-8b1e-07cc5d5feaf9,id=e6add909-a76a-44bc-8b1e-07cc5d5feaf9; trace=86f1473d-a2de-4598-a2a9-36a705fdfd91,id=86f1473d-a2de-4598-a2a9-36a705fdfd91; trace=55092040-850c-429c-b6c3-9b26e93139c9,id=55092040-850c-429c-b6c3-9b26e93139c9; trace=cd60f3e5-8850-45eb-b60f-26ef5003cb69,id=cd60f3e5-8850-45eb-b60f-26ef5003cb69; trace=055aea84-d728-4999-ba2b-7d7442ca471a,id=055aea84-d728-4999-ba2b-7d7442ca471a; trace=b6930b44-194a-4c07-8696-c5236b6158c9,id=b6930b44-194a-4c07-8696-c5236b6158c9\n"
     ]
    },
    {
     "name": "stderr",
     "output_type": "stream",
     "text": [
      "Failed to multipart ingest runs: langsmith.utils.LangSmithAuthError: Authentication failed for https://api.smith.langchain.com/runs/multipart. HTTPError('401 Client Error: Unauthorized for url: https://api.smith.langchain.com/runs/multipart', '{\"detail\":\"Invalid token\"}')trace=b6930b44-194a-4c07-8696-c5236b6158c9,id=b6930b44-194a-4c07-8696-c5236b6158c9; trace=0ca61096-1d8f-4f03-a9be-0b1b57dbf631,id=0ca61096-1d8f-4f03-a9be-0b1b57dbf631; trace=2b9e1cf2-4ea3-49f2-b8f2-b59846ebfa15,id=2b9e1cf2-4ea3-49f2-b8f2-b59846ebfa15; trace=5032b16b-d01f-4651-9c89-a742cdeafd95,id=5032b16b-d01f-4651-9c89-a742cdeafd95; trace=5e706219-366c-46f0-9a81-690b586cb3e2,id=5e706219-366c-46f0-9a81-690b586cb3e2; trace=5dd0b643-b817-4ddd-826f-81a19080d932,id=5dd0b643-b817-4ddd-826f-81a19080d932; trace=03675f6f-ef07-4289-83f4-a9e3817e877d,id=03675f6f-ef07-4289-83f4-a9e3817e877d; trace=91da9917-d1ac-439a-9cc9-8898303c3597,id=91da9917-d1ac-439a-9cc9-8898303c3597; trace=d55bedc3-633f-490e-9c6a-23591b13083d,id=d55bedc3-633f-490e-9c6a-23591b13083d; trace=4a90f069-e128-45b6-bebf-6ba434f9d3f1,id=4a90f069-e128-45b6-bebf-6ba434f9d3f1; trace=d039fafb-bd5d-40af-bba7-88fdba4084ae,id=d039fafb-bd5d-40af-bba7-88fdba4084ae; trace=075a4e11-ef17-4286-9e57-0270bd1d6ed9,id=075a4e11-ef17-4286-9e57-0270bd1d6ed9; trace=6160fc88-df7e-4feb-a912-540e3c96afeb,id=6160fc88-df7e-4feb-a912-540e3c96afeb; trace=071753c7-67ac-44e1-97ff-a41ae1a02a2f,id=071753c7-67ac-44e1-97ff-a41ae1a02a2f; trace=1bc385d6-2ecf-4d13-bbee-b974e34278db,id=1bc385d6-2ecf-4d13-bbee-b974e34278db; trace=44b1e543-8578-4164-94b7-f8420a6ec0b1,id=44b1e543-8578-4164-94b7-f8420a6ec0b1; trace=7a4bd90d-e648-4bd2-ba7f-1cbad40ca120,id=7a4bd90d-e648-4bd2-ba7f-1cbad40ca120; trace=4a3ccdde-6d48-431b-bfe2-f7a1ef25ada6,id=4a3ccdde-6d48-431b-bfe2-f7a1ef25ada6; trace=604a0a8b-027f-44a0-bc99-2a2953c7b925,id=604a0a8b-027f-44a0-bc99-2a2953c7b925; trace=7c1e53f3-f227-4787-af40-fd7ccd6fc619,id=7c1e53f3-f227-4787-af40-fd7ccd6fc619; trace=cca0104c-8da0-46d8-be17-3da277ff67c6,id=cca0104c-8da0-46d8-be17-3da277ff67c6; trace=38833795-a772-4417-80e3-62bb830e399e,id=38833795-a772-4417-80e3-62bb830e399e; trace=6f03ab45-bc4f-4a77-9287-65ea561dd46f,id=6f03ab45-bc4f-4a77-9287-65ea561dd46f; trace=03ed53bb-b7a2-4265-9540-0f4984086d26,id=03ed53bb-b7a2-4265-9540-0f4984086d26; trace=c379f5a8-ba9d-470d-a4fe-e6f64a638785,id=c379f5a8-ba9d-470d-a4fe-e6f64a638785; trace=9e0b45d7-3beb-4ff9-b95d-7d8ed426c1d4,id=9e0b45d7-3beb-4ff9-b95d-7d8ed426c1d4; trace=29d7a0aa-52b9-4311-b664-cc1213cd280b,id=29d7a0aa-52b9-4311-b664-cc1213cd280b; trace=bcf75bb6-e159-4a95-9286-4bddc9318748,id=bcf75bb6-e159-4a95-9286-4bddc9318748; trace=8c6957b3-78e4-4c32-9287-6b5726b9cf87,id=8c6957b3-78e4-4c32-9287-6b5726b9cf87; trace=8ad17b50-53fa-424b-9abe-14cda8a2bfce,id=8ad17b50-53fa-424b-9abe-14cda8a2bfce; trace=cd0fabae-5905-4bd3-b9f9-6aa66803d6f5,id=cd0fabae-5905-4bd3-b9f9-6aa66803d6f5; trace=af63a47a-fa71-4e01-807d-306f823ef79c,id=af63a47a-fa71-4e01-807d-306f823ef79c; trace=802ad2ae-5cf6-4978-a424-e5dee37779e7,id=802ad2ae-5cf6-4978-a424-e5dee37779e7; trace=ea46c6d8-ef2b-40a4-955e-a47a3624d848,id=ea46c6d8-ef2b-40a4-955e-a47a3624d848; trace=5f4b28b4-5f12-4724-bb4d-0f78b5b28f5f,id=5f4b28b4-5f12-4724-bb4d-0f78b5b28f5f; trace=40388a14-9f14-44af-8d34-4b5e7f1d925f,id=40388a14-9f14-44af-8d34-4b5e7f1d925f; trace=ad0945b5-dd30-40a6-a94c-a356de3b0674,id=ad0945b5-dd30-40a6-a94c-a356de3b0674; trace=52f6ad23-ade9-45d2-aaa4-ddeec36765ad,id=52f6ad23-ade9-45d2-aaa4-ddeec36765ad; trace=b90627a2-ddde-49e8-a459-e5ed4c22ef28,id=b90627a2-ddde-49e8-a459-e5ed4c22ef28; trace=3e212fd1-6008-469b-b15d-d3dc14c3840d,id=3e212fd1-6008-469b-b15d-d3dc14c3840d; trace=799d6cc0-8318-41e6-8a2f-838aff84a70f,id=799d6cc0-8318-41e6-8a2f-838aff84a70f; trace=89a6eb29-a964-42c5-8fca-2d74f19631d8,id=89a6eb29-a964-42c5-8fca-2d74f19631d8; trace=83f692c5-23d8-4d10-ac53-91d03f1f41ae,id=83f692c5-23d8-4d10-ac53-91d03f1f41ae; trace=91a05e6f-fa27-467f-bd14-5cdf82b83914,id=91a05e6f-fa27-467f-bd14-5cdf82b83914; trace=448eea75-2c2e-46e4-93c6-e1f92e72ba05,id=448eea75-2c2e-46e4-93c6-e1f92e72ba05; trace=91d8b721-8dee-46cb-9c3c-de02fcfdfb10,id=91d8b721-8dee-46cb-9c3c-de02fcfdfb10; trace=da922fe5-e668-4962-8874-15c282962119,id=da922fe5-e668-4962-8874-15c282962119; trace=50cf9d0f-6f01-4798-ba18-0e858153583a,id=50cf9d0f-6f01-4798-ba18-0e858153583a; trace=cf53140c-21b1-4848-9df9-45a0eb06177a,id=cf53140c-21b1-4848-9df9-45a0eb06177a; trace=846bc99c-6783-49a3-a75f-a7a184da01e1,id=846bc99c-6783-49a3-a75f-a7a184da01e1; trace=c2d94fab-9257-45c2-9d2a-0f7cea6fb728,id=c2d94fab-9257-45c2-9d2a-0f7cea6fb728; trace=29f9a0a7-a1df-4657-8919-d5c9233091ac,id=29f9a0a7-a1df-4657-8919-d5c9233091ac; trace=7bf5ed44-82ab-43bf-9e81-a8586f60e393,id=7bf5ed44-82ab-43bf-9e81-a8586f60e393; trace=94953a83-f993-458d-ace1-113052274e78,id=94953a83-f993-458d-ace1-113052274e78; trace=88354106-3197-4969-b76d-b3da355e7297,id=88354106-3197-4969-b76d-b3da355e7297; trace=f358610c-9d74-4a34-9df8-79c4bc31205e,id=f358610c-9d74-4a34-9df8-79c4bc31205e\n"
     ]
    },
    {
     "name": "stdout",
     "output_type": "stream",
     "text": [
      "['generate_summary']\n",
      "['generate_summary']\n",
      "['generate_summary']\n",
      "['generate_summary']\n"
     ]
    },
    {
     "name": "stderr",
     "output_type": "stream",
     "text": [
      "Failed to multipart ingest runs: langsmith.utils.LangSmithAuthError: Authentication failed for https://api.smith.langchain.com/runs/multipart. HTTPError('401 Client Error: Unauthorized for url: https://api.smith.langchain.com/runs/multipart', '{\"detail\":\"Invalid token\"}')trace=9089956b-f335-44d3-a44d-fa99d2fe4514,id=9f2ab709-0d82-4654-a818-a7ea97600392; trace=9089956b-f335-44d3-a44d-fa99d2fe4514,id=bdaca3a2-0dde-484e-a8d3-9da87e627e06; trace=9089956b-f335-44d3-a44d-fa99d2fe4514,id=faffd5f3-e5c4-4247-9c70-5fcb954521c7; trace=56e2f95c-23d3-4469-80cd-5b2c2cab390b,id=56e2f95c-23d3-4469-80cd-5b2c2cab390b; trace=9089956b-f335-44d3-a44d-fa99d2fe4514,id=f77157c1-5a63-430b-8dd0-3ddb3c26fdc7; trace=5abd551a-42bc-4d04-9ab6-bca957faed34,id=5abd551a-42bc-4d04-9ab6-bca957faed34; trace=4bd6447d-95c9-4ade-b9c0-3a1ce362ae82,id=4bd6447d-95c9-4ade-b9c0-3a1ce362ae82; trace=9089956b-f335-44d3-a44d-fa99d2fe4514,id=95e1cafc-d4d5-4c53-a851-ed066ee87722; trace=9089956b-f335-44d3-a44d-fa99d2fe4514,id=638d5499-9a3a-4e73-91bc-3e6d64a1f240\n"
     ]
    },
    {
     "name": "stdout",
     "output_type": "stream",
     "text": [
      "['generate_summary']\n",
      "['generate_summary']\n",
      "['generate_summary']\n",
      "['generate_summary']\n",
      "['generate_summary']\n",
      "['generate_summary']\n"
     ]
    },
    {
     "name": "stderr",
     "output_type": "stream",
     "text": [
      "Failed to multipart ingest runs: langsmith.utils.LangSmithAuthError: Authentication failed for https://api.smith.langchain.com/runs/multipart. HTTPError('401 Client Error: Unauthorized for url: https://api.smith.langchain.com/runs/multipart', '{\"detail\":\"Invalid token\"}')trace=9089956b-f335-44d3-a44d-fa99d2fe4514,id=d98b8a9e-1fb5-449c-8958-07c992351e69; trace=9089956b-f335-44d3-a44d-fa99d2fe4514,id=9a6a9253-30f6-44d7-839c-62f70add34ef; trace=9089956b-f335-44d3-a44d-fa99d2fe4514,id=15070ec3-5036-4e9a-8620-afbddc71d1c8; trace=9089956b-f335-44d3-a44d-fa99d2fe4514,id=f710b942-c967-4a4c-8313-13e8c93b230e; trace=9089956b-f335-44d3-a44d-fa99d2fe4514,id=bc0a907a-a08a-4873-a32b-4ed1fbf04fa5; trace=9089956b-f335-44d3-a44d-fa99d2fe4514,id=2c27d752-e9d7-4483-9fa8-29d22c4ba789; trace=9089956b-f335-44d3-a44d-fa99d2fe4514,id=cb095d28-af3b-4abc-ae40-f67f3ef107d7; trace=9089956b-f335-44d3-a44d-fa99d2fe4514,id=501105be-4545-45e7-ba4b-9019811f674d; trace=ca9a8ab8-13f5-4449-929a-0b4fa153de54,id=ca9a8ab8-13f5-4449-929a-0b4fa153de54; trace=b7c795d9-99a9-4f59-8950-8c8de034c4a6,id=b7c795d9-99a9-4f59-8950-8c8de034c4a6; trace=35080848-63c8-4d33-b729-18d1e621acdc,id=35080848-63c8-4d33-b729-18d1e621acdc; trace=c034189e-fb71-4a1f-bf45-16b3e2bffeb6,id=c034189e-fb71-4a1f-bf45-16b3e2bffeb6; trace=9089956b-f335-44d3-a44d-fa99d2fe4514,id=8b5f4d2a-7cfd-4955-bec5-a55dd20ee99c; trace=619ff997-e61c-4667-80ac-94662ced6c5b,id=619ff997-e61c-4667-80ac-94662ced6c5b; trace=9089956b-f335-44d3-a44d-fa99d2fe4514,id=803c162b-4766-4a99-aec1-021129c43213\n"
     ]
    },
    {
     "name": "stdout",
     "output_type": "stream",
     "text": [
      "['generate_summary']\n",
      "['generate_summary']\n",
      "['generate_summary']\n",
      "['generate_summary']\n",
      "['generate_summary']\n",
      "['generate_summary']\n",
      "['generate_summary']\n",
      "['generate_summary']\n",
      "['generate_summary']\n",
      "['generate_summary']\n",
      "['generate_summary']\n",
      "['generate_summary']\n",
      "['generate_summary']\n",
      "['generate_summary']\n",
      "['generate_summary']\n",
      "['generate_summary']\n",
      "['generate_summary']\n",
      "['generate_summary']\n",
      "['generate_summary']\n",
      "['generate_summary']\n"
     ]
    },
    {
     "name": "stderr",
     "output_type": "stream",
     "text": [
      "Failed to multipart ingest runs: langsmith.utils.LangSmithAuthError: Authentication failed for https://api.smith.langchain.com/runs/multipart. HTTPError('401 Client Error: Unauthorized for url: https://api.smith.langchain.com/runs/multipart', '{\"detail\":\"Invalid token\"}')trace=9089956b-f335-44d3-a44d-fa99d2fe4514,id=484336f6-f2a6-474a-910b-8ac7cc1f8281; trace=9089956b-f335-44d3-a44d-fa99d2fe4514,id=ba8474d7-477a-4b5e-985e-60c1fc007de2; trace=9089956b-f335-44d3-a44d-fa99d2fe4514,id=112f597b-f3e6-4b2b-9e01-2598a190f089; trace=9089956b-f335-44d3-a44d-fa99d2fe4514,id=aa97f292-4508-451f-91a8-bedde87b2bf6; trace=9089956b-f335-44d3-a44d-fa99d2fe4514,id=abce86a8-96d5-4503-9a90-3c66291c2893; trace=9089956b-f335-44d3-a44d-fa99d2fe4514,id=cf156303-c5b5-47ac-8439-9e749f80eedb; trace=9089956b-f335-44d3-a44d-fa99d2fe4514,id=81b7019c-6f07-4711-8bff-f84f5b793729; trace=9089956b-f335-44d3-a44d-fa99d2fe4514,id=6f440d42-eb9d-439c-a3da-a9ff3881733e; trace=9089956b-f335-44d3-a44d-fa99d2fe4514,id=9496eaf0-20ac-4a03-9c4e-5a1670463c50; trace=9089956b-f335-44d3-a44d-fa99d2fe4514,id=fb0d57f8-95b9-4dad-ae9f-88231f78e3e4; trace=9089956b-f335-44d3-a44d-fa99d2fe4514,id=73be84f0-b2f0-484f-b55d-4322faaf275c; trace=9089956b-f335-44d3-a44d-fa99d2fe4514,id=5a6a5c68-1a78-4b80-8b36-acf3f990d188; trace=9089956b-f335-44d3-a44d-fa99d2fe4514,id=09efd2c5-0eda-465c-a08f-0e1db7bf91b1; trace=9089956b-f335-44d3-a44d-fa99d2fe4514,id=5bff83d4-9aa2-4ab1-9f8b-c4e8e6a9df86; trace=9089956b-f335-44d3-a44d-fa99d2fe4514,id=90e6ab02-1b28-44c7-84f6-416619fe48ff; trace=9089956b-f335-44d3-a44d-fa99d2fe4514,id=d44aa0df-9b69-45f9-b5f4-947d5fb37eba; trace=9089956b-f335-44d3-a44d-fa99d2fe4514,id=b7ca9234-891d-4dec-9157-f080bca63319; trace=9089956b-f335-44d3-a44d-fa99d2fe4514,id=9905aac5-52b6-494a-894d-749e711ed1fc; trace=9089956b-f335-44d3-a44d-fa99d2fe4514,id=bb4a1c00-3ad7-4d48-b2dd-93762477c4a8; trace=61ed1039-d160-4141-b166-57dbbf7766dd,id=61ed1039-d160-4141-b166-57dbbf7766dd; trace=c4c68b81-7b0b-4b5b-b10e-1ab38b8f0052,id=c4c68b81-7b0b-4b5b-b10e-1ab38b8f0052; trace=daf4f796-7b65-47fe-86ad-0f43e95ac068,id=daf4f796-7b65-47fe-86ad-0f43e95ac068; trace=7f7a5127-e3e3-425f-8f99-331b41480390,id=7f7a5127-e3e3-425f-8f99-331b41480390; trace=80917f1c-b8b6-4f9d-b279-47d0dd64d3fb,id=80917f1c-b8b6-4f9d-b279-47d0dd64d3fb; trace=08272928-3940-4093-8685-2215dd608c1c,id=08272928-3940-4093-8685-2215dd608c1c; trace=b3436e83-14f2-49d4-b3d2-ece881ed120a,id=b3436e83-14f2-49d4-b3d2-ece881ed120a; trace=38833795-a772-4417-80e3-62bb830e399e,id=38833795-a772-4417-80e3-62bb830e399e; trace=7099c64c-44e2-4881-b7f5-a22b1fb28551,id=7099c64c-44e2-4881-b7f5-a22b1fb28551; trace=0ca61096-1d8f-4f03-a9be-0b1b57dbf631,id=0ca61096-1d8f-4f03-a9be-0b1b57dbf631; trace=9089956b-f335-44d3-a44d-fa99d2fe4514,id=889881bb-deb9-4914-8941-63ff28e61d99; trace=9089956b-f335-44d3-a44d-fa99d2fe4514,id=167431bc-71c8-4059-94e8-3a645f669331; trace=926209b7-1506-467d-a899-912cfb68aaa5,id=926209b7-1506-467d-a899-912cfb68aaa5; trace=9089956b-f335-44d3-a44d-fa99d2fe4514,id=94382b60-4a65-4943-9327-abec2c78d08c\n"
     ]
    },
    {
     "name": "stdout",
     "output_type": "stream",
     "text": [
      "['generate_summary']\n",
      "['generate_summary']\n",
      "['generate_summary']\n",
      "['generate_summary']\n",
      "['generate_summary']\n",
      "['generate_summary']\n",
      "['generate_summary']\n",
      "['generate_summary']\n",
      "['generate_summary']\n",
      "['generate_summary']\n",
      "['generate_summary']\n",
      "['generate_summary']\n",
      "['generate_summary']\n",
      "['generate_summary']\n",
      "['generate_summary']\n",
      "['generate_summary']\n",
      "['generate_summary']\n",
      "['generate_summary']\n",
      "['generate_summary']\n",
      "['generate_summary']\n",
      "['generate_summary']\n"
     ]
    },
    {
     "name": "stderr",
     "output_type": "stream",
     "text": [
      "Failed to multipart ingest runs: langsmith.utils.LangSmithAuthError: Authentication failed for https://api.smith.langchain.com/runs/multipart. HTTPError('401 Client Error: Unauthorized for url: https://api.smith.langchain.com/runs/multipart', '{\"detail\":\"Invalid token\"}')trace=9089956b-f335-44d3-a44d-fa99d2fe4514,id=6fa344cc-0db1-471a-b057-b0ed7c362905; trace=9089956b-f335-44d3-a44d-fa99d2fe4514,id=42f35104-4349-4cbe-850c-786309707b8b; trace=9089956b-f335-44d3-a44d-fa99d2fe4514,id=6e64bf51-61c7-4e56-b4bf-0949852ef8db; trace=9089956b-f335-44d3-a44d-fa99d2fe4514,id=b145e1c0-68bc-4974-a663-ee76240d9672; trace=9089956b-f335-44d3-a44d-fa99d2fe4514,id=4fa2ce84-96b9-434a-8059-2d8143fef68f; trace=9089956b-f335-44d3-a44d-fa99d2fe4514,id=7d4b7c85-46cf-4dd3-95b0-8f491dee94eb; trace=9089956b-f335-44d3-a44d-fa99d2fe4514,id=12ab234a-c5fb-4e5f-ad7b-15c03e18c300; trace=9089956b-f335-44d3-a44d-fa99d2fe4514,id=c8ceeab2-1d9b-43e8-a132-2ac995cdf954; trace=9089956b-f335-44d3-a44d-fa99d2fe4514,id=93c3293b-9ed5-4eec-b9f1-6f3c675e331e; trace=9089956b-f335-44d3-a44d-fa99d2fe4514,id=57c091dc-cc50-470a-bd88-60475276d76f; trace=9089956b-f335-44d3-a44d-fa99d2fe4514,id=25c6e507-0a14-47a4-b683-d2af40d63e3a; trace=9089956b-f335-44d3-a44d-fa99d2fe4514,id=30dfc408-2d46-4f07-859c-35e37faddd04; trace=9089956b-f335-44d3-a44d-fa99d2fe4514,id=b0f3330b-7d2d-443a-80fd-434b9e088408; trace=9089956b-f335-44d3-a44d-fa99d2fe4514,id=a407a3cc-f5e7-497c-84f4-d2d86c31e1c8; trace=9089956b-f335-44d3-a44d-fa99d2fe4514,id=f1de3737-bca5-4ffc-86bb-57c555b39451; trace=9089956b-f335-44d3-a44d-fa99d2fe4514,id=1eaf38ca-e329-49b9-b059-bd1c1e7f136c; trace=9089956b-f335-44d3-a44d-fa99d2fe4514,id=e92e7988-306e-49e4-bf25-1e5b3b14f6c5; trace=9089956b-f335-44d3-a44d-fa99d2fe4514,id=8fe5dfcd-67ab-40d0-88be-75e873eb6d07; trace=9089956b-f335-44d3-a44d-fa99d2fe4514,id=88f37f68-14cd-48c0-b0e1-ba85f6c666af; trace=9089956b-f335-44d3-a44d-fa99d2fe4514,id=30bbf8cd-2933-412d-9c15-c460ce42b720; trace=9089956b-f335-44d3-a44d-fa99d2fe4514,id=e0a9cd29-564d-4d17-819d-fae6b06d7a2d; trace=9089956b-f335-44d3-a44d-fa99d2fe4514,id=ea7ecf25-401f-448a-b258-595dcc45524d; trace=9089956b-f335-44d3-a44d-fa99d2fe4514,id=a2784cb5-e99f-4bc2-92eb-6c005c7d44e1; trace=9089956b-f335-44d3-a44d-fa99d2fe4514,id=f17203e3-39f5-4c80-a867-9f03076efd54; trace=9089956b-f335-44d3-a44d-fa99d2fe4514,id=c313c8d2-9c3d-4d83-9f85-9a48448c99c1; trace=9089956b-f335-44d3-a44d-fa99d2fe4514,id=4cf33dcb-6403-4b9e-8497-3eb498fc6e15; trace=9089956b-f335-44d3-a44d-fa99d2fe4514,id=a1107c97-f0bc-480e-a70f-ba6536da86b1; trace=9089956b-f335-44d3-a44d-fa99d2fe4514,id=c3d6af44-3bcc-42f9-b007-0c3414a26254; trace=9089956b-f335-44d3-a44d-fa99d2fe4514,id=b276ad74-eeb1-430e-b80d-291b4023c19f; trace=9089956b-f335-44d3-a44d-fa99d2fe4514,id=4978ff56-c7cb-476f-bf80-ed1299a3e6aa; trace=087e940c-b192-443e-9bca-f089218ac3f2,id=087e940c-b192-443e-9bca-f089218ac3f2; trace=bef7aee9-c2b4-4078-9080-379b67b73d76,id=bef7aee9-c2b4-4078-9080-379b67b73d76; trace=7cdd5761-30ad-4a85-9afe-7885982f3607,id=7cdd5761-30ad-4a85-9afe-7885982f3607; trace=03843dc0-ade1-4e93-866e-8515dcbe24a0,id=03843dc0-ade1-4e93-866e-8515dcbe24a0; trace=c87fbe29-0547-42a6-a9d0-9b6664161d72,id=c87fbe29-0547-42a6-a9d0-9b6664161d72; trace=cf6d2bfb-86b7-4ae0-830c-b6e481bdf43d,id=cf6d2bfb-86b7-4ae0-830c-b6e481bdf43d; trace=91bfa322-aa30-4a6f-919a-d6c9703dbec8,id=91bfa322-aa30-4a6f-919a-d6c9703dbec8; trace=406ceafe-0162-431c-a1a7-cac9b2fe4bf7,id=406ceafe-0162-431c-a1a7-cac9b2fe4bf7; trace=a348ce5e-d6d3-44fa-aa40-611839056032,id=a348ce5e-d6d3-44fa-aa40-611839056032; trace=933d4858-2cfa-49f5-b354-363581fab221,id=933d4858-2cfa-49f5-b354-363581fab221; trace=914eb386-59b0-4998-8c92-3250240d4c34,id=914eb386-59b0-4998-8c92-3250240d4c34; trace=b6737ffb-4043-46f3-8a2f-afcf44bac8c0,id=b6737ffb-4043-46f3-8a2f-afcf44bac8c0; trace=3e212fd1-6008-469b-b15d-d3dc14c3840d,id=3e212fd1-6008-469b-b15d-d3dc14c3840d; trace=9089956b-f335-44d3-a44d-fa99d2fe4514,id=792886b6-a815-4bea-8def-2b28163a3386; trace=baa03214-5140-4c1d-b6cb-fb477793410c,id=baa03214-5140-4c1d-b6cb-fb477793410c; trace=ac8d7564-576b-44af-9474-9c68adcdc629,id=ac8d7564-576b-44af-9474-9c68adcdc629; trace=9089956b-f335-44d3-a44d-fa99d2fe4514,id=bb449a60-abfa-43a4-92ef-baaced788c7e; trace=9089956b-f335-44d3-a44d-fa99d2fe4514,id=ec4085ef-b2d3-413a-8401-5f06daac8b78; trace=5cfce73b-e15e-41e8-8f8b-6b1ea0c1d1ff,id=5cfce73b-e15e-41e8-8f8b-6b1ea0c1d1ff; trace=ea46c6d8-ef2b-40a4-955e-a47a3624d848,id=ea46c6d8-ef2b-40a4-955e-a47a3624d848; trace=9089956b-f335-44d3-a44d-fa99d2fe4514,id=03a4756a-44ae-4850-93de-1d1f07bc3140; trace=9089956b-f335-44d3-a44d-fa99d2fe4514,id=f5f863e6-f0f7-49aa-9fe2-99d2aab7a265; trace=8c51cee8-71bd-4c42-acc0-61655b8a84b5,id=8c51cee8-71bd-4c42-acc0-61655b8a84b5; trace=9089956b-f335-44d3-a44d-fa99d2fe4514,id=c7c2bd0b-0b72-48d0-8d3e-cf479fe55808\n"
     ]
    },
    {
     "name": "stdout",
     "output_type": "stream",
     "text": [
      "['generate_summary']\n",
      "['generate_summary']\n",
      "['generate_summary']\n",
      "['generate_summary']\n",
      "['generate_summary']\n",
      "['generate_summary']\n",
      "['generate_summary']\n",
      "['generate_summary']\n",
      "['generate_summary']\n",
      "['generate_summary']\n",
      "['generate_summary']\n",
      "['generate_summary']\n",
      "['generate_summary']\n",
      "['generate_summary']\n",
      "['generate_summary']\n",
      "['generate_summary']\n",
      "['generate_summary']\n",
      "['generate_summary']\n",
      "['generate_summary']\n",
      "['generate_summary']\n",
      "['generate_summary']\n",
      "['generate_summary']\n",
      "['generate_summary']\n",
      "['generate_summary']\n",
      "['generate_summary']\n",
      "['generate_summary']\n",
      "['generate_summary']\n",
      "['generate_summary']\n",
      "['generate_summary']\n",
      "['generate_summary']\n",
      "['generate_summary']\n",
      "['generate_summary']\n",
      "['generate_summary']\n",
      "['generate_summary']\n",
      "['generate_summary']\n",
      "['generate_summary']\n",
      "['generate_summary']\n",
      "['generate_summary']\n",
      "['generate_summary']\n",
      "['generate_summary']\n",
      "['generate_summary']\n",
      "['generate_summary']\n",
      "['generate_summary']\n",
      "['generate_summary']\n",
      "['generate_summary']\n",
      "['generate_summary']\n",
      "['generate_summary']\n",
      "['generate_summary']\n",
      "['generate_summary']\n",
      "['generate_summary']\n",
      "['generate_summary']\n",
      "['generate_summary']\n",
      "['generate_summary']\n",
      "['generate_summary']\n",
      "['generate_summary']\n",
      "['generate_summary']\n",
      "['generate_summary']\n",
      "['generate_summary']\n",
      "['generate_summary']\n",
      "['generate_summary']\n",
      "['generate_summary']\n"
     ]
    },
    {
     "name": "stderr",
     "output_type": "stream",
     "text": [
      "Failed to multipart ingest runs: langsmith.utils.LangSmithAuthError: Authentication failed for https://api.smith.langchain.com/runs/multipart. HTTPError('401 Client Error: Unauthorized for url: https://api.smith.langchain.com/runs/multipart', '{\"detail\":\"Invalid token\"}')trace=9089956b-f335-44d3-a44d-fa99d2fe4514,id=82074f30-f6de-4872-a258-91b6294e4298; trace=9089956b-f335-44d3-a44d-fa99d2fe4514,id=d3dd78da-c916-47b2-8656-78027f1488e1; trace=9089956b-f335-44d3-a44d-fa99d2fe4514,id=c1249b8f-91d7-4e98-8e67-70d0a69d5900; trace=9089956b-f335-44d3-a44d-fa99d2fe4514,id=7ab82c81-96e5-4e7e-a571-b16f94670658; trace=9089956b-f335-44d3-a44d-fa99d2fe4514,id=17ebd7e5-707b-450b-8f7d-31465c3c1f06; trace=9089956b-f335-44d3-a44d-fa99d2fe4514,id=b501e546-2304-4d17-b760-0c7da855c66c; trace=9089956b-f335-44d3-a44d-fa99d2fe4514,id=8ceb70e1-58a8-46fe-9182-572c37aa837c; trace=9089956b-f335-44d3-a44d-fa99d2fe4514,id=960a3a6f-5cc1-4945-bc00-5023fe14b58b; trace=9089956b-f335-44d3-a44d-fa99d2fe4514,id=41db334c-8665-4768-a42d-8c4e645684fd; trace=9089956b-f335-44d3-a44d-fa99d2fe4514,id=679a8efa-64e3-4d83-93c8-d0386be7cddd; trace=9089956b-f335-44d3-a44d-fa99d2fe4514,id=64f3a913-2627-4212-9d23-eac75c71207d; trace=9089956b-f335-44d3-a44d-fa99d2fe4514,id=470119b9-1d63-496c-8643-60e8397a5e84; trace=9089956b-f335-44d3-a44d-fa99d2fe4514,id=8bf45f75-b3e5-4f6e-95bb-e79c2c4b8a73; trace=9089956b-f335-44d3-a44d-fa99d2fe4514,id=813bef08-076f-44e1-af91-b3368159182d; trace=9089956b-f335-44d3-a44d-fa99d2fe4514,id=fcb885d1-29fe-4b0d-ba13-988848624aa3; trace=9089956b-f335-44d3-a44d-fa99d2fe4514,id=63ac5d25-8baa-42a8-9fac-5c82d4c1c2c4; trace=9089956b-f335-44d3-a44d-fa99d2fe4514,id=670af9fc-9969-4831-8bb8-aba29548bf69; trace=9089956b-f335-44d3-a44d-fa99d2fe4514,id=a326c5a3-aea6-4889-8991-e8bf6b70d193; trace=9089956b-f335-44d3-a44d-fa99d2fe4514,id=6b2f9930-f961-4c92-bb44-35b23e7d61af; trace=9089956b-f335-44d3-a44d-fa99d2fe4514,id=fd6ddee6-c19b-4323-ae2c-6bdf34c9de69; trace=9089956b-f335-44d3-a44d-fa99d2fe4514,id=fc416b54-9083-4467-ad73-bc6a46fc4070; trace=9089956b-f335-44d3-a44d-fa99d2fe4514,id=2bdd7f64-ab6c-4d60-8c00-2bd0a96f4717; trace=9089956b-f335-44d3-a44d-fa99d2fe4514,id=f54af48f-bdee-4664-b18a-5e6e36bc4348; trace=9089956b-f335-44d3-a44d-fa99d2fe4514,id=9430a838-9a01-426d-9d2d-b3a724a80470; trace=9089956b-f335-44d3-a44d-fa99d2fe4514,id=e1e02b5f-a736-48d6-8997-2eab8a7b9762; trace=9089956b-f335-44d3-a44d-fa99d2fe4514,id=fbaff9b7-acd8-4c28-9ac2-13186bf4c55d; trace=9089956b-f335-44d3-a44d-fa99d2fe4514,id=c5163627-fee8-4843-b1c3-15fe2f3c8496; trace=9089956b-f335-44d3-a44d-fa99d2fe4514,id=1684ec19-1e8f-45ae-a6b0-19a36f7e5fe5; trace=9089956b-f335-44d3-a44d-fa99d2fe4514,id=76b9ade4-5585-4daa-9948-4edb82584c86; trace=9089956b-f335-44d3-a44d-fa99d2fe4514,id=ec336933-e89f-482e-b181-6c15a28850a3; trace=9089956b-f335-44d3-a44d-fa99d2fe4514,id=a47767a4-3e45-4273-916f-6250e44493e2; trace=9089956b-f335-44d3-a44d-fa99d2fe4514,id=6e9590b9-5cad-4737-9c1c-4d1829df56fc; trace=9089956b-f335-44d3-a44d-fa99d2fe4514,id=fee93add-bb70-4381-9c21-3eef260501e1; trace=9089956b-f335-44d3-a44d-fa99d2fe4514,id=f88f7ca3-c915-40d9-bfdc-c18ec8fd0503; trace=9089956b-f335-44d3-a44d-fa99d2fe4514,id=bc46b512-7858-442f-a296-4919628dc961; trace=9089956b-f335-44d3-a44d-fa99d2fe4514,id=8f39594a-2979-4446-b24f-5af417704de2; trace=9089956b-f335-44d3-a44d-fa99d2fe4514,id=b0123ca6-b621-4096-9cdb-b9d9c54d77ae; trace=9089956b-f335-44d3-a44d-fa99d2fe4514,id=35dcdaba-884a-4469-8395-235328adf450; trace=9089956b-f335-44d3-a44d-fa99d2fe4514,id=12b7a4d5-3f7a-48e5-ad91-f589e421d474; trace=9089956b-f335-44d3-a44d-fa99d2fe4514,id=6bb1d3d1-1bc4-4819-af5f-ac366ddd6db3; trace=9089956b-f335-44d3-a44d-fa99d2fe4514,id=4b1388ea-fa46-48b9-a3ee-25708a4e1e3d; trace=9089956b-f335-44d3-a44d-fa99d2fe4514,id=93b5af42-b829-4fe8-905e-978d64073143; trace=9089956b-f335-44d3-a44d-fa99d2fe4514,id=3953ec59-00cf-4588-87d9-6d7d9c3f68a6; trace=9089956b-f335-44d3-a44d-fa99d2fe4514,id=4e77438a-6e6b-450a-90e7-32c28becb349; trace=9089956b-f335-44d3-a44d-fa99d2fe4514,id=71cc6ab6-214f-49b8-851c-037f36efe139; trace=9089956b-f335-44d3-a44d-fa99d2fe4514,id=4b8efb36-5e43-4c90-a7d3-5a9f95372268; trace=9089956b-f335-44d3-a44d-fa99d2fe4514,id=119aab53-5b1a-4f56-8c20-0ac3dba2d354; trace=5b0983dc-7c09-4607-b95c-1eb0706b28f8,id=5b0983dc-7c09-4607-b95c-1eb0706b28f8; trace=1381fb5d-82c2-4247-992d-9508c9370e75,id=1381fb5d-82c2-4247-992d-9508c9370e75; trace=d74b6b87-bb01-45d3-b40c-c335f3d4f7f8,id=d74b6b87-bb01-45d3-b40c-c335f3d4f7f8; trace=fcfb15f2-e331-41ce-9fcf-bd3947ee20a6,id=fcfb15f2-e331-41ce-9fcf-bd3947ee20a6; trace=05d95136-1ed7-48e5-a0cf-ede215ddf088,id=05d95136-1ed7-48e5-a0cf-ede215ddf088; trace=cae326e0-3965-4fd8-ad24-b89e4e24b6da,id=cae326e0-3965-4fd8-ad24-b89e4e24b6da; trace=c0c3a102-afec-4140-8b0a-9a96e74291a7,id=c0c3a102-afec-4140-8b0a-9a96e74291a7; trace=bee8abac-9eb1-4c8e-a1b9-6c15ab3e649e,id=bee8abac-9eb1-4c8e-a1b9-6c15ab3e649e; trace=ce211ba6-736f-4e2d-bbf4-b0ea1999a1fa,id=ce211ba6-736f-4e2d-bbf4-b0ea1999a1fa; trace=b655f741-4eba-43f4-8140-fddbdeae63ff,id=b655f741-4eba-43f4-8140-fddbdeae63ff; trace=b8aa8d9a-a0b9-4f6b-af22-fe983d02e41a,id=b8aa8d9a-a0b9-4f6b-af22-fe983d02e41a; trace=83873b06-671d-4297-97af-d7cc8967992e,id=83873b06-671d-4297-97af-d7cc8967992e; trace=4603ac27-3041-4322-b7d4-2f562a514816,id=4603ac27-3041-4322-b7d4-2f562a514816; trace=59cdd26e-132a-4e03-a64b-29633e7fcc43,id=59cdd26e-132a-4e03-a64b-29633e7fcc43; trace=432eb462-abe3-4077-b2ec-7193be280e1a,id=432eb462-abe3-4077-b2ec-7193be280e1a; trace=ae8540c9-27da-4a5e-993e-efd973df38ce,id=ae8540c9-27da-4a5e-993e-efd973df38ce; trace=aa20718c-6b9e-48c7-a825-08068e8beda9,id=aa20718c-6b9e-48c7-a825-08068e8beda9; trace=61022c88-a511-4119-aec8-2940b6f1a95d,id=61022c88-a511-4119-aec8-2940b6f1a95d; trace=2e379f80-c506-4192-ab59-be30fa1acc63,id=2e379f80-c506-4192-ab59-be30fa1acc63; trace=baf30853-f4ec-4fbc-87b5-b9bc0ff38bad,id=baf30853-f4ec-4fbc-87b5-b9bc0ff38bad; trace=dc45b8b0-f0f5-40a3-9608-3ffb7a847609,id=dc45b8b0-f0f5-40a3-9608-3ffb7a847609; trace=91d8b721-8dee-46cb-9c3c-de02fcfdfb10,id=91d8b721-8dee-46cb-9c3c-de02fcfdfb10; trace=9e4369b9-ee50-4122-91f5-a41f84c51b21,id=9e4369b9-ee50-4122-91f5-a41f84c51b21; trace=de380080-90d2-48c0-aded-cb28a6f65b6f,id=de380080-90d2-48c0-aded-cb28a6f65b6f; trace=9089956b-f335-44d3-a44d-fa99d2fe4514,id=9871fc57-5e21-4588-8339-0435c67c4dfe; trace=9089956b-f335-44d3-a44d-fa99d2fe4514,id=f3610810-bcdd-477f-9298-de00d3351a09; trace=cc2dfc29-c375-4994-858c-fc93b647164f,id=cc2dfc29-c375-4994-858c-fc93b647164f; trace=50cf9d0f-6f01-4798-ba18-0e858153583a,id=50cf9d0f-6f01-4798-ba18-0e858153583a\n"
     ]
    },
    {
     "name": "stdout",
     "output_type": "stream",
     "text": [
      "['generate_summary']\n",
      "['generate_summary']\n",
      "['generate_summary']\n",
      "['generate_summary']\n",
      "['generate_summary']\n",
      "['generate_summary']\n",
      "['generate_summary']\n",
      "['generate_summary']\n"
     ]
    },
    {
     "name": "stderr",
     "output_type": "stream",
     "text": [
      "Failed to multipart ingest runs: langsmith.utils.LangSmithAuthError: Authentication failed for https://api.smith.langchain.com/runs/multipart. HTTPError('401 Client Error: Unauthorized for url: https://api.smith.langchain.com/runs/multipart', '{\"detail\":\"Invalid token\"}')trace=9089956b-f335-44d3-a44d-fa99d2fe4514,id=50f4ac85-3cf2-4442-85b9-6061fed1034f; trace=9089956b-f335-44d3-a44d-fa99d2fe4514,id=f7cabe33-a24d-430a-8059-0f8eed0ca405; trace=9089956b-f335-44d3-a44d-fa99d2fe4514,id=81f0def7-193e-4d4b-b5b5-f0bf4a8d8918; trace=9089956b-f335-44d3-a44d-fa99d2fe4514,id=007d4178-9a20-4b57-bd64-dc6f3f29cdff; trace=9089956b-f335-44d3-a44d-fa99d2fe4514,id=9b153fd1-2434-4d83-a8ee-f70bb7820304; trace=9089956b-f335-44d3-a44d-fa99d2fe4514,id=a4afa547-4197-43ff-80ec-58c8309b48ab; trace=9089956b-f335-44d3-a44d-fa99d2fe4514,id=a2a1efc1-9dff-4529-8f28-d51e4130a368; trace=9089956b-f335-44d3-a44d-fa99d2fe4514,id=f03ac6ab-a56d-4304-86c4-e2f404336fed; trace=9089956b-f335-44d3-a44d-fa99d2fe4514,id=d6247f56-b8f5-4ae5-a5d7-fa3ef8fc0265; trace=9089956b-f335-44d3-a44d-fa99d2fe4514,id=14c83e7e-41be-4701-a239-d9ec21c88b20; trace=9089956b-f335-44d3-a44d-fa99d2fe4514,id=29127ecd-9fb0-43fb-9bc0-1d676f070742; trace=9089956b-f335-44d3-a44d-fa99d2fe4514,id=87c4c7b8-33c7-4e5e-843b-94f633fb09ae; trace=9089956b-f335-44d3-a44d-fa99d2fe4514,id=b8be315b-8aec-4e23-a66a-df48cbaafc94; trace=9089956b-f335-44d3-a44d-fa99d2fe4514,id=0c3804d7-3a08-4969-a232-36c44c0d373e; trace=9089956b-f335-44d3-a44d-fa99d2fe4514,id=2081c925-73c2-40f0-bce4-76e2dd7691e2; trace=9089956b-f335-44d3-a44d-fa99d2fe4514,id=113f00f5-8c16-49d2-876a-dd62735e7381; trace=9089956b-f335-44d3-a44d-fa99d2fe4514,id=1b1d5afd-624e-4c9f-97d0-652d2f01a275; trace=9089956b-f335-44d3-a44d-fa99d2fe4514,id=f7075d8d-1a45-47c8-b27f-14edbbaf2d10; trace=9089956b-f335-44d3-a44d-fa99d2fe4514,id=8f71aabd-8029-43f3-8728-8dfd871f3cd6; trace=9089956b-f335-44d3-a44d-fa99d2fe4514,id=1742f9e3-be82-48a1-860b-7e1cb3a50874; trace=9089956b-f335-44d3-a44d-fa99d2fe4514,id=a47fed71-f562-4155-97dd-a49a5b9037f2; trace=9089956b-f335-44d3-a44d-fa99d2fe4514,id=8e5a1683-3335-475b-b762-3c96fc8895f9; trace=9089956b-f335-44d3-a44d-fa99d2fe4514,id=172a9a47-7ecd-4a0e-9bbf-26ca8aa844c6; trace=9089956b-f335-44d3-a44d-fa99d2fe4514,id=2404743b-4ae8-4384-a32c-36ab6d4e89b1; trace=9089956b-f335-44d3-a44d-fa99d2fe4514,id=958e58a4-cdf9-4c34-a8a0-d2ceb84dbbc0; trace=9089956b-f335-44d3-a44d-fa99d2fe4514,id=dba3aaa7-300c-47b5-aadd-b9bac94e6c54; trace=9089956b-f335-44d3-a44d-fa99d2fe4514,id=04381b23-c9d7-4893-a414-24367eb99fc3; trace=9089956b-f335-44d3-a44d-fa99d2fe4514,id=8d8e4685-3746-46c3-bd78-bc167855b795; trace=9089956b-f335-44d3-a44d-fa99d2fe4514,id=a40ef5cd-c117-4438-a04e-c2d775083cd0; trace=9089956b-f335-44d3-a44d-fa99d2fe4514,id=a6572eb3-ec67-45da-985b-89650f9e8d18; trace=9089956b-f335-44d3-a44d-fa99d2fe4514,id=6a336f7f-a321-41a6-b885-ac4981758514; trace=9089956b-f335-44d3-a44d-fa99d2fe4514,id=b9bf4ad7-86a3-45ed-8b92-de41c6bc6414; trace=9089956b-f335-44d3-a44d-fa99d2fe4514,id=07f5f3c4-2490-46e8-902f-372e4f12e8e9; trace=9089956b-f335-44d3-a44d-fa99d2fe4514,id=0fad200b-1a5e-4541-be7a-a99803edef25; trace=9089956b-f335-44d3-a44d-fa99d2fe4514,id=6a6003dd-5d79-4674-bfcb-2d46958d5088; trace=9089956b-f335-44d3-a44d-fa99d2fe4514,id=68a12c51-77db-4c89-a761-fdbe46594981; trace=9089956b-f335-44d3-a44d-fa99d2fe4514,id=97c9882c-a272-47f3-a5d1-c36631a6ec10; trace=9089956b-f335-44d3-a44d-fa99d2fe4514,id=415da74d-7a1b-41f8-be40-8f904adfab89; trace=9089956b-f335-44d3-a44d-fa99d2fe4514,id=d70dbfd3-a130-4dc9-878c-ff408a46bd7f; trace=9089956b-f335-44d3-a44d-fa99d2fe4514,id=ae5af112-c50b-42fb-a0cd-77a43f24e1dc; trace=9089956b-f335-44d3-a44d-fa99d2fe4514,id=69fc95db-8b77-4682-b24b-eb24f4dce857; trace=9089956b-f335-44d3-a44d-fa99d2fe4514,id=4e98a184-8a15-46ef-94cc-9e37159409d7; trace=9089956b-f335-44d3-a44d-fa99d2fe4514,id=a8eeb74c-f29b-48ad-bdf1-7b21792b7f3e; trace=9089956b-f335-44d3-a44d-fa99d2fe4514,id=b8ab80ac-ee4b-45d8-ab6e-0cc1f26124c0; trace=9089956b-f335-44d3-a44d-fa99d2fe4514,id=a15e545c-025e-4292-8018-7ce1dc457af1; trace=9089956b-f335-44d3-a44d-fa99d2fe4514,id=0ded9626-0d7d-4a43-a3ad-7925c14c906b; trace=9089956b-f335-44d3-a44d-fa99d2fe4514,id=6d16ab6f-99d0-4f77-9c96-173887a1feae; trace=9089956b-f335-44d3-a44d-fa99d2fe4514,id=7722e7bf-49f8-4fbb-a8b6-b6cd1f4d1971; trace=9089956b-f335-44d3-a44d-fa99d2fe4514,id=d3b21d7c-4485-45e3-809b-8ea739b7f38e; trace=9089956b-f335-44d3-a44d-fa99d2fe4514,id=fe94859a-770c-4621-b4af-06cf69d3a0ed; trace=9089956b-f335-44d3-a44d-fa99d2fe4514,id=ca0c26e0-ba61-4d52-b244-5d9e0bddc5a7; trace=9089956b-f335-44d3-a44d-fa99d2fe4514,id=9b5570a5-41a8-49a3-ac8a-95c4e7519256; trace=9089956b-f335-44d3-a44d-fa99d2fe4514,id=e98ecf40-67b2-4415-a8eb-b87b68515720; trace=9089956b-f335-44d3-a44d-fa99d2fe4514,id=88d12ae5-2847-435b-a0af-295e0474d124; trace=9089956b-f335-44d3-a44d-fa99d2fe4514,id=a1110771-c217-4456-8c1a-c92c2d6401be; trace=9089956b-f335-44d3-a44d-fa99d2fe4514,id=7affcb3d-db7b-4ba8-a81e-65a56dd05b68; trace=9089956b-f335-44d3-a44d-fa99d2fe4514,id=9897e465-ddc2-4f38-8570-796aac292a11; trace=9089956b-f335-44d3-a44d-fa99d2fe4514,id=6aee6c6f-c8ce-4c45-8b92-d4a315045e79; trace=9089956b-f335-44d3-a44d-fa99d2fe4514,id=625a599b-3a7e-42c4-b37f-4feb75c3f975; trace=9089956b-f335-44d3-a44d-fa99d2fe4514,id=7214f759-7fca-4a98-8e95-bba3f5ef65dd; trace=9089956b-f335-44d3-a44d-fa99d2fe4514,id=f16443e4-dc50-4f88-831e-8f815f138663; trace=9089956b-f335-44d3-a44d-fa99d2fe4514,id=214a6635-89d8-4273-856c-700a3b72ddff; trace=9089956b-f335-44d3-a44d-fa99d2fe4514,id=001e7911-013d-4bb0-95e3-e584d4d3da25; trace=9089956b-f335-44d3-a44d-fa99d2fe4514,id=1907273a-5d96-4bc9-9478-9e3f49f3a74a; trace=9089956b-f335-44d3-a44d-fa99d2fe4514,id=58b329db-9462-4bd1-90a7-7418e3538e70; trace=9089956b-f335-44d3-a44d-fa99d2fe4514,id=695e386c-6840-4ecd-9d7f-2f70907f2fab; trace=9089956b-f335-44d3-a44d-fa99d2fe4514,id=abd433c6-9a8f-49d7-9b05-0a1d8f82ef9a\n"
     ]
    },
    {
     "name": "stdout",
     "output_type": "stream",
     "text": [
      "['generate_summary']\n",
      "['generate_summary']\n",
      "['generate_summary']\n",
      "['generate_summary']\n",
      "['generate_summary']\n",
      "['generate_summary']\n",
      "['generate_summary']\n",
      "['generate_summary']\n",
      "['generate_summary']\n"
     ]
    },
    {
     "name": "stderr",
     "output_type": "stream",
     "text": [
      "Failed to multipart ingest runs: langsmith.utils.LangSmithAuthError: Authentication failed for https://api.smith.langchain.com/runs/multipart. HTTPError('401 Client Error: Unauthorized for url: https://api.smith.langchain.com/runs/multipart', '{\"detail\":\"Invalid token\"}')trace=9089956b-f335-44d3-a44d-fa99d2fe4514,id=c41c4968-a45f-4f11-a440-f471b0155e85; trace=9089956b-f335-44d3-a44d-fa99d2fe4514,id=934df300-abb0-4cdc-bffa-e0f54bb21928; trace=9089956b-f335-44d3-a44d-fa99d2fe4514,id=98c0f16f-6965-4bd1-9d7a-4b93a5740cef; trace=9089956b-f335-44d3-a44d-fa99d2fe4514,id=388821f6-2883-4caa-acab-b1c2a058ff10; trace=9089956b-f335-44d3-a44d-fa99d2fe4514,id=77424194-ca5c-4309-a25e-15f3adafc26e; trace=9089956b-f335-44d3-a44d-fa99d2fe4514,id=e6b3f3db-8daa-4349-9a8f-db31e6f4929a; trace=9089956b-f335-44d3-a44d-fa99d2fe4514,id=997cd6d1-504f-4849-a390-5444c727b782; trace=9089956b-f335-44d3-a44d-fa99d2fe4514,id=14ec1a26-23a4-4180-a1a7-222a47f30ac5; trace=9089956b-f335-44d3-a44d-fa99d2fe4514,id=9acd1759-597a-4842-b111-70e43b8f4b51; trace=9089956b-f335-44d3-a44d-fa99d2fe4514,id=49eaca86-c6b9-4595-94b4-cc4811994e6d; trace=9089956b-f335-44d3-a44d-fa99d2fe4514,id=3990d3ed-4d77-4869-897f-b4c8d89a30bd; trace=9089956b-f335-44d3-a44d-fa99d2fe4514,id=8a9dc84c-b4e6-4ea3-ab89-a5764b872766; trace=9089956b-f335-44d3-a44d-fa99d2fe4514,id=06193ea6-6930-4b61-a65f-40c66a812f66; trace=9089956b-f335-44d3-a44d-fa99d2fe4514,id=f678edbf-ba1f-4d82-9629-3058d43ed241; trace=9089956b-f335-44d3-a44d-fa99d2fe4514,id=6fc6cac1-c873-4dac-aa55-dff4674775d4; trace=9089956b-f335-44d3-a44d-fa99d2fe4514,id=fed3e1c6-e391-4780-ac36-ff668c64f92d; trace=9089956b-f335-44d3-a44d-fa99d2fe4514,id=f65faced-be29-407d-8d25-f65f1144b7f7; trace=9089956b-f335-44d3-a44d-fa99d2fe4514,id=5c8705ef-b372-402d-b63c-0f3c090b140c; trace=9089956b-f335-44d3-a44d-fa99d2fe4514,id=cdadf78f-91aa-4234-a0be-467eb6797fb4; trace=9089956b-f335-44d3-a44d-fa99d2fe4514,id=ed6882e1-b23f-4632-874a-e9d4328879bf; trace=9089956b-f335-44d3-a44d-fa99d2fe4514,id=533aae93-81a7-48d6-8da6-8e73c20c44f4; trace=9089956b-f335-44d3-a44d-fa99d2fe4514,id=7da54721-5728-4f6b-8d20-7fffb11d1f3e; trace=9089956b-f335-44d3-a44d-fa99d2fe4514,id=791e4ca6-067b-4690-bbb9-bda35db427a1; trace=9089956b-f335-44d3-a44d-fa99d2fe4514,id=38ca82c0-973b-437a-ae8f-62c52771a563; trace=9089956b-f335-44d3-a44d-fa99d2fe4514,id=b2b48449-4fae-436d-b087-f61df0f4efdc; trace=9089956b-f335-44d3-a44d-fa99d2fe4514,id=a3dbecc2-06c9-47c9-9759-3e33771bb8a9; trace=9089956b-f335-44d3-a44d-fa99d2fe4514,id=82c7f6a0-3b66-4941-b85f-aab1ed353848; trace=9089956b-f335-44d3-a44d-fa99d2fe4514,id=53eae828-ba62-436c-be06-d0340497c6d4; trace=9089956b-f335-44d3-a44d-fa99d2fe4514,id=10357583-eaba-4b70-9207-db3d1fa103d7; trace=9089956b-f335-44d3-a44d-fa99d2fe4514,id=35c39f69-dcca-4804-8161-dada582aaf50; trace=9089956b-f335-44d3-a44d-fa99d2fe4514,id=ed450816-5752-4ebb-92ac-28ff3dc94915; trace=9089956b-f335-44d3-a44d-fa99d2fe4514,id=fddb2880-defc-4a38-9462-71d79373ccac; trace=9089956b-f335-44d3-a44d-fa99d2fe4514,id=dd4f497b-cd9e-417d-862c-4a221bcd0a0a; trace=9089956b-f335-44d3-a44d-fa99d2fe4514,id=02e79081-4846-47b0-96ea-b0b1c3679bff; trace=9089956b-f335-44d3-a44d-fa99d2fe4514,id=dd43d763-b703-4784-a273-43bc9ad04984; trace=9089956b-f335-44d3-a44d-fa99d2fe4514,id=32266777-a4fc-423f-a671-c1d95fc62bcc; trace=9089956b-f335-44d3-a44d-fa99d2fe4514,id=d1cc04f7-304c-4e62-b0e6-8d079bafc306; trace=9089956b-f335-44d3-a44d-fa99d2fe4514,id=5db9bf44-4c09-425c-9cf4-efa1a5efad11; trace=9089956b-f335-44d3-a44d-fa99d2fe4514,id=a96c65ae-b205-4236-b9d8-a0928908a524; trace=9089956b-f335-44d3-a44d-fa99d2fe4514,id=f6e15e1f-f8de-4f2a-8816-a36cb174e295; trace=9089956b-f335-44d3-a44d-fa99d2fe4514,id=464cb458-f09d-48db-a4f5-8dd18a69208c; trace=9089956b-f335-44d3-a44d-fa99d2fe4514,id=5953f1c4-9fe5-40ce-9c7a-d829fccbac9a; trace=9089956b-f335-44d3-a44d-fa99d2fe4514,id=727dac60-50c7-415d-85f5-24b2310e81e2; trace=9089956b-f335-44d3-a44d-fa99d2fe4514,id=2b0aebcb-d824-48a9-ab3d-999de0a8a5ef; trace=9089956b-f335-44d3-a44d-fa99d2fe4514,id=7dfd3375-35c9-4e62-b966-290dfe9f1227; trace=9089956b-f335-44d3-a44d-fa99d2fe4514,id=22741697-fd15-4d20-97fd-1a93459cc0c6; trace=9089956b-f335-44d3-a44d-fa99d2fe4514,id=eb86b576-8891-49f1-a4cf-3348af1d18c1; trace=9089956b-f335-44d3-a44d-fa99d2fe4514,id=4d108e62-7841-4a00-bb40-fd3ce6aba483; trace=9089956b-f335-44d3-a44d-fa99d2fe4514,id=92ef7013-8321-4068-b4c7-4db9cfef504f; trace=9089956b-f335-44d3-a44d-fa99d2fe4514,id=86dc45fe-be54-4ce6-be3b-d97c99c4af84; trace=9089956b-f335-44d3-a44d-fa99d2fe4514,id=ce3aeba9-50cb-40c5-878a-c8ef348cd0b3; trace=9089956b-f335-44d3-a44d-fa99d2fe4514,id=27699716-e08a-4025-aa46-f496a838b3a7; trace=9089956b-f335-44d3-a44d-fa99d2fe4514,id=0412dd5b-4c1d-4794-95f1-630ed647057a; trace=9089956b-f335-44d3-a44d-fa99d2fe4514,id=32f97379-d721-429b-96db-5e638078a103; trace=9089956b-f335-44d3-a44d-fa99d2fe4514,id=55b87361-2f9c-45cc-b127-8c8e51abaa1a; trace=9089956b-f335-44d3-a44d-fa99d2fe4514,id=d3cc3853-af22-46af-923c-fa4d0450c5ef; trace=187f2dde-c0b3-4a56-a469-38f85958b78b,id=187f2dde-c0b3-4a56-a469-38f85958b78b; trace=c7525fb4-121b-43ff-a60d-04ed8dbf7d57,id=c7525fb4-121b-43ff-a60d-04ed8dbf7d57; trace=908a3b85-cbee-4ffd-a04a-854fea420801,id=908a3b85-cbee-4ffd-a04a-854fea420801; trace=c39680c7-44d1-42fa-867d-c1b314a1fca2,id=c39680c7-44d1-42fa-867d-c1b314a1fca2; trace=30debdff-4b3d-4146-974d-24b7460e29a3,id=30debdff-4b3d-4146-974d-24b7460e29a3; trace=a5df1d12-afe1-41b1-bd95-68d731628962,id=a5df1d12-afe1-41b1-bd95-68d731628962; trace=befc8b16-7c64-4c12-896d-5eb55ac37b27,id=befc8b16-7c64-4c12-896d-5eb55ac37b27; trace=f37d7657-affc-45c5-bb00-d0c6e711d4c0,id=f37d7657-affc-45c5-bb00-d0c6e711d4c0; trace=41dcdf73-5e85-4c13-a60c-b5e682358733,id=41dcdf73-5e85-4c13-a60c-b5e682358733; trace=380e185b-b930-42ec-bee4-a742a77e91b2,id=380e185b-b930-42ec-bee4-a742a77e91b2; trace=8ec6ad26-6d71-4202-a94f-5be720940e3d,id=8ec6ad26-6d71-4202-a94f-5be720940e3d; trace=e7ceb001-ebe7-4545-8209-c2d0a3db0e8a,id=e7ceb001-ebe7-4545-8209-c2d0a3db0e8a; trace=7427a0a5-5242-4eb6-abff-59a2c9297f6a,id=7427a0a5-5242-4eb6-abff-59a2c9297f6a; trace=a9618429-a02d-4124-ad5e-a6a57470bd7a,id=a9618429-a02d-4124-ad5e-a6a57470bd7a; trace=118f6028-606f-4d0d-8931-83bb3cd3251f,id=118f6028-606f-4d0d-8931-83bb3cd3251f; trace=0cdaded6-8596-4b9a-8deb-a76e36d8256f,id=0cdaded6-8596-4b9a-8deb-a76e36d8256f\n"
     ]
    },
    {
     "name": "stdout",
     "output_type": "stream",
     "text": [
      "['generate_summary']\n",
      "['generate_summary']\n",
      "['generate_summary']\n",
      "['generate_summary']\n",
      "['generate_summary']\n",
      "['generate_summary']\n"
     ]
    },
    {
     "name": "stderr",
     "output_type": "stream",
     "text": [
      "Failed to multipart ingest runs: langsmith.utils.LangSmithAuthError: Authentication failed for https://api.smith.langchain.com/runs/multipart. HTTPError('401 Client Error: Unauthorized for url: https://api.smith.langchain.com/runs/multipart', '{\"detail\":\"Invalid token\"}')trace=9089956b-f335-44d3-a44d-fa99d2fe4514,id=387775b9-75d6-4275-9152-7d7ab488cd1e; trace=9089956b-f335-44d3-a44d-fa99d2fe4514,id=4f160096-f0dd-469b-a2b1-9d9f8dc865ec; trace=9089956b-f335-44d3-a44d-fa99d2fe4514,id=409babe4-ce90-4fe5-a8c2-f38e96dc5826; trace=9089956b-f335-44d3-a44d-fa99d2fe4514,id=789db513-06d7-4f96-8128-fd7081b0a662; trace=9089956b-f335-44d3-a44d-fa99d2fe4514,id=33163421-744c-43be-9efd-41c826b91a85; trace=9089956b-f335-44d3-a44d-fa99d2fe4514,id=1a19b42c-e8be-410e-af5e-7f1f4fef6d9d; trace=9089956b-f335-44d3-a44d-fa99d2fe4514,id=94db45cf-2f3d-4a59-8894-f84470f15ebe; trace=9089956b-f335-44d3-a44d-fa99d2fe4514,id=2672759f-7c9c-409a-b928-9519c3fc7a30; trace=9089956b-f335-44d3-a44d-fa99d2fe4514,id=634f8b91-bfd6-41d0-9ebe-16eb65af02fd; trace=9089956b-f335-44d3-a44d-fa99d2fe4514,id=4ddc45e7-3624-4b6b-93b2-f77c3ac998d2; trace=9089956b-f335-44d3-a44d-fa99d2fe4514,id=3dbcdac2-f63f-4eed-8dfd-a3645ea8b873; trace=9089956b-f335-44d3-a44d-fa99d2fe4514,id=0882f75d-2cc7-4024-859c-340b789d4b61; trace=9089956b-f335-44d3-a44d-fa99d2fe4514,id=8f29849b-e86a-40e2-85ed-c0f820cf899e; trace=9089956b-f335-44d3-a44d-fa99d2fe4514,id=821cfe1f-b2ef-4cbd-9f99-f1a8bfd42392; trace=9089956b-f335-44d3-a44d-fa99d2fe4514,id=0764cc06-d4fd-4f4e-a25c-edda4022f268; trace=9089956b-f335-44d3-a44d-fa99d2fe4514,id=ddc647b9-2b2e-47c9-ae89-8c58d62bc026; trace=9089956b-f335-44d3-a44d-fa99d2fe4514,id=a2d385a2-404f-4658-9a6e-154ce4605a96; trace=9089956b-f335-44d3-a44d-fa99d2fe4514,id=d02b9185-b0b7-46c3-9eae-13539a138c27; trace=9089956b-f335-44d3-a44d-fa99d2fe4514,id=244e12f1-263a-429e-aa28-e5fbbe5e1938; trace=c07d481b-e78c-41d7-bb57-2e708e26cf31,id=c07d481b-e78c-41d7-bb57-2e708e26cf31; trace=5ccc724b-8b27-4a71-b26b-6b0c63c0bad9,id=5ccc724b-8b27-4a71-b26b-6b0c63c0bad9; trace=55471733-9c43-4f50-a641-d258c7a4fc0c,id=55471733-9c43-4f50-a641-d258c7a4fc0c; trace=2489362f-7abe-4106-8b6d-402175c8a7ed,id=2489362f-7abe-4106-8b6d-402175c8a7ed; trace=25f48e23-a438-4d5f-a56c-dd4d320db4ac,id=25f48e23-a438-4d5f-a56c-dd4d320db4ac; trace=5df6e2e6-5cc5-4816-ab5c-58a000b49381,id=5df6e2e6-5cc5-4816-ab5c-58a000b49381; trace=3fd0ba65-f02a-4f87-8308-b0785991456e,id=3fd0ba65-f02a-4f87-8308-b0785991456e; trace=c7b61077-9a6f-4173-af7b-b559df796ae5,id=c7b61077-9a6f-4173-af7b-b559df796ae5; trace=46ab0dea-5630-408c-8139-da5387345e57,id=46ab0dea-5630-408c-8139-da5387345e57; trace=38d87cb6-f74e-4cba-b6f0-260802260639,id=38d87cb6-f74e-4cba-b6f0-260802260639; trace=b34ccc76-7ebd-46a8-83f7-ebefd85b213c,id=b34ccc76-7ebd-46a8-83f7-ebefd85b213c; trace=4fb90d80-f85c-4451-8d89-57414c3a1912,id=4fb90d80-f85c-4451-8d89-57414c3a1912; trace=e7b810ae-18e5-4a31-8b79-a6a7b9edb219,id=e7b810ae-18e5-4a31-8b79-a6a7b9edb219; trace=f2487052-3620-41bb-9969-dfe7258200aa,id=f2487052-3620-41bb-9969-dfe7258200aa; trace=e1e0b933-f91b-4894-b091-8846cefbe5b2,id=e1e0b933-f91b-4894-b091-8846cefbe5b2; trace=45d8e56e-34c5-433f-9762-7db0e7c5d64b,id=45d8e56e-34c5-433f-9762-7db0e7c5d64b; trace=50e8b855-4e63-4cbf-9ae9-f6c8d942964d,id=50e8b855-4e63-4cbf-9ae9-f6c8d942964d; trace=51379dba-a942-430a-b28a-ce62aac6cffe,id=51379dba-a942-430a-b28a-ce62aac6cffe; trace=ad0c8b75-c3c6-431d-a5d9-6d99e7ee60a3,id=ad0c8b75-c3c6-431d-a5d9-6d99e7ee60a3; trace=ec613f6c-8351-49ed-a197-e292422b9c25,id=ec613f6c-8351-49ed-a197-e292422b9c25; trace=97a007a2-a69b-4f4a-9802-85e930934973,id=97a007a2-a69b-4f4a-9802-85e930934973; trace=29ca59da-71c6-4194-a173-fc603d78dec0,id=29ca59da-71c6-4194-a173-fc603d78dec0; trace=bce2175b-b323-4445-ad72-34328ae11bda,id=bce2175b-b323-4445-ad72-34328ae11bda; trace=cbd41fe8-787a-4a09-a7bc-feeea0be8688,id=cbd41fe8-787a-4a09-a7bc-feeea0be8688; trace=b1d23052-af66-4f95-a38a-38d498eeb652,id=b1d23052-af66-4f95-a38a-38d498eeb652; trace=cfd8fca0-e912-4c34-85f0-83374d4046e5,id=cfd8fca0-e912-4c34-85f0-83374d4046e5; trace=a7124aff-c74c-4dea-9baa-9c138fa942e1,id=a7124aff-c74c-4dea-9baa-9c138fa942e1; trace=580f43aa-19c1-4eff-bfa8-e8c94e177e0a,id=580f43aa-19c1-4eff-bfa8-e8c94e177e0a; trace=25bfc315-ed82-45ab-ae8f-2ef8eb3f3b84,id=25bfc315-ed82-45ab-ae8f-2ef8eb3f3b84; trace=6d67e939-09b1-4f8a-982a-87235b23b7b2,id=6d67e939-09b1-4f8a-982a-87235b23b7b2; trace=7fbfd628-6af9-4dfb-a0e1-cc54f1033d8f,id=7fbfd628-6af9-4dfb-a0e1-cc54f1033d8f; trace=77eaee2f-0708-4dd4-8a19-1f78da779681,id=77eaee2f-0708-4dd4-8a19-1f78da779681; trace=8c0e1e44-db52-49a2-b463-a0a83b2b4693,id=8c0e1e44-db52-49a2-b463-a0a83b2b4693; trace=d3cf6abd-c075-4f29-8710-ad0288ef3f71,id=d3cf6abd-c075-4f29-8710-ad0288ef3f71; trace=07717e6b-4292-4043-8a13-696362b445ea,id=07717e6b-4292-4043-8a13-696362b445ea; trace=faab40c8-3a95-4bde-8922-e8d7cd2a56a1,id=faab40c8-3a95-4bde-8922-e8d7cd2a56a1; trace=b6d03808-e2ea-4aae-9d74-72b702c04fa8,id=b6d03808-e2ea-4aae-9d74-72b702c04fa8; trace=cfdd6685-b399-4ca3-80c7-5768cbc72aa1,id=cfdd6685-b399-4ca3-80c7-5768cbc72aa1; trace=07a862a8-c95b-4357-b703-2f8c3ca41693,id=07a862a8-c95b-4357-b703-2f8c3ca41693; trace=89f9a741-fde7-4f89-a756-c072307f1054,id=89f9a741-fde7-4f89-a756-c072307f1054; trace=33ac0325-ae5b-45d7-a283-599161ad9382,id=33ac0325-ae5b-45d7-a283-599161ad9382; trace=5c410b90-262d-404e-9cfb-a47e7deda1cc,id=5c410b90-262d-404e-9cfb-a47e7deda1cc; trace=e6add909-a76a-44bc-8b1e-07cc5d5feaf9,id=e6add909-a76a-44bc-8b1e-07cc5d5feaf9; trace=55092040-850c-429c-b6c3-9b26e93139c9,id=55092040-850c-429c-b6c3-9b26e93139c9; trace=5032b16b-d01f-4651-9c89-a742cdeafd95,id=5032b16b-d01f-4651-9c89-a742cdeafd95; trace=5dd0b643-b817-4ddd-826f-81a19080d932,id=5dd0b643-b817-4ddd-826f-81a19080d932; trace=075a4e11-ef17-4286-9e57-0270bd1d6ed9,id=075a4e11-ef17-4286-9e57-0270bd1d6ed9; trace=44b1e543-8578-4164-94b7-f8420a6ec0b1,id=44b1e543-8578-4164-94b7-f8420a6ec0b1; trace=7c1e53f3-f227-4787-af40-fd7ccd6fc619,id=7c1e53f3-f227-4787-af40-fd7ccd6fc619; trace=af63a47a-fa71-4e01-807d-306f823ef79c,id=af63a47a-fa71-4e01-807d-306f823ef79c; trace=52f6ad23-ade9-45d2-aaa4-ddeec36765ad,id=52f6ad23-ade9-45d2-aaa4-ddeec36765ad; trace=846bc99c-6783-49a3-a75f-a7a184da01e1,id=846bc99c-6783-49a3-a75f-a7a184da01e1; trace=94953a83-f993-458d-ace1-113052274e78,id=94953a83-f993-458d-ace1-113052274e78; trace=dd5799c9-f8bf-4dee-a4c5-691663dfbafd,id=dd5799c9-f8bf-4dee-a4c5-691663dfbafd; trace=9089956b-f335-44d3-a44d-fa99d2fe4514,id=7fab54a0-913f-43ef-b441-f422ef6fed7c\n"
     ]
    },
    {
     "name": "stdout",
     "output_type": "stream",
     "text": [
      "['generate_summary']\n",
      "['generate_summary']\n",
      "['generate_summary']\n",
      "['generate_summary']\n",
      "['generate_summary']\n",
      "['generate_summary']\n",
      "['generate_summary']\n",
      "['generate_summary']\n"
     ]
    },
    {
     "name": "stderr",
     "output_type": "stream",
     "text": [
      "Failed to multipart ingest runs: langsmith.utils.LangSmithAuthError: Authentication failed for https://api.smith.langchain.com/runs/multipart. HTTPError('401 Client Error: Unauthorized for url: https://api.smith.langchain.com/runs/multipart', '{\"detail\":\"Invalid token\"}')trace=9089956b-f335-44d3-a44d-fa99d2fe4514,id=8ea9254a-c22f-4abe-937f-f02960041c1e; trace=9089956b-f335-44d3-a44d-fa99d2fe4514,id=b078f3e0-c940-4220-91c2-bda82644a503; trace=9089956b-f335-44d3-a44d-fa99d2fe4514,id=9a8a8aa3-639a-4f02-893f-b4bd0ae802b4; trace=9089956b-f335-44d3-a44d-fa99d2fe4514,id=4bd24b23-c3a8-4d0f-8e1b-bddcb938c69d; trace=9089956b-f335-44d3-a44d-fa99d2fe4514,id=c5bc05bf-4a0c-4577-ac65-9b58bb74c610; trace=9089956b-f335-44d3-a44d-fa99d2fe4514,id=c757da58-ccd0-497b-a7fb-a81cbf1b1018; trace=9089956b-f335-44d3-a44d-fa99d2fe4514,id=6cf3dc70-6f41-4254-9ad3-5c4e4b547684; trace=9089956b-f335-44d3-a44d-fa99d2fe4514,id=6d44cf40-ea25-415e-bfa2-bc2c493e8942; trace=8226090b-caf3-449d-bfdd-6f331eb0a2fc,id=8226090b-caf3-449d-bfdd-6f331eb0a2fc; trace=cb481779-2421-4b30-a76e-da3da9fc20bf,id=cb481779-2421-4b30-a76e-da3da9fc20bf; trace=d9aa5eff-4507-4bbb-97de-d81eb6beb928,id=d9aa5eff-4507-4bbb-97de-d81eb6beb928; trace=4a3ccdde-6d48-431b-bfe2-f7a1ef25ada6,id=4a3ccdde-6d48-431b-bfe2-f7a1ef25ada6; trace=9e0b45d7-3beb-4ff9-b95d-7d8ed426c1d4,id=9e0b45d7-3beb-4ff9-b95d-7d8ed426c1d4; trace=9089956b-f335-44d3-a44d-fa99d2fe4514,id=249895d2-acd2-4976-bba1-c731a37b67b5; trace=9089956b-f335-44d3-a44d-fa99d2fe4514,id=70460e5d-1091-42a4-b831-400853a671ba\n"
     ]
    },
    {
     "name": "stdout",
     "output_type": "stream",
     "text": [
      "['generate_summary']\n",
      "['generate_summary']\n",
      "['generate_summary']\n",
      "['generate_summary']\n"
     ]
    },
    {
     "name": "stderr",
     "output_type": "stream",
     "text": [
      "Failed to multipart ingest runs: langsmith.utils.LangSmithAuthError: Authentication failed for https://api.smith.langchain.com/runs/multipart. HTTPError('401 Client Error: Unauthorized for url: https://api.smith.langchain.com/runs/multipart', '{\"detail\":\"Invalid token\"}')trace=9089956b-f335-44d3-a44d-fa99d2fe4514,id=f07a372c-9598-4813-ad1d-091c248b6d6d; trace=9089956b-f335-44d3-a44d-fa99d2fe4514,id=23fab7d2-095d-4ced-88a1-efaefca0a8c5; trace=9089956b-f335-44d3-a44d-fa99d2fe4514,id=0d40a311-2940-44c4-8947-9b747d369f1f; trace=9089956b-f335-44d3-a44d-fa99d2fe4514,id=42367b30-37f9-41ec-ad79-0a1b71f308c2; trace=9089956b-f335-44d3-a44d-fa99d2fe4514,id=67eec978-83e3-4fcd-9d6a-35d2a7813f6a; trace=9089956b-f335-44d3-a44d-fa99d2fe4514,id=dbc23133-5970-48c7-bea9-ccfb1ca5656e; trace=9089956b-f335-44d3-a44d-fa99d2fe4514,id=582fb3d2-1cc5-4618-a73c-22814e25bf9a; trace=9089956b-f335-44d3-a44d-fa99d2fe4514,id=b61edc1d-db5b-4120-9e76-e6864cb721a3; trace=9089956b-f335-44d3-a44d-fa99d2fe4514,id=bccdf877-8ce4-4117-8b43-7b105f05ce0a; trace=9089956b-f335-44d3-a44d-fa99d2fe4514,id=fcd24430-aae6-4694-91c5-a9f2b1c559c9; trace=ccc6adfa-ca4e-4257-ae69-020d4153c5d5,id=ccc6adfa-ca4e-4257-ae69-020d4153c5d5; trace=6c24aace-dcf1-4ac1-a4e6-357b9aaad143,id=6c24aace-dcf1-4ac1-a4e6-357b9aaad143; trace=bc890a1b-c567-46c7-bcb7-a910f7d8378b,id=bc890a1b-c567-46c7-bcb7-a910f7d8378b; trace=bf62a058-4f1f-4e78-ac1c-b6719cf3a54e,id=bf62a058-4f1f-4e78-ac1c-b6719cf3a54e; trace=2d0cb4ff-358d-44fb-9c1f-60a8427c74a1,id=2d0cb4ff-358d-44fb-9c1f-60a8427c74a1\n",
      "Failed to multipart ingest runs: langsmith.utils.LangSmithAuthError: Authentication failed for https://api.smith.langchain.com/runs/multipart. HTTPError('401 Client Error: Unauthorized for url: https://api.smith.langchain.com/runs/multipart', '{\"detail\":\"Invalid token\"}')trace=9089956b-f335-44d3-a44d-fa99d2fe4514,id=2dbf869c-50bf-40ab-a435-a45d566eb9c2; trace=9089956b-f335-44d3-a44d-fa99d2fe4514,id=678cbb07-13ef-4f0b-9786-8959834b67b8; trace=9089956b-f335-44d3-a44d-fa99d2fe4514,id=14ecd2da-82ee-4de7-90a3-6185951a7f6c; trace=9089956b-f335-44d3-a44d-fa99d2fe4514,id=a8678457-a674-46c7-b050-287ed85382d4; trace=9089956b-f335-44d3-a44d-fa99d2fe4514,id=077e5e53-6590-442d-8713-89edc7942dce; trace=9089956b-f335-44d3-a44d-fa99d2fe4514,id=987cd78a-ac75-40af-9e96-b20b373c0c7c; trace=9089956b-f335-44d3-a44d-fa99d2fe4514,id=47c09ed1-7a80-405b-a797-7f11a504fbc0; trace=9089956b-f335-44d3-a44d-fa99d2fe4514,id=c5b14f4b-29d4-45d3-9ee1-32450ae40f44; trace=8afd0f7e-dce0-40db-bfc1-6ba57215a907,id=8afd0f7e-dce0-40db-bfc1-6ba57215a907; trace=d2606c2c-155c-403a-bd0d-abd8422e85bf,id=d2606c2c-155c-403a-bd0d-abd8422e85bf; trace=be9b29d6-a827-4801-ae84-3a0b90cd5cfd,id=be9b29d6-a827-4801-ae84-3a0b90cd5cfd; trace=129bef89-a7d9-4850-9413-b521e32fac83,id=129bef89-a7d9-4850-9413-b521e32fac83\n"
     ]
    },
    {
     "name": "stdout",
     "output_type": "stream",
     "text": [
      "['generate_summary']\n",
      "['generate_summary']\n",
      "['generate_summary']\n",
      "['generate_summary']\n",
      "['generate_summary']\n",
      "['generate_summary']\n"
     ]
    },
    {
     "name": "stderr",
     "output_type": "stream",
     "text": [
      "Failed to multipart ingest runs: langsmith.utils.LangSmithAuthError: Authentication failed for https://api.smith.langchain.com/runs/multipart. HTTPError('401 Client Error: Unauthorized for url: https://api.smith.langchain.com/runs/multipart', '{\"detail\":\"Invalid token\"}')trace=9089956b-f335-44d3-a44d-fa99d2fe4514,id=8210f31b-1046-43ed-b665-dcc38f78520a; trace=9089956b-f335-44d3-a44d-fa99d2fe4514,id=c072fab3-30b7-4ca1-8569-61191d646530; trace=9089956b-f335-44d3-a44d-fa99d2fe4514,id=16ac962d-310a-4262-9692-a66d871385fe; trace=9089956b-f335-44d3-a44d-fa99d2fe4514,id=fcc7e439-571e-49fb-a1e7-541999b7e261; trace=9089956b-f335-44d3-a44d-fa99d2fe4514,id=b8584d8e-96f5-45ba-99d8-2a066593e905; trace=9089956b-f335-44d3-a44d-fa99d2fe4514,id=5e4052b6-8d12-4553-9583-fb6a997caec8; trace=9089956b-f335-44d3-a44d-fa99d2fe4514,id=44d75333-bbd7-4f0f-baa6-6b65caef1d40; trace=9089956b-f335-44d3-a44d-fa99d2fe4514,id=2385080d-af84-40ec-8dee-debfc0eef924; trace=9089956b-f335-44d3-a44d-fa99d2fe4514,id=48fc6776-bf31-4e51-9d35-1da3bf23368a; trace=9fe8cf91-4385-4ebb-9aa0-b63350dabfcf,id=9fe8cf91-4385-4ebb-9aa0-b63350dabfcf; trace=086ff07c-c9f3-43f2-9f12-99834bdacc47,id=086ff07c-c9f3-43f2-9f12-99834bdacc47; trace=071753c7-67ac-44e1-97ff-a41ae1a02a2f,id=071753c7-67ac-44e1-97ff-a41ae1a02a2f; trace=8d760288-ad2f-4982-9969-7f4eca6cf220,id=8d760288-ad2f-4982-9969-7f4eca6cf220; trace=9089956b-f335-44d3-a44d-fa99d2fe4514,id=e0b8e77b-725a-4257-96c0-16d587bd4904; trace=251713ce-c30e-422d-a153-ed61501c5fae,id=251713ce-c30e-422d-a153-ed61501c5fae; trace=9089956b-f335-44d3-a44d-fa99d2fe4514,id=f9a15cbe-79a4-47e5-9ef7-f8e048d73dd7; trace=7cce7e1f-4458-4f18-b750-af86d79bb15a,id=7cce7e1f-4458-4f18-b750-af86d79bb15a; trace=9089956b-f335-44d3-a44d-fa99d2fe4514,id=28c613a7-e811-4541-8627-66c1f894f259\n"
     ]
    },
    {
     "name": "stdout",
     "output_type": "stream",
     "text": [
      "['generate_summary']\n"
     ]
    },
    {
     "name": "stderr",
     "output_type": "stream",
     "text": [
      "Failed to multipart ingest runs: langsmith.utils.LangSmithAuthError: Authentication failed for https://api.smith.langchain.com/runs/multipart. HTTPError('401 Client Error: Unauthorized for url: https://api.smith.langchain.com/runs/multipart', '{\"detail\":\"Invalid token\"}')trace=9089956b-f335-44d3-a44d-fa99d2fe4514,id=76b10012-78a5-4084-9d40-a806565cebbe; trace=40388a14-9f14-44af-8d34-4b5e7f1d925f,id=40388a14-9f14-44af-8d34-4b5e7f1d925f; trace=9089956b-f335-44d3-a44d-fa99d2fe4514,id=a17b9f83-7ddb-4052-9676-0dba5d87c84f\n"
     ]
    },
    {
     "name": "stdout",
     "output_type": "stream",
     "text": [
      "['generate_summary']\n",
      "['generate_summary']\n"
     ]
    },
    {
     "name": "stderr",
     "output_type": "stream",
     "text": [
      "Failed to multipart ingest runs: langsmith.utils.LangSmithAuthError: Authentication failed for https://api.smith.langchain.com/runs/multipart. HTTPError('401 Client Error: Unauthorized for url: https://api.smith.langchain.com/runs/multipart', '{\"detail\":\"Invalid token\"}')trace=9089956b-f335-44d3-a44d-fa99d2fe4514,id=6ccc9cb6-02bf-4202-963d-d09ca0319653; trace=9089956b-f335-44d3-a44d-fa99d2fe4514,id=0dd60cf6-9288-4f68-8dde-59c9756424ab; trace=09d2bb5b-f4c7-40f6-b08d-8f658a066336,id=09d2bb5b-f4c7-40f6-b08d-8f658a066336\n",
      "Failed to multipart ingest runs: langsmith.utils.LangSmithAuthError: Authentication failed for https://api.smith.langchain.com/runs/multipart. HTTPError('401 Client Error: Unauthorized for url: https://api.smith.langchain.com/runs/multipart', '{\"detail\":\"Invalid token\"}')trace=9089956b-f335-44d3-a44d-fa99d2fe4514,id=bd0503fe-e1cc-4d37-aba7-3d65535fe6f4; trace=9089956b-f335-44d3-a44d-fa99d2fe4514,id=483f1c06-052a-4db0-8a3a-e485b89c7fee; trace=bcf75bb6-e159-4a95-9286-4bddc9318748,id=bcf75bb6-e159-4a95-9286-4bddc9318748\n"
     ]
    },
    {
     "name": "stdout",
     "output_type": "stream",
     "text": [
      "['generate_summary']\n"
     ]
    },
    {
     "name": "stderr",
     "output_type": "stream",
     "text": [
      "Failed to multipart ingest runs: langsmith.utils.LangSmithAuthError: Authentication failed for https://api.smith.langchain.com/runs/multipart. HTTPError('401 Client Error: Unauthorized for url: https://api.smith.langchain.com/runs/multipart', '{\"detail\":\"Invalid token\"}')trace=9089956b-f335-44d3-a44d-fa99d2fe4514,id=d9872a8f-4a91-45da-835c-063cb98030d4; trace=f080b618-1b29-4be3-9ef8-cce48993fe83,id=f080b618-1b29-4be3-9ef8-cce48993fe83; trace=9089956b-f335-44d3-a44d-fa99d2fe4514,id=b6a1dd1d-21a4-4588-b85c-32baad36bcd7\n",
      "Failed to multipart ingest runs: langsmith.utils.LangSmithAuthError: Authentication failed for https://api.smith.langchain.com/runs/multipart. HTTPError('401 Client Error: Unauthorized for url: https://api.smith.langchain.com/runs/multipart', '{\"detail\":\"Invalid token\"}')trace=9089956b-f335-44d3-a44d-fa99d2fe4514,id=532724bd-6304-43b5-8dcd-2a263440c1a2; trace=9089956b-f335-44d3-a44d-fa99d2fe4514,id=84acf286-b0a8-4777-82cc-3cfe956be0c8; trace=9089956b-f335-44d3-a44d-fa99d2fe4514,id=1cd6b098-590d-4490-904c-3491a54afcb3; trace=9089956b-f335-44d3-a44d-fa99d2fe4514,id=96052f0b-233a-4196-ace2-635b68e039f1\n",
      "Failed to multipart ingest runs: langsmith.utils.LangSmithAuthError: Authentication failed for https://api.smith.langchain.com/runs/multipart. HTTPError('401 Client Error: Unauthorized for url: https://api.smith.langchain.com/runs/multipart', '{\"detail\":\"Invalid token\"}')trace=9089956b-f335-44d3-a44d-fa99d2fe4514,id=007548d8-e158-4591-adbb-6dbf53cf6006; trace=9089956b-f335-44d3-a44d-fa99d2fe4514,id=9cd12ada-775b-4138-93ae-aca97e417a70; trace=9089956b-f335-44d3-a44d-fa99d2fe4514,id=4081d57e-b17a-4b57-9963-b15d3b9a7ba6; trace=9089956b-f335-44d3-a44d-fa99d2fe4514,id=95aad1c9-aa55-421a-a958-95f7bfaaa5f3; trace=9089956b-f335-44d3-a44d-fa99d2fe4514,id=46fd345d-06fa-4695-ab97-9b7e486ec1ce; trace=9089956b-f335-44d3-a44d-fa99d2fe4514,id=b0bcb013-8276-4acc-9eff-721b0ca841ec; trace=9089956b-f335-44d3-a44d-fa99d2fe4514,id=e69c2ddf-c934-4b80-8d12-801a9eeaed79; trace=9089956b-f335-44d3-a44d-fa99d2fe4514,id=3278f7bd-b78c-4b4c-a1c3-b0204270756e; trace=9089956b-f335-44d3-a44d-fa99d2fe4514,id=e14a6e74-d3ea-4729-aaee-9ea8caf9c3af; trace=9089956b-f335-44d3-a44d-fa99d2fe4514,id=3d1604c0-d2e1-42c0-8418-cb0874b1b886; trace=9089956b-f335-44d3-a44d-fa99d2fe4514,id=b762330d-a09d-4419-8cb7-a3dd46e58724\n",
      "Failed to multipart ingest runs: langsmith.utils.LangSmithAuthError: Authentication failed for https://api.smith.langchain.com/runs/multipart. HTTPError('401 Client Error: Unauthorized for url: https://api.smith.langchain.com/runs/multipart', '{\"detail\":\"Invalid token\"}')trace=9089956b-f335-44d3-a44d-fa99d2fe4514,id=c5e5bbd5-7aa3-4803-8377-c72ee41fe49b; trace=9089956b-f335-44d3-a44d-fa99d2fe4514,id=e79af91a-b49f-469e-a073-98320444e7db; trace=9089956b-f335-44d3-a44d-fa99d2fe4514,id=85eaafba-2e5f-44f4-b986-2bc598d41d0a; trace=9089956b-f335-44d3-a44d-fa99d2fe4514,id=53ff1605-276d-4a6a-96dd-49b8d3dd74d1; trace=9089956b-f335-44d3-a44d-fa99d2fe4514,id=caee3325-f640-41e2-be44-b73b285cac9b; trace=9089956b-f335-44d3-a44d-fa99d2fe4514,id=1a907fec-b0d8-4ef1-a553-e3eb0b7198b5; trace=9089956b-f335-44d3-a44d-fa99d2fe4514,id=0e460e36-8bbf-4621-b93e-bd8b65dd85f0; trace=9089956b-f335-44d3-a44d-fa99d2fe4514,id=7d579543-388d-49c1-9360-45beddd8338e; trace=9089956b-f335-44d3-a44d-fa99d2fe4514,id=9b643b64-2400-49b7-a018-ac173404629c\n",
      "Failed to multipart ingest runs: langsmith.utils.LangSmithAuthError: Authentication failed for https://api.smith.langchain.com/runs/multipart. HTTPError('401 Client Error: Unauthorized for url: https://api.smith.langchain.com/runs/multipart', '{\"detail\":\"Invalid token\"}')trace=9089956b-f335-44d3-a44d-fa99d2fe4514,id=8578b701-9d68-4556-929b-dc5b1dd47ada; trace=9089956b-f335-44d3-a44d-fa99d2fe4514,id=074fd7f3-57b7-4ede-bfa6-910a3fe7984e; trace=9089956b-f335-44d3-a44d-fa99d2fe4514,id=679f1ed9-5c5a-4b20-913d-bc720afe5ade; trace=9089956b-f335-44d3-a44d-fa99d2fe4514,id=65094ac1-02b9-423c-8d1b-0f01914909ef; trace=9089956b-f335-44d3-a44d-fa99d2fe4514,id=ea33a5cb-ac58-4bb3-9494-8b9afda35ead; trace=9089956b-f335-44d3-a44d-fa99d2fe4514,id=d2006595-e889-4a8b-a757-f0f0500a0c66; trace=9089956b-f335-44d3-a44d-fa99d2fe4514,id=bbb79b21-f403-41b9-a881-15ea75291475; trace=9089956b-f335-44d3-a44d-fa99d2fe4514,id=8a2ec907-d6a0-4257-b98c-be41f00b0045; trace=9089956b-f335-44d3-a44d-fa99d2fe4514,id=240a96c5-2ed1-4fe2-9a61-6067946b3a4b; trace=9089956b-f335-44d3-a44d-fa99d2fe4514,id=6d3a5f28-92a4-4a94-b32f-df5132767a14; trace=9089956b-f335-44d3-a44d-fa99d2fe4514,id=5c008c0b-b21a-472b-a7db-2f3eae231eb9; trace=9089956b-f335-44d3-a44d-fa99d2fe4514,id=fd5658da-f03d-4f60-91b0-0da23b58dc01; trace=9089956b-f335-44d3-a44d-fa99d2fe4514,id=2b6ea3a7-2964-442c-ab06-ae952a096085; trace=9089956b-f335-44d3-a44d-fa99d2fe4514,id=5e0c69af-4975-4ef6-92e3-e3e9bdeba411; trace=9089956b-f335-44d3-a44d-fa99d2fe4514,id=93e58fec-12a4-4c21-a061-23477c307fcb; trace=9089956b-f335-44d3-a44d-fa99d2fe4514,id=17d024f1-823d-4601-b520-c9763ff45b3a\n",
      "Failed to multipart ingest runs: langsmith.utils.LangSmithAuthError: Authentication failed for https://api.smith.langchain.com/runs/multipart. HTTPError('401 Client Error: Unauthorized for url: https://api.smith.langchain.com/runs/multipart', '{\"detail\":\"Invalid token\"}')trace=9089956b-f335-44d3-a44d-fa99d2fe4514,id=072c7760-20f4-4159-a4b3-54456f56344e; trace=9089956b-f335-44d3-a44d-fa99d2fe4514,id=ff056acf-a620-41d2-b8b2-2d06b1de0ab8; trace=9089956b-f335-44d3-a44d-fa99d2fe4514,id=3fe18424-d156-4aae-ad91-6d62d1217fae; trace=9089956b-f335-44d3-a44d-fa99d2fe4514,id=15bcf093-8a3d-4388-8500-1b8039a4ab17; trace=9089956b-f335-44d3-a44d-fa99d2fe4514,id=7bf20584-1a2b-4b67-9edf-9b59ca10a5b2; trace=9089956b-f335-44d3-a44d-fa99d2fe4514,id=51e27b17-da39-487d-99cf-72d1b2a4aa05; trace=9089956b-f335-44d3-a44d-fa99d2fe4514,id=ee02d6de-0ace-4d04-817d-7a46dc5e79be; trace=9089956b-f335-44d3-a44d-fa99d2fe4514,id=f01d10fa-b55a-45a4-8505-8675ee5925b5; trace=9089956b-f335-44d3-a44d-fa99d2fe4514,id=dfb015da-164a-4527-ae29-fbb933988c4b; trace=9089956b-f335-44d3-a44d-fa99d2fe4514,id=079cbacd-48f1-437d-b919-45967ca39a63; trace=9089956b-f335-44d3-a44d-fa99d2fe4514,id=fa5e83d6-380b-4574-ae43-1959a7d8d041; trace=9089956b-f335-44d3-a44d-fa99d2fe4514,id=af872c48-d807-4900-b550-58900a8716d9; trace=9089956b-f335-44d3-a44d-fa99d2fe4514,id=a9a85c01-0eb9-43b4-970a-4b6164bdf122; trace=9089956b-f335-44d3-a44d-fa99d2fe4514,id=3d9ad0a4-6ec7-414d-8414-05980f87e064; trace=9089956b-f335-44d3-a44d-fa99d2fe4514,id=b7296318-1d8d-41a1-a8c4-70542846fe42\n",
      "Failed to multipart ingest runs: langsmith.utils.LangSmithAuthError: Authentication failed for https://api.smith.langchain.com/runs/multipart. HTTPError('401 Client Error: Unauthorized for url: https://api.smith.langchain.com/runs/multipart', '{\"detail\":\"Invalid token\"}')trace=9089956b-f335-44d3-a44d-fa99d2fe4514,id=67f2e22a-bbf6-4942-a2b7-69660ba73640; trace=9089956b-f335-44d3-a44d-fa99d2fe4514,id=5177182b-69b6-44a0-aee3-79f7c49bf573; trace=9089956b-f335-44d3-a44d-fa99d2fe4514,id=b704e6a7-b22a-40fb-92f1-7835eceb797f; trace=9089956b-f335-44d3-a44d-fa99d2fe4514,id=eb7e808f-c038-4002-aaf8-9e52dafac7a4; trace=9089956b-f335-44d3-a44d-fa99d2fe4514,id=89d40b6b-cf6b-4077-9fec-ca72379c7aac; trace=9089956b-f335-44d3-a44d-fa99d2fe4514,id=4460bf54-9ba6-4664-b6e0-83484add3219; trace=9089956b-f335-44d3-a44d-fa99d2fe4514,id=904eb342-0c70-4918-af8d-64ad9f9136c4; trace=9089956b-f335-44d3-a44d-fa99d2fe4514,id=184da441-ee09-4f45-93ce-750bee31cb0b\n",
      "Failed to multipart ingest runs: langsmith.utils.LangSmithAuthError: Authentication failed for https://api.smith.langchain.com/runs/multipart. HTTPError('401 Client Error: Unauthorized for url: https://api.smith.langchain.com/runs/multipart', '{\"detail\":\"Invalid token\"}')trace=9089956b-f335-44d3-a44d-fa99d2fe4514,id=80af1941-a2f6-4e9d-8365-fb4fa4a66fea; trace=9089956b-f335-44d3-a44d-fa99d2fe4514,id=f2e0232b-7ba2-4311-ae33-ac28a7ad7e2b; trace=9089956b-f335-44d3-a44d-fa99d2fe4514,id=c92c7b6e-5b37-47dd-8b2e-476e9097aad2\n",
      "Failed to multipart ingest runs: langsmith.utils.LangSmithAuthError: Authentication failed for https://api.smith.langchain.com/runs/multipart. HTTPError('401 Client Error: Unauthorized for url: https://api.smith.langchain.com/runs/multipart', '{\"detail\":\"Invalid token\"}')trace=9089956b-f335-44d3-a44d-fa99d2fe4514,id=8ea3a18e-3e5d-47bc-a581-71ec664eb201\n"
     ]
    },
    {
     "name": "stderr",
     "output_type": "stream",
     "text": [
      "Failed to multipart ingest runs: langsmith.utils.LangSmithAuthError: Authentication failed for https://api.smith.langchain.com/runs/multipart. HTTPError('401 Client Error: Unauthorized for url: https://api.smith.langchain.com/runs/multipart', '{\"detail\":\"Invalid token\"}')trace=9089956b-f335-44d3-a44d-fa99d2fe4514,id=061bb473-d487-4d88-bf98-2adce829bc22; trace=9089956b-f335-44d3-a44d-fa99d2fe4514,id=b3495861-4872-4ad4-8827-36b5de51a0cc; trace=9089956b-f335-44d3-a44d-fa99d2fe4514,id=44a529ae-69fe-4be1-9122-5c10585af72b\n",
      "Failed to multipart ingest runs: langsmith.utils.LangSmithAuthError: Authentication failed for https://api.smith.langchain.com/runs/multipart. HTTPError('401 Client Error: Unauthorized for url: https://api.smith.langchain.com/runs/multipart', '{\"detail\":\"Invalid token\"}')trace=9089956b-f335-44d3-a44d-fa99d2fe4514,id=f939cc65-db61-4bd0-8eaf-eb5fe1f8b2f2; trace=9089956b-f335-44d3-a44d-fa99d2fe4514,id=4498f763-9f1f-4f63-82c0-326863fd94a7\n",
      "Failed to multipart ingest runs: langsmith.utils.LangSmithAuthError: Authentication failed for https://api.smith.langchain.com/runs/multipart. HTTPError('401 Client Error: Unauthorized for url: https://api.smith.langchain.com/runs/multipart', '{\"detail\":\"Invalid token\"}')trace=9089956b-f335-44d3-a44d-fa99d2fe4514,id=1b3a175e-5bda-4e9e-a67c-725e2f474bc9\n",
      "Failed to multipart ingest runs: langsmith.utils.LangSmithAuthError: Authentication failed for https://api.smith.langchain.com/runs/multipart. HTTPError('401 Client Error: Unauthorized for url: https://api.smith.langchain.com/runs/multipart', '{\"detail\":\"Invalid token\"}')trace=9089956b-f335-44d3-a44d-fa99d2fe4514,id=7d342086-6951-41a0-a138-6dfe16ef6abf\n"
     ]
    }
   ],
   "source": [
    "async for step in app.astream(\n",
    "    {\"contents\": [doc.page_content for doc in split_docs]},\n",
    "    {\"recursion_limit\": 10},\n",
    "):\n",
    "    print(list(step.keys()))"
   ]
  },
  {
   "cell_type": "code",
   "execution_count": null,
   "id": "b0b28b30-d12b-4a30-a0e2-f897adab68c9",
   "metadata": {},
   "outputs": [],
   "source": [
    "print(step)"
   ]
  }
 ],
 "metadata": {
  "kernelspec": {
   "display_name": "Python 3 (ipykernel)",
   "language": "python",
   "name": "python3"
  },
  "language_info": {
   "codemirror_mode": {
    "name": "ipython",
    "version": 3
   },
   "file_extension": ".py",
   "mimetype": "text/x-python",
   "name": "python",
   "nbconvert_exporter": "python",
   "pygments_lexer": "ipython3",
   "version": "3.9.12"
  }
 },
 "nbformat": 4,
 "nbformat_minor": 5
}
